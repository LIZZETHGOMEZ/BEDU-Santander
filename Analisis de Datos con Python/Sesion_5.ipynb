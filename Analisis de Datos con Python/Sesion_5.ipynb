{
  "nbformat": 4,
  "nbformat_minor": 0,
  "metadata": {
    "colab": {
      "name": "Sesion_5.ipynb",
      "provenance": [],
      "mount_file_id": "1eYiUK9DzQ8rL0ZMVxZskblbEKl6iJYLw",
      "authorship_tag": "ABX9TyPZc4qdFkBbt6nBOf8p11Au",
      "include_colab_link": true
    },
    "kernelspec": {
      "name": "python3",
      "display_name": "Python 3"
    },
    "language_info": {
      "name": "python"
    }
  },
  "cells": [
    {
      "cell_type": "markdown",
      "metadata": {
        "id": "view-in-github",
        "colab_type": "text"
      },
      "source": [
        "<a href=\"https://colab.research.google.com/github/LIZZETHGOMEZ/Data-Sciene-BEDU-Santander-2021/blob/main/Analisis%20de%20Datos%20con%20Python/Sesion_5.ipynb\" target=\"_parent\"><img src=\"https://colab.research.google.com/assets/colab-badge.svg\" alt=\"Open In Colab\"/></a>"
      ]
    },
    {
      "cell_type": "markdown",
      "metadata": {
        "id": "fkmsgI5XyeMz"
      },
      "source": [
        "# Distribuciones muestrales y técnicas de evaluación de modelos"
      ]
    },
    {
      "cell_type": "code",
      "metadata": {
        "id": "TW8Pny4Sk154"
      },
      "source": [
        "import pandas as pd\n",
        "import matplotlib.pyplot as plt\n",
        "import seaborn as sns"
      ],
      "execution_count": null,
      "outputs": []
    },
    {
      "cell_type": "code",
      "metadata": {
        "colab": {
          "base_uri": "https://localhost:8080/",
          "height": 204
        },
        "id": "m7XPgWmux7l7",
        "outputId": "299dc1d5-2fe8-496d-8957-0df596473830"
      },
      "source": [
        "df = pd.read_csv('/content/drive/MyDrive/datasets_BEDU/Remoto diabetes-clean.csv')\n",
        "df.head()"
      ],
      "execution_count": null,
      "outputs": [
        {
          "output_type": "execute_result",
          "data": {
            "text/html": [
              "<div>\n",
              "<style scoped>\n",
              "    .dataframe tbody tr th:only-of-type {\n",
              "        vertical-align: middle;\n",
              "    }\n",
              "\n",
              "    .dataframe tbody tr th {\n",
              "        vertical-align: top;\n",
              "    }\n",
              "\n",
              "    .dataframe thead th {\n",
              "        text-align: right;\n",
              "    }\n",
              "</style>\n",
              "<table border=\"1\" class=\"dataframe\">\n",
              "  <thead>\n",
              "    <tr style=\"text-align: right;\">\n",
              "      <th></th>\n",
              "      <th>Unnamed: 0</th>\n",
              "      <th>pregnancies</th>\n",
              "      <th>glucose</th>\n",
              "      <th>blood_pressure</th>\n",
              "      <th>skin_thickness</th>\n",
              "      <th>insulin</th>\n",
              "      <th>bmi</th>\n",
              "      <th>diabetes_pedigree_function</th>\n",
              "      <th>age</th>\n",
              "      <th>outcome</th>\n",
              "    </tr>\n",
              "  </thead>\n",
              "  <tbody>\n",
              "    <tr>\n",
              "      <th>0</th>\n",
              "      <td>0</td>\n",
              "      <td>6</td>\n",
              "      <td>148</td>\n",
              "      <td>72</td>\n",
              "      <td>35</td>\n",
              "      <td>0</td>\n",
              "      <td>33.6</td>\n",
              "      <td>0.627</td>\n",
              "      <td>50</td>\n",
              "      <td>1</td>\n",
              "    </tr>\n",
              "    <tr>\n",
              "      <th>1</th>\n",
              "      <td>1</td>\n",
              "      <td>1</td>\n",
              "      <td>85</td>\n",
              "      <td>66</td>\n",
              "      <td>29</td>\n",
              "      <td>0</td>\n",
              "      <td>26.6</td>\n",
              "      <td>0.351</td>\n",
              "      <td>31</td>\n",
              "      <td>0</td>\n",
              "    </tr>\n",
              "    <tr>\n",
              "      <th>2</th>\n",
              "      <td>2</td>\n",
              "      <td>8</td>\n",
              "      <td>183</td>\n",
              "      <td>64</td>\n",
              "      <td>0</td>\n",
              "      <td>0</td>\n",
              "      <td>23.3</td>\n",
              "      <td>0.672</td>\n",
              "      <td>32</td>\n",
              "      <td>1</td>\n",
              "    </tr>\n",
              "    <tr>\n",
              "      <th>3</th>\n",
              "      <td>3</td>\n",
              "      <td>1</td>\n",
              "      <td>89</td>\n",
              "      <td>66</td>\n",
              "      <td>23</td>\n",
              "      <td>94</td>\n",
              "      <td>28.1</td>\n",
              "      <td>0.167</td>\n",
              "      <td>21</td>\n",
              "      <td>0</td>\n",
              "    </tr>\n",
              "    <tr>\n",
              "      <th>4</th>\n",
              "      <td>4</td>\n",
              "      <td>0</td>\n",
              "      <td>137</td>\n",
              "      <td>40</td>\n",
              "      <td>35</td>\n",
              "      <td>168</td>\n",
              "      <td>43.1</td>\n",
              "      <td>2.288</td>\n",
              "      <td>33</td>\n",
              "      <td>1</td>\n",
              "    </tr>\n",
              "  </tbody>\n",
              "</table>\n",
              "</div>"
            ],
            "text/plain": [
              "   Unnamed: 0  pregnancies  glucose  ...  diabetes_pedigree_function  age  outcome\n",
              "0           0            6      148  ...                       0.627   50        1\n",
              "1           1            1       85  ...                       0.351   31        0\n",
              "2           2            8      183  ...                       0.672   32        1\n",
              "3           3            1       89  ...                       0.167   21        0\n",
              "4           4            0      137  ...                       2.288   33        1\n",
              "\n",
              "[5 rows x 10 columns]"
            ]
          },
          "metadata": {},
          "execution_count": 3
        }
      ]
    },
    {
      "cell_type": "code",
      "metadata": {
        "colab": {
          "base_uri": "https://localhost:8080/"
        },
        "id": "Mvn_D8nlyVOd",
        "outputId": "6eda27c4-4c1d-493b-9615-b16a07d3b57d"
      },
      "source": [
        "df['glucose'].sample(n = 20, replace = False)"
      ],
      "execution_count": null,
      "outputs": [
        {
          "output_type": "execute_result",
          "data": {
            "text/plain": [
              "92      81\n",
              "193    135\n",
              "506    180\n",
              "468    120\n",
              "509    120\n",
              "731    120\n",
              "354     90\n",
              "367    101\n",
              "435    141\n",
              "586    143\n",
              "36     138\n",
              "714    102\n",
              "412    143\n",
              "467     97\n",
              "78     131\n",
              "651    117\n",
              "476    105\n",
              "695    142\n",
              "459    134\n",
              "45     180\n",
              "Name: glucose, dtype: int64"
            ]
          },
          "metadata": {},
          "execution_count": 7
        }
      ]
    },
    {
      "cell_type": "code",
      "metadata": {
        "colab": {
          "base_uri": "https://localhost:8080/"
        },
        "id": "tk_eG2XZy2sc",
        "outputId": "09225d03-17cc-4032-b5ed-9c817ed6cbdc"
      },
      "source": [
        "# Queremos una fracion del 10% de la poblacion\n",
        "df['glucose'].sample(frac = 0.1, replace = True)"
      ],
      "execution_count": null,
      "outputs": [
        {
          "output_type": "execute_result",
          "data": {
            "text/plain": [
              "463     88\n",
              "693    129\n",
              "338    152\n",
              "55      73\n",
              "693    129\n",
              "      ... \n",
              "8      197\n",
              "504     96\n",
              "122    107\n",
              "520     68\n",
              "479    132\n",
              "Name: glucose, Length: 77, dtype: int64"
            ]
          },
          "metadata": {},
          "execution_count": 8
        }
      ]
    },
    {
      "cell_type": "markdown",
      "metadata": {
        "id": "xu5h-vRUzsJ4"
      },
      "source": [
        "## Bootstrap"
      ]
    },
    {
      "cell_type": "code",
      "metadata": {
        "colab": {
          "base_uri": "https://localhost:8080/",
          "height": 265
        },
        "id": "suD3IVPHzTJq",
        "outputId": "d39cf421-b6df-4c82-c5ae-16f921fae86f"
      },
      "source": [
        "#Simulación de nuevas muestras a partir de las que tenemos\n",
        "medias = []\n",
        "\n",
        "for i in range(100_000): # el guin bajo solo es de referencia, no se lee\n",
        "  muestra = df['glucose'].sample(n = 50, replace = True)\n",
        "  medias.append(muestra.mean())\n",
        "\n",
        "# Graficamos nuestra simulacion\n",
        "medias_serie = pd.Series(medias, bins = 50)\n",
        "sns.histplot(medias_serie);"
      ],
      "execution_count": null,
      "outputs": [
        {
          "output_type": "display_data",
          "data": {
            "image/png": "[encoded data removed]",
            "text/plain": [
              "<Figure size 432x288 with 1 Axes>"
            ]
          },
          "metadata": {
            "needs_background": "light"
          }
        }
      ]
    },
    {
      "cell_type": "code",
      "metadata": {
        "colab": {
          "base_uri": "https://localhost:8080/"
        },
        "id": "QlGSFqQ80Yep",
        "outputId": "8bf3036d-c24d-4499-cad6-c3b91b124e24"
      },
      "source": [
        "# Observemos la simetría\n",
        "medias_serie.skew()"
      ],
      "execution_count": null,
      "outputs": [
        {
          "output_type": "execute_result",
          "data": {
            "text/plain": [
              "0.03318122239322465"
            ]
          },
          "metadata": {},
          "execution_count": 12
        }
      ]
    },
    {
      "cell_type": "code",
      "metadata": {
        "colab": {
          "base_uri": "https://localhost:8080/"
        },
        "id": "PaoFemV-1Nkd",
        "outputId": "6fff6607-60e8-42f4-c2e7-8e921fe9421e"
      },
      "source": [
        "#Observemos la curtosis\n",
        "medias_serie.kurtosis()"
      ],
      "execution_count": null,
      "outputs": [
        {
          "output_type": "execute_result",
          "data": {
            "text/plain": [
              "0.029240598517845218"
            ]
          },
          "metadata": {},
          "execution_count": 15
        }
      ]
    },
    {
      "cell_type": "markdown",
      "metadata": {
        "id": "9HTUaBE36TOx"
      },
      "source": [
        "### Ejercicio"
      ]
    },
    {
      "cell_type": "code",
      "metadata": {
        "colab": {
          "base_uri": "https://localhost:8080/",
          "height": 204
        },
        "id": "hqkod7hw1T-W",
        "outputId": "3c408665-dacc-45c3-bf26-ab1908f37d49"
      },
      "source": [
        "data = pd.read_csv('/content/drive/MyDrive/datasets_BEDU/Remoto us_unemployment-oct_2012.csv')\n",
        "data.head()"
      ],
      "execution_count": null,
      "outputs": [
        {
          "output_type": "execute_result",
          "data": {
            "text/html": [
              "<div>\n",
              "<style scoped>\n",
              "    .dataframe tbody tr th:only-of-type {\n",
              "        vertical-align: middle;\n",
              "    }\n",
              "\n",
              "    .dataframe tbody tr th {\n",
              "        vertical-align: top;\n",
              "    }\n",
              "\n",
              "    .dataframe thead th {\n",
              "        text-align: right;\n",
              "    }\n",
              "</style>\n",
              "<table border=\"1\" class=\"dataframe\">\n",
              "  <thead>\n",
              "    <tr style=\"text-align: right;\">\n",
              "      <th></th>\n",
              "      <th>State</th>\n",
              "      <th>Unemployment</th>\n",
              "    </tr>\n",
              "  </thead>\n",
              "  <tbody>\n",
              "    <tr>\n",
              "      <th>0</th>\n",
              "      <td>AL</td>\n",
              "      <td>7.1</td>\n",
              "    </tr>\n",
              "    <tr>\n",
              "      <th>1</th>\n",
              "      <td>AK</td>\n",
              "      <td>6.8</td>\n",
              "    </tr>\n",
              "    <tr>\n",
              "      <th>2</th>\n",
              "      <td>AZ</td>\n",
              "      <td>8.1</td>\n",
              "    </tr>\n",
              "    <tr>\n",
              "      <th>3</th>\n",
              "      <td>AR</td>\n",
              "      <td>7.2</td>\n",
              "    </tr>\n",
              "    <tr>\n",
              "      <th>4</th>\n",
              "      <td>CA</td>\n",
              "      <td>10.1</td>\n",
              "    </tr>\n",
              "  </tbody>\n",
              "</table>\n",
              "</div>"
            ],
            "text/plain": [
              "  State  Unemployment\n",
              "0    AL           7.1\n",
              "1    AK           6.8\n",
              "2    AZ           8.1\n",
              "3    AR           7.2\n",
              "4    CA          10.1"
            ]
          },
          "metadata": {},
          "execution_count": 16
        }
      ]
    },
    {
      "cell_type": "code",
      "metadata": {
        "colab": {
          "base_uri": "https://localhost:8080/"
        },
        "id": "4wU_pL646YxJ",
        "outputId": "a220b958-e1e4-4b11-d8f9-751bfbd88be8"
      },
      "source": [
        "print(f\" Media: {data['Unemployment'].mean()}\")\n",
        "print(f\" Mediana: {data['Unemployment'].median()}\")"
      ],
      "execution_count": null,
      "outputs": [
        {
          "output_type": "stream",
          "name": "stdout",
          "text": [
            " Media: 7.146\n",
            " Mediana: 7.1\n"
          ]
        }
      ]
    },
    {
      "cell_type": "code",
      "metadata": {
        "colab": {
          "base_uri": "https://localhost:8080/",
          "height": 279
        },
        "id": "h7Ljh9Z57sXY",
        "outputId": "650455ba-8c3e-4ef7-e499-45e180d472d9"
      },
      "source": [
        "sns.histplot(data['Unemployment']);"
      ],
      "execution_count": null,
      "outputs": [
        {
          "output_type": "display_data",
          "data": {
            "image/png": "[encoded data removed]",
            "text/plain": [
              "<Figure size 432x288 with 1 Axes>"
            ]
          },
          "metadata": {
            "needs_background": "light"
          }
        }
      ]
    },
    {
      "cell_type": "code",
      "metadata": {
        "colab": {
          "base_uri": "https://localhost:8080/",
          "height": 279
        },
        "id": "pLItxTHE70BY",
        "outputId": "19ad79fb-530a-468e-fb3c-65c489abd15c"
      },
      "source": [
        "sns.boxplot(x = data['Unemployment'], color = 'green');"
      ],
      "execution_count": null,
      "outputs": [
        {
          "output_type": "display_data",
          "data": {
            "image/png": "[encoded data removed]",
            "text/plain": [
              "<Figure size 432x288 with 1 Axes>"
            ]
          },
          "metadata": {
            "needs_background": "light"
          }
        }
      ]
    },
    {
      "cell_type": "code",
      "metadata": {
        "colab": {
          "base_uri": "https://localhost:8080/",
          "height": 331
        },
        "id": "zu1U3skd6i5u",
        "outputId": "1d88657e-f6f5-4431-ba76-02802d90a2d2"
      },
      "source": [
        "#Simulación de nuevas muestras a partir de las que tenemos\n",
        "medias = []\n",
        "\n",
        "for i in range(100_000): # el guin bajo solo es de referencia, no se lee\n",
        "  muestra = data['Unemployment'].sample(n = 100, replace = True)\n",
        "  medias.append(muestra.mean())\n",
        "\n",
        "# Graficamos nuestra simulacion\n",
        "medias_serie = pd.Series(medias)\n",
        "sns.histplot(medias_serie, bins = 50, color = 'orange');\n",
        "plt.title('Simulación de bootstrap con n = 100 \\n', size = 13, family = 'serif' )\n",
        "\n",
        "# Le metemos los intervalos de confianza\n",
        "limite_inferior = medias_serie.quantile(0.025)\n",
        "limite_superior = medias_serie.quantile(0.975)\n",
        "\n",
        "plt.axvline(limite_inferior, color = 'red', linestyle = '--');\n",
        "plt.axvline(limite_superior, color = 'red', linestyle = '--');\n",
        "\n",
        "print(medias_serie.skew())\n",
        "print(medias_serie.kurtosis())\n"
      ],
      "execution_count": 113,
      "outputs": [
        {
          "output_type": "stream",
          "name": "stdout",
          "text": [
            "-0.018586027301558786\n",
            "0.0033330453935858095\n"
          ]
        },
        {
          "output_type": "display_data",
          "data": {
            "image/png": "[encoded data removed]",
            "text/plain": [
              "<Figure size 432x288 with 1 Axes>"
            ]
          },
          "metadata": {
            "needs_background": "light"
          }
        }
      ]
    },
    {
      "cell_type": "code",
      "metadata": {
        "colab": {
          "base_uri": "https://localhost:8080/",
          "height": 331
        },
        "id": "99lc1atL7X5q",
        "outputId": "28f68118-0439-49b8-c271-c0c433178b00"
      },
      "source": [
        "# Con 20%\n",
        "medias = []\n",
        "\n",
        "for i in range(100_000): # el guin bajo solo es de referencia, no se lee\n",
        "  muestra = data['Unemployment'].sample(frac = 0.2, replace = True)\n",
        "  medias.append(muestra.mean())\n",
        "\n",
        "# Graficamos nuestra simulacion\n",
        "medias_serie = pd.Series(medias)\n",
        "sns.histplot(medias_serie, bins = 50, color = 'Green');\n",
        "plt.title('Simulación botstrap con 20% de la muestra\\n', size = 13, family = 'serif');\n",
        "\n",
        "# Le metemos los intervalos de confianza\n",
        "limite_inferior = medias_serie.quantile(0.025)\n",
        "limite_superior = medias_serie.quantile(0.975)\n",
        "\n",
        "plt.axvline(limite_inferior, color = 'red', linestyle = '--');\n",
        "plt.axvline(limite_superior, color = 'red', linestyle = '--');\n",
        "\n",
        "print(medias_serie.skew())\n",
        "print(medias_serie.kurtosis())"
      ],
      "execution_count": 116,
      "outputs": [
        {
          "output_type": "stream",
          "name": "stdout",
          "text": [
            "-0.05214104492923108\n",
            "-0.041741382983127906\n"
          ]
        },
        {
          "output_type": "display_data",
          "data": {
            "image/png": "[encoded data removed]",
            "text/plain": [
              "<Figure size 432x288 with 1 Axes>"
            ]
          },
          "metadata": {
            "needs_background": "light"
          }
        }
      ]
    },
    {
      "cell_type": "code",
      "metadata": {
        "colab": {
          "base_uri": "https://localhost:8080/",
          "height": 331
        },
        "id": "TKy52Oxa8dOc",
        "outputId": "ebf60ee3-4ea6-4fbc-ac0c-2de5586c001a"
      },
      "source": [
        "# Con 90% de la muestra\n",
        "medias = []\n",
        "\n",
        "for i in range(100_000): # el guin bajo solo es de referencia, no se lee\n",
        "  muestra = data['Unemployment'].sample(frac = 0.9, replace = True)\n",
        "  medias.append(muestra.mean())\n",
        "\n",
        "# Graficamos nuestra simulacion\n",
        "medias_serie = pd.Series(medias)\n",
        "sns.histplot(medias_serie, bins = 50);\n",
        "plt.title('Simulación botstrap con 90% de la muestra\\n', size = 13, family = 'serif');\n",
        "\n",
        "# Le metemos los intervalos de confianza\n",
        "limite_inferior = medias_serie.quantile(0.025)\n",
        "limite_superior = medias_serie.quantile(0.975)\n",
        "\n",
        "plt.axvline(limite_inferior, color = 'red', linestyle = '--');\n",
        "plt.axvline(limite_superior, color = 'red', linestyle = '--');\n",
        "\n",
        "print(medias_serie.skew())\n",
        "print(medias_serie.kurtosis())"
      ],
      "execution_count": 117,
      "outputs": [
        {
          "output_type": "stream",
          "name": "stdout",
          "text": [
            "-0.020071786212693364\n",
            "0.0032506423894149705\n"
          ]
        },
        {
          "output_type": "display_data",
          "data": {
            "image/png": "[encoded data removed]",
            "text/plain": [
              "<Figure size 432x288 with 1 Axes>"
            ]
          },
          "metadata": {
            "needs_background": "light"
          }
        }
      ]
    },
    {
      "cell_type": "markdown",
      "metadata": {
        "id": "8xQFuA0cjCVG"
      },
      "source": [
        "### Regresión Lineal\n"
      ]
    },
    {
      "cell_type": "code",
      "metadata": {
        "id": "_zuI0TshjEzR",
        "outputId": "fe41a56e-1590-422f-9bed-ab5360fdb923",
        "colab": {
          "base_uri": "https://localhost:8080/",
          "height": 204
        }
      },
      "source": [
        "#Usamos la base de diabetes\n",
        "diabetes = pd.read_csv('/content/drive/MyDrive/datasets_BEDU/Remoto diabetes-clean.csv', index_col = 0)\n",
        "diabetes.head()"
      ],
      "execution_count": 118,
      "outputs": [
        {
          "output_type": "execute_result",
          "data": {
            "text/html": [
              "<div>\n",
              "<style scoped>\n",
              "    .dataframe tbody tr th:only-of-type {\n",
              "        vertical-align: middle;\n",
              "    }\n",
              "\n",
              "    .dataframe tbody tr th {\n",
              "        vertical-align: top;\n",
              "    }\n",
              "\n",
              "    .dataframe thead th {\n",
              "        text-align: right;\n",
              "    }\n",
              "</style>\n",
              "<table border=\"1\" class=\"dataframe\">\n",
              "  <thead>\n",
              "    <tr style=\"text-align: right;\">\n",
              "      <th></th>\n",
              "      <th>pregnancies</th>\n",
              "      <th>glucose</th>\n",
              "      <th>blood_pressure</th>\n",
              "      <th>skin_thickness</th>\n",
              "      <th>insulin</th>\n",
              "      <th>bmi</th>\n",
              "      <th>diabetes_pedigree_function</th>\n",
              "      <th>age</th>\n",
              "      <th>outcome</th>\n",
              "    </tr>\n",
              "  </thead>\n",
              "  <tbody>\n",
              "    <tr>\n",
              "      <th>0</th>\n",
              "      <td>6</td>\n",
              "      <td>148</td>\n",
              "      <td>72</td>\n",
              "      <td>35</td>\n",
              "      <td>0</td>\n",
              "      <td>33.6</td>\n",
              "      <td>0.627</td>\n",
              "      <td>50</td>\n",
              "      <td>1</td>\n",
              "    </tr>\n",
              "    <tr>\n",
              "      <th>1</th>\n",
              "      <td>1</td>\n",
              "      <td>85</td>\n",
              "      <td>66</td>\n",
              "      <td>29</td>\n",
              "      <td>0</td>\n",
              "      <td>26.6</td>\n",
              "      <td>0.351</td>\n",
              "      <td>31</td>\n",
              "      <td>0</td>\n",
              "    </tr>\n",
              "    <tr>\n",
              "      <th>2</th>\n",
              "      <td>8</td>\n",
              "      <td>183</td>\n",
              "      <td>64</td>\n",
              "      <td>0</td>\n",
              "      <td>0</td>\n",
              "      <td>23.3</td>\n",
              "      <td>0.672</td>\n",
              "      <td>32</td>\n",
              "      <td>1</td>\n",
              "    </tr>\n",
              "    <tr>\n",
              "      <th>3</th>\n",
              "      <td>1</td>\n",
              "      <td>89</td>\n",
              "      <td>66</td>\n",
              "      <td>23</td>\n",
              "      <td>94</td>\n",
              "      <td>28.1</td>\n",
              "      <td>0.167</td>\n",
              "      <td>21</td>\n",
              "      <td>0</td>\n",
              "    </tr>\n",
              "    <tr>\n",
              "      <th>4</th>\n",
              "      <td>0</td>\n",
              "      <td>137</td>\n",
              "      <td>40</td>\n",
              "      <td>35</td>\n",
              "      <td>168</td>\n",
              "      <td>43.1</td>\n",
              "      <td>2.288</td>\n",
              "      <td>33</td>\n",
              "      <td>1</td>\n",
              "    </tr>\n",
              "  </tbody>\n",
              "</table>\n",
              "</div>"
            ],
            "text/plain": [
              "   pregnancies  glucose  ...  age  outcome\n",
              "0            6      148  ...   50        1\n",
              "1            1       85  ...   31        0\n",
              "2            8      183  ...   32        1\n",
              "3            1       89  ...   21        0\n",
              "4            0      137  ...   33        1\n",
              "\n",
              "[5 rows x 9 columns]"
            ]
          },
          "metadata": {},
          "execution_count": 118
        }
      ]
    },
    {
      "cell_type": "code",
      "metadata": {
        "id": "IPb2AICVjt3-",
        "outputId": "6d1e8528-2b75-458a-eac7-884ad82b533e",
        "colab": {
          "base_uri": "https://localhost:8080/",
          "height": 506
        }
      },
      "source": [
        "# Observemos la correlación de nuestras variables\n",
        "plt.figure(figsize = (7,6))\n",
        "sns.heatmap(diabetes.corr(), vmin = -1, vmax = 1, cmap = 'YlGnBu', annot = True);"
      ],
      "execution_count": 138,
      "outputs": [
        {
          "output_type": "display_data",
          "data": {
            "image/png": "[encoded data removed]",
            "text/plain": [
              "<Figure size 504x432 with 2 Axes>"
            ]
          },
          "metadata": {
            "needs_background": "light"
          }
        }
      ]
    },
    {
      "cell_type": "code",
      "metadata": {
        "id": "klXzuwA3Ad4f"
      },
      "source": [
        "# Cargamos las bibliotecas a usar para hacer la regresión \n",
        "from sklearn.model_selection import train_test_split\n",
        "from sklearn.linear_model import LinearRegression"
      ],
      "execution_count": 139,
      "outputs": []
    },
    {
      "cell_type": "code",
      "metadata": {
        "id": "Hi5cq5ceCgcV"
      },
      "source": [
        "# Establecemos las variables independientes y la variable a estimar\n",
        "X = df[['glucose', 'skin_thickness']]\n",
        "y = df['insulin']"
      ],
      "execution_count": 140,
      "outputs": []
    },
    {
      "cell_type": "markdown",
      "metadata": {
        "id": "yq2u2I6eECtt"
      },
      "source": [
        " Regresión utilizando un conjunto de datos de prueba"
      ]
    },
    {
      "cell_type": "code",
      "metadata": {
        "id": "OkY6i-ucCoRJ"
      },
      "source": [
        "# Dividimos nuestros datos en un connjunto de entrenamiento y otro de prueba\n",
        "# Lo normal es 70% entrenamiento y 30% de prueba\n",
        "# Se los asignamos a nuestras variables, con shuffle indicamos que queremos que saque los datos de forma aleatoria\n",
        "X_training, X_test, y_training, y_test = train_test_split(X, y, test_size=0.3, shuffle=True)"
      ],
      "execution_count": 141,
      "outputs": []
    },
    {
      "cell_type": "code",
      "metadata": {
        "id": "SmXcp-7FCoND",
        "outputId": "447b0af9-2034-4758-b085-ca58ae7dac0d",
        "colab": {
          "base_uri": "https://localhost:8080/"
        }
      },
      "source": [
        "# Sacamos la regresión\n",
        "lr = LinearRegression()\n",
        "lr.fit(X_training, y_training) # Hacemos el ajuste con los datos de entrenamiento"
      ],
      "execution_count": 142,
      "outputs": [
        {
          "output_type": "execute_result",
          "data": {
            "text/plain": [
              "LinearRegression(copy_X=True, fit_intercept=True, n_jobs=None, normalize=False)"
            ]
          },
          "metadata": {},
          "execution_count": 142
        }
      ]
    },
    {
      "cell_type": "code",
      "metadata": {
        "id": "0B-0U8arCoEP",
        "outputId": "3a2552ca-9d7d-45e0-e47c-8b9f3d838928",
        "colab": {
          "base_uri": "https://localhost:8080/"
        }
      },
      "source": [
        "#Sacamos el score que es el R2 utilizando nuestros datos de prueba\n",
        "lr.score(X_test, y_test)"
      ],
      "execution_count": 143,
      "outputs": [
        {
          "output_type": "execute_result",
          "data": {
            "text/plain": [
              "0.20277525730104062"
            ]
          },
          "metadata": {},
          "execution_count": 143
        }
      ]
    },
    {
      "cell_type": "markdown",
      "metadata": {
        "id": "t8pPokXpDWvU"
      },
      "source": [
        "Regresión entrenado a todos los datos, sin un conjunto de prueba\n",
        "\n",
        "Nota: Puede cauras un overfit (sobre estimación)\n",
        "\n",
        "Ya que podría estar ajustandose muy bien a los datos especificos que tenemos, pero si llegamos a modificarlos, quizá el modelo no funcione en otro caso. "
      ]
    },
    {
      "cell_type": "code",
      "metadata": {
        "id": "_sQvNtDdDx4v",
        "outputId": "a94344e4-ac57-4853-8f04-06d941415e62",
        "colab": {
          "base_uri": "https://localhost:8080/"
        }
      },
      "source": [
        "# Entrenamos el modelo sin datos de prueba\n",
        "lr_2 = LinearRegression()\n",
        "lr_2.fit(X, y)\n",
        "lr_2.score(X,y)"
      ],
      "execution_count": 146,
      "outputs": [
        {
          "output_type": "execute_result",
          "data": {
            "text/plain": [
              "0.28491868235030937"
            ]
          },
          "metadata": {},
          "execution_count": 146
        }
      ]
    },
    {
      "cell_type": "markdown",
      "metadata": {
        "id": "JYcZOPr1Eebc"
      },
      "source": [
        "### Ejercicio"
      ]
    },
    {
      "cell_type": "markdown",
      "metadata": {
        "id": "6JlyhwDZfURp"
      },
      "source": [
        "### Validación Cruzada"
      ]
    },
    {
      "cell_type": "code",
      "metadata": {
        "id": "8qCdU5sj8oXC"
      },
      "source": [
        "from sklearn.model_selection import cross_validate"
      ],
      "execution_count": 97,
      "outputs": []
    },
    {
      "cell_type": "code",
      "metadata": {
        "id": "xHbMaNLbctP4"
      },
      "source": [
        "lr = LinearRegression()"
      ],
      "execution_count": 98,
      "outputs": []
    },
    {
      "cell_type": "code",
      "metadata": {
        "id": "5ySIFoxUcwHH"
      },
      "source": [
        "# usando crossvalidate se encarga de hacer el fit, le pasamos todos los valores y \n",
        "# la funcion se encarga de hacer la separacion de prueba y entrenamiento\n",
        "# el mecanismo a utilizar para sacar el score, que por default es el R2\n",
        "scores = cross_validate(lr, x, y, scoring = 'r2')\n",
        "\n",
        "# Tambien podemos el crossvalidate con cv \n",
        "scores = cross_validate(lr, x, y, scoring = 'r2', cv = 6)"
      ],
      "execution_count": 108,
      "outputs": []
    },
    {
      "cell_type": "code",
      "metadata": {
        "id": "zEcTD3r1dLTU",
        "outputId": "59691293-af08-4c70-b802-9364b4bbe19a",
        "colab": {
          "base_uri": "https://localhost:8080/"
        }
      },
      "source": [
        "#Imprimimos los scores\n",
        "# Nos muestra el tiempo que se tardo en correr el fit\n",
        "# tiempo de calculo del score\n",
        "scores"
      ],
      "execution_count": 109,
      "outputs": [
        {
          "output_type": "execute_result",
          "data": {
            "text/plain": [
              "{'fit_time': array([0.00174451, 0.00170469, 0.00175357, 0.00169992, 0.00159216,\n",
              "        0.00159931]),\n",
              " 'score_time': array([0.00105023, 0.00101948, 0.00220871, 0.001019  , 0.00096035,\n",
              "        0.0010097 ]),\n",
              " 'test_score': array([0.46674452, 0.75357657, 0.76719971, 0.59642484, 0.6245579 ,\n",
              "        0.38398972])}"
            ]
          },
          "metadata": {},
          "execution_count": 109
        }
      ]
    },
    {
      "cell_type": "code",
      "metadata": {
        "id": "77zUJB0UdMid",
        "outputId": "e3528354-3bea-4f3d-a5b3-44b817f9adaa",
        "colab": {
          "base_uri": "https://localhost:8080/"
        }
      },
      "source": [
        "#Saquemos los intervalos de confianza que creamos ajustan mejor\n",
        "print(scores['test_score'].mean())\n",
        "print(f\"{scores['test_score'].mean():.3f} +/- {scores['test_score'].std():.3f}\")"
      ],
      "execution_count": 110,
      "outputs": [
        {
          "output_type": "stream",
          "name": "stdout",
          "text": [
            "0.5987488763420297\n",
            "0.599 +/- 0.139\n"
          ]
        }
      ]
    },
    {
      "cell_type": "code",
      "metadata": {
        "id": "DE3gJTnOea1A"
      },
      "source": [
        ""
      ],
      "execution_count": null,
      "outputs": []
    }
  ]
}