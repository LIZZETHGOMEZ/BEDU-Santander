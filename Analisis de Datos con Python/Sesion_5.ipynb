{
  "nbformat": 4,
  "nbformat_minor": 0,
  "metadata": {
    "colab": {
      "name": "Sesion_5.ipynb",
      "provenance": [],
      "mount_file_id": "1eYiUK9DzQ8rL0ZMVxZskblbEKl6iJYLw",
      "authorship_tag": "ABX9TyO3VM/9x+M4y7ceBQzOrnw8",
      "include_colab_link": true
    },
    "kernelspec": {
      "name": "python3",
      "display_name": "Python 3"
    },
    "language_info": {
      "name": "python"
    }
  },
  "cells": [
    {
      "cell_type": "markdown",
      "metadata": {
        "id": "view-in-github",
        "colab_type": "text"
      },
      "source": [
        "<a href=\"https://colab.research.google.com/github/LIZZETHGOMEZ/BEDU-Santander-2021/blob/main/Analisis%20de%20Datos%20con%20Python/Sesion_5.ipynb\" target=\"_parent\"><img src=\"https://colab.research.google.com/assets/colab-badge.svg\" alt=\"Open In Colab\"/></a>"
      ]
    },
    {
      "cell_type": "markdown",
      "metadata": {
        "id": "fkmsgI5XyeMz"
      },
      "source": [
        "# Distribuciones muestrales y técnicas de evaluación de modelos"
      ]
    },
    {
      "cell_type": "code",
      "metadata": {
        "id": "TW8Pny4Sk154"
      },
      "source": [
        "import pandas as pd\n",
        "import matplotlib.pyplot as plt\n",
        "import seaborn as sns"
      ],
      "execution_count": 1,
      "outputs": []
    },
    {
      "cell_type": "code",
      "metadata": {
        "colab": {
          "base_uri": "https://localhost:8080/",
          "height": 204
        },
        "id": "m7XPgWmux7l7",
        "outputId": "299dc1d5-2fe8-496d-8957-0df596473830"
      },
      "source": [
        "df = pd.read_csv('/content/drive/MyDrive/datasets_BEDU/Remoto diabetes-clean.csv')\n",
        "df.head()"
      ],
      "execution_count": 3,
      "outputs": [
        {
          "output_type": "execute_result",
          "data": {
            "text/html": [
              "<div>\n",
              "<style scoped>\n",
              "    .dataframe tbody tr th:only-of-type {\n",
              "        vertical-align: middle;\n",
              "    }\n",
              "\n",
              "    .dataframe tbody tr th {\n",
              "        vertical-align: top;\n",
              "    }\n",
              "\n",
              "    .dataframe thead th {\n",
              "        text-align: right;\n",
              "    }\n",
              "</style>\n",
              "<table border=\"1\" class=\"dataframe\">\n",
              "  <thead>\n",
              "    <tr style=\"text-align: right;\">\n",
              "      <th></th>\n",
              "      <th>Unnamed: 0</th>\n",
              "      <th>pregnancies</th>\n",
              "      <th>glucose</th>\n",
              "      <th>blood_pressure</th>\n",
              "      <th>skin_thickness</th>\n",
              "      <th>insulin</th>\n",
              "      <th>bmi</th>\n",
              "      <th>diabetes_pedigree_function</th>\n",
              "      <th>age</th>\n",
              "      <th>outcome</th>\n",
              "    </tr>\n",
              "  </thead>\n",
              "  <tbody>\n",
              "    <tr>\n",
              "      <th>0</th>\n",
              "      <td>0</td>\n",
              "      <td>6</td>\n",
              "      <td>148</td>\n",
              "      <td>72</td>\n",
              "      <td>35</td>\n",
              "      <td>0</td>\n",
              "      <td>33.6</td>\n",
              "      <td>0.627</td>\n",
              "      <td>50</td>\n",
              "      <td>1</td>\n",
              "    </tr>\n",
              "    <tr>\n",
              "      <th>1</th>\n",
              "      <td>1</td>\n",
              "      <td>1</td>\n",
              "      <td>85</td>\n",
              "      <td>66</td>\n",
              "      <td>29</td>\n",
              "      <td>0</td>\n",
              "      <td>26.6</td>\n",
              "      <td>0.351</td>\n",
              "      <td>31</td>\n",
              "      <td>0</td>\n",
              "    </tr>\n",
              "    <tr>\n",
              "      <th>2</th>\n",
              "      <td>2</td>\n",
              "      <td>8</td>\n",
              "      <td>183</td>\n",
              "      <td>64</td>\n",
              "      <td>0</td>\n",
              "      <td>0</td>\n",
              "      <td>23.3</td>\n",
              "      <td>0.672</td>\n",
              "      <td>32</td>\n",
              "      <td>1</td>\n",
              "    </tr>\n",
              "    <tr>\n",
              "      <th>3</th>\n",
              "      <td>3</td>\n",
              "      <td>1</td>\n",
              "      <td>89</td>\n",
              "      <td>66</td>\n",
              "      <td>23</td>\n",
              "      <td>94</td>\n",
              "      <td>28.1</td>\n",
              "      <td>0.167</td>\n",
              "      <td>21</td>\n",
              "      <td>0</td>\n",
              "    </tr>\n",
              "    <tr>\n",
              "      <th>4</th>\n",
              "      <td>4</td>\n",
              "      <td>0</td>\n",
              "      <td>137</td>\n",
              "      <td>40</td>\n",
              "      <td>35</td>\n",
              "      <td>168</td>\n",
              "      <td>43.1</td>\n",
              "      <td>2.288</td>\n",
              "      <td>33</td>\n",
              "      <td>1</td>\n",
              "    </tr>\n",
              "  </tbody>\n",
              "</table>\n",
              "</div>"
            ],
            "text/plain": [
              "   Unnamed: 0  pregnancies  glucose  ...  diabetes_pedigree_function  age  outcome\n",
              "0           0            6      148  ...                       0.627   50        1\n",
              "1           1            1       85  ...                       0.351   31        0\n",
              "2           2            8      183  ...                       0.672   32        1\n",
              "3           3            1       89  ...                       0.167   21        0\n",
              "4           4            0      137  ...                       2.288   33        1\n",
              "\n",
              "[5 rows x 10 columns]"
            ]
          },
          "metadata": {},
          "execution_count": 3
        }
      ]
    },
    {
      "cell_type": "code",
      "metadata": {
        "colab": {
          "base_uri": "https://localhost:8080/"
        },
        "id": "Mvn_D8nlyVOd",
        "outputId": "6eda27c4-4c1d-493b-9615-b16a07d3b57d"
      },
      "source": [
        "df['glucose'].sample(n = 20, replace = False)"
      ],
      "execution_count": 7,
      "outputs": [
        {
          "output_type": "execute_result",
          "data": {
            "text/plain": [
              "92      81\n",
              "193    135\n",
              "506    180\n",
              "468    120\n",
              "509    120\n",
              "731    120\n",
              "354     90\n",
              "367    101\n",
              "435    141\n",
              "586    143\n",
              "36     138\n",
              "714    102\n",
              "412    143\n",
              "467     97\n",
              "78     131\n",
              "651    117\n",
              "476    105\n",
              "695    142\n",
              "459    134\n",
              "45     180\n",
              "Name: glucose, dtype: int64"
            ]
          },
          "metadata": {},
          "execution_count": 7
        }
      ]
    },
    {
      "cell_type": "code",
      "metadata": {
        "colab": {
          "base_uri": "https://localhost:8080/"
        },
        "id": "tk_eG2XZy2sc",
        "outputId": "09225d03-17cc-4032-b5ed-9c817ed6cbdc"
      },
      "source": [
        "# Queremos una fracion del 10% de la poblacion\n",
        "df['glucose'].sample(frac = 0.1, replace = True)"
      ],
      "execution_count": 8,
      "outputs": [
        {
          "output_type": "execute_result",
          "data": {
            "text/plain": [
              "463     88\n",
              "693    129\n",
              "338    152\n",
              "55      73\n",
              "693    129\n",
              "      ... \n",
              "8      197\n",
              "504     96\n",
              "122    107\n",
              "520     68\n",
              "479    132\n",
              "Name: glucose, Length: 77, dtype: int64"
            ]
          },
          "metadata": {},
          "execution_count": 8
        }
      ]
    },
    {
      "cell_type": "markdown",
      "metadata": {
        "id": "xu5h-vRUzsJ4"
      },
      "source": [
        "## Bootstrap"
      ]
    },
    {
      "cell_type": "code",
      "metadata": {
        "colab": {
          "base_uri": "https://localhost:8080/",
          "height": 265
        },
        "id": "suD3IVPHzTJq",
        "outputId": "d39cf421-b6df-4c82-c5ae-16f921fae86f"
      },
      "source": [
        "#Simulación de nuevas muestras a partir de las que tenemos\n",
        "medias = []\n",
        "\n",
        "for i in range(100_000): # el guin bajo solo es de referencia, no se lee\n",
        "  muestra = df['glucose'].sample(n = 50, replace = True)\n",
        "  medias.append(muestra.mean())\n",
        "\n",
        "# Graficamos nuestra simulacion\n",
        "medias_serie = pd.Series(medias)\n",
        "sns.histplot(medias_serie);"
      ],
      "execution_count": 11,
      "outputs": [
        {
          "output_type": "display_data",
          "data": {
            "image/png": "[encoded data removed]",
            "text/plain": [
              "<Figure size 432x288 with 1 Axes>"
            ]
          },
          "metadata": {
            "needs_background": "light"
          }
        }
      ]
    },
    {
      "cell_type": "code",
      "metadata": {
        "colab": {
          "base_uri": "https://localhost:8080/"
        },
        "id": "QlGSFqQ80Yep",
        "outputId": "8bf3036d-c24d-4499-cad6-c3b91b124e24"
      },
      "source": [
        "# Observemos la simetría\n",
        "medias_serie.skew()"
      ],
      "execution_count": 12,
      "outputs": [
        {
          "output_type": "execute_result",
          "data": {
            "text/plain": [
              "0.03318122239322465"
            ]
          },
          "metadata": {},
          "execution_count": 12
        }
      ]
    },
    {
      "cell_type": "code",
      "metadata": {
        "colab": {
          "base_uri": "https://localhost:8080/"
        },
        "id": "PaoFemV-1Nkd",
        "outputId": "6fff6607-60e8-42f4-c2e7-8e921fe9421e"
      },
      "source": [
        "#Observemos la curtosis\n",
        "medias_serie.kurtosis()"
      ],
      "execution_count": 15,
      "outputs": [
        {
          "output_type": "execute_result",
          "data": {
            "text/plain": [
              "0.029240598517845218"
            ]
          },
          "metadata": {},
          "execution_count": 15
        }
      ]
    },
    {
      "cell_type": "markdown",
      "metadata": {
        "id": "9HTUaBE36TOx"
      },
      "source": [
        "### Ejercicio"
      ]
    },
    {
      "cell_type": "code",
      "metadata": {
        "colab": {
          "base_uri": "https://localhost:8080/",
          "height": 204
        },
        "id": "hqkod7hw1T-W",
        "outputId": "3c408665-dacc-45c3-bf26-ab1908f37d49"
      },
      "source": [
        "data = pd.read_csv('/content/drive/MyDrive/datasets_BEDU/Remoto us_unemployment-oct_2012.csv')\n",
        "data.head()"
      ],
      "execution_count": 16,
      "outputs": [
        {
          "output_type": "execute_result",
          "data": {
            "text/html": [
              "<div>\n",
              "<style scoped>\n",
              "    .dataframe tbody tr th:only-of-type {\n",
              "        vertical-align: middle;\n",
              "    }\n",
              "\n",
              "    .dataframe tbody tr th {\n",
              "        vertical-align: top;\n",
              "    }\n",
              "\n",
              "    .dataframe thead th {\n",
              "        text-align: right;\n",
              "    }\n",
              "</style>\n",
              "<table border=\"1\" class=\"dataframe\">\n",
              "  <thead>\n",
              "    <tr style=\"text-align: right;\">\n",
              "      <th></th>\n",
              "      <th>State</th>\n",
              "      <th>Unemployment</th>\n",
              "    </tr>\n",
              "  </thead>\n",
              "  <tbody>\n",
              "    <tr>\n",
              "      <th>0</th>\n",
              "      <td>AL</td>\n",
              "      <td>7.1</td>\n",
              "    </tr>\n",
              "    <tr>\n",
              "      <th>1</th>\n",
              "      <td>AK</td>\n",
              "      <td>6.8</td>\n",
              "    </tr>\n",
              "    <tr>\n",
              "      <th>2</th>\n",
              "      <td>AZ</td>\n",
              "      <td>8.1</td>\n",
              "    </tr>\n",
              "    <tr>\n",
              "      <th>3</th>\n",
              "      <td>AR</td>\n",
              "      <td>7.2</td>\n",
              "    </tr>\n",
              "    <tr>\n",
              "      <th>4</th>\n",
              "      <td>CA</td>\n",
              "      <td>10.1</td>\n",
              "    </tr>\n",
              "  </tbody>\n",
              "</table>\n",
              "</div>"
            ],
            "text/plain": [
              "  State  Unemployment\n",
              "0    AL           7.1\n",
              "1    AK           6.8\n",
              "2    AZ           8.1\n",
              "3    AR           7.2\n",
              "4    CA          10.1"
            ]
          },
          "metadata": {},
          "execution_count": 16
        }
      ]
    },
    {
      "cell_type": "code",
      "metadata": {
        "colab": {
          "base_uri": "https://localhost:8080/"
        },
        "id": "4wU_pL646YxJ",
        "outputId": "a220b958-e1e4-4b11-d8f9-751bfbd88be8"
      },
      "source": [
        "print(f\" Media: {data['Unemployment'].mean()}\")\n",
        "print(f\" Mediana: {data['Unemployment'].median()}\")"
      ],
      "execution_count": 24,
      "outputs": [
        {
          "output_type": "stream",
          "name": "stdout",
          "text": [
            " Media: 7.146\n",
            " Mediana: 7.1\n"
          ]
        }
      ]
    },
    {
      "cell_type": "code",
      "metadata": {
        "colab": {
          "base_uri": "https://localhost:8080/",
          "height": 279
        },
        "id": "h7Ljh9Z57sXY",
        "outputId": "650455ba-8c3e-4ef7-e499-45e180d472d9"
      },
      "source": [
        "sns.histplot(data['Unemployment']);"
      ],
      "execution_count": 28,
      "outputs": [
        {
          "output_type": "display_data",
          "data": {
            "image/png": "[encoded data removed]",
            "text/plain": [
              "<Figure size 432x288 with 1 Axes>"
            ]
          },
          "metadata": {
            "needs_background": "light"
          }
        }
      ]
    },
    {
      "cell_type": "code",
      "metadata": {
        "colab": {
          "base_uri": "https://localhost:8080/",
          "height": 279
        },
        "id": "pLItxTHE70BY",
        "outputId": "19ad79fb-530a-468e-fb3c-65c489abd15c"
      },
      "source": [
        "sns.boxplot(x = data['Unemployment'], color = 'green');"
      ],
      "execution_count": 32,
      "outputs": [
        {
          "output_type": "display_data",
          "data": {
            "image/png": "[encoded data removed]",
            "text/plain": [
              "<Figure size 432x288 with 1 Axes>"
            ]
          },
          "metadata": {
            "needs_background": "light"
          }
        }
      ]
    },
    {
      "cell_type": "code",
      "metadata": {
        "colab": {
          "base_uri": "https://localhost:8080/",
          "height": 299
        },
        "id": "zu1U3skd6i5u",
        "outputId": "00f2ffc4-fb7c-4538-d2eb-c3a89b7bda55"
      },
      "source": [
        "#Simulación de nuevas muestras a partir de las que tenemos\n",
        "medias = []\n",
        "\n",
        "for i in range(100_000): # el guin bajo solo es de referencia, no se lee\n",
        "  muestra = data['Unemployment'].sample(n = 100, replace = True)\n",
        "  medias.append(muestra.mean())\n",
        "\n",
        "# Graficamos nuestra simulacion\n",
        "medias_serie = pd.Series(medias)\n",
        "sns.histplot(medias_serie);\n",
        "\n",
        "print(medias_serie.skew())\n",
        "print(medias_serie.kurtosis())\n"
      ],
      "execution_count": 37,
      "outputs": [
        {
          "output_type": "stream",
          "name": "stdout",
          "text": [
            "-0.020766009849655497\n",
            "-0.012031422086606458\n"
          ]
        },
        {
          "output_type": "display_data",
          "data": {
            "image/png": "[encoded data removed]",
            "text/plain": [
              "<Figure size 432x288 with 1 Axes>"
            ]
          },
          "metadata": {
            "needs_background": "light"
          }
        }
      ]
    },
    {
      "cell_type": "code",
      "metadata": {
        "colab": {
          "base_uri": "https://localhost:8080/",
          "height": 299
        },
        "id": "99lc1atL7X5q",
        "outputId": "46eb33bb-f7f5-4268-82a7-6015708f2370"
      },
      "source": [
        "# Con 20%\n",
        "medias = []\n",
        "\n",
        "for i in range(100_000): # el guin bajo solo es de referencia, no se lee\n",
        "  muestra = data['Unemployment'].sample(frac = 0.2, replace = True)\n",
        "  medias.append(muestra.mean())\n",
        "\n",
        "# Graficamos nuestra simulacion\n",
        "medias_serie = pd.Series(medias)\n",
        "sns.histplot(medias_serie);\n",
        "\n",
        "print(medias_serie.skew())\n",
        "print(medias_serie.kurtosis())"
      ],
      "execution_count": 35,
      "outputs": [
        {
          "output_type": "stream",
          "name": "stdout",
          "text": [
            "-0.042542156904480384\n",
            "-0.05515919672706193\n"
          ]
        },
        {
          "output_type": "display_data",
          "data": {
            "image/png": "[encoded data removed]",
            "text/plain": [
              "<Figure size 432x288 with 1 Axes>"
            ]
          },
          "metadata": {
            "needs_background": "light"
          }
        }
      ]
    },
    {
      "cell_type": "code",
      "metadata": {
        "colab": {
          "base_uri": "https://localhost:8080/",
          "height": 299
        },
        "id": "TKy52Oxa8dOc",
        "outputId": "a44ac3f5-a8f9-4298-fadc-35ae05b8d8c6"
      },
      "source": [
        "# Con 90% de la muestra\n",
        "medias = []\n",
        "\n",
        "for i in range(100_000): # el guin bajo solo es de referencia, no se lee\n",
        "  muestra = data['Unemployment'].sample(frac = 0.9, replace = True)\n",
        "  medias.append(muestra.mean())\n",
        "\n",
        "# Graficamos nuestra simulacion\n",
        "medias_serie = pd.Series(medias)\n",
        "sns.histplot(medias_serie);\n",
        "\n",
        "print(medias_serie.skew())\n",
        "print(medias_serie.kurtosis())"
      ],
      "execution_count": 36,
      "outputs": [
        {
          "output_type": "stream",
          "name": "stdout",
          "text": [
            "-0.01696280934589411\n",
            "-0.018852510944425305\n"
          ]
        },
        {
          "output_type": "display_data",
          "data": {
            "image/png": "[encoded data removed]",
            "text/plain": [
              "<Figure size 432x288 with 1 Axes>"
            ]
          },
          "metadata": {
            "needs_background": "light"
          }
        }
      ]
    },
    {
      "cell_type": "code",
      "metadata": {
        "id": "8qCdU5sj8oXC"
      },
      "source": [
        ""
      ],
      "execution_count": null,
      "outputs": []
    }
  ]
}