{
  "nbformat": 4,
  "nbformat_minor": 0,
  "metadata": {
    "colab": {
      "name": "Sesion_8.ipynb",
      "provenance": [],
      "mount_file_id": "1TEg1NQWVJGWnwDTTtC4Ap9thNz94q3lY",
      "authorship_tag": "ABX9TyNLG8bRbYXMTVfM0FTTDaGz",
      "include_colab_link": true
    },
    "kernelspec": {
      "name": "python3",
      "display_name": "Python 3"
    },
    "language_info": {
      "name": "python"
    }
  },
  "cells": [
    {
      "cell_type": "markdown",
      "metadata": {
        "id": "view-in-github",
        "colab_type": "text"
      },
      "source": [
        "<a href=\"https://colab.research.google.com/github/LIZZETHGOMEZ/Data-Sciene-BEDU-Santander-2021/blob/main/Analisis%20de%20Datos%20con%20Python/Sesion_8.ipynb\" target=\"_parent\"><img src=\"https://colab.research.google.com/assets/colab-badge.svg\" alt=\"Open In Colab\"/></a>"
      ]
    },
    {
      "cell_type": "markdown",
      "metadata": {
        "id": "FAXK8lqFLcmj"
      },
      "source": [
        "# Sesión 8: Intro a Machine Learning\n"
      ]
    },
    {
      "cell_type": "code",
      "metadata": {
        "id": "z2n_naZiLHzY"
      },
      "source": [
        "import pandas as pd\n",
        "import matplotlib.pyplot as plt\n",
        "import seaborn as sns"
      ],
      "execution_count": 9,
      "outputs": []
    },
    {
      "cell_type": "code",
      "metadata": {
        "id": "3C7qfQmVdCPO"
      },
      "source": [
        "## K-Medias"
      ],
      "execution_count": null,
      "outputs": []
    },
    {
      "cell_type": "code",
      "metadata": {
        "colab": {
          "base_uri": "https://localhost:8080/",
          "height": 204
        },
        "id": "ULhsyiq7LjFB",
        "outputId": "aa2c87c1-0d56-4495-8573-546b55c14822"
      },
      "source": [
        "# Cargamos datos\n",
        "df = pd.read_csv(\"/content/drive/MyDrive/datasets_BEDU/Remoto crimenes_locacion.csv\")\n",
        "df.head()"
      ],
      "execution_count": 10,
      "outputs": [
        {
          "output_type": "execute_result",
          "data": {
            "text/html": [
              "<div>\n",
              "<style scoped>\n",
              "    .dataframe tbody tr th:only-of-type {\n",
              "        vertical-align: middle;\n",
              "    }\n",
              "\n",
              "    .dataframe tbody tr th {\n",
              "        vertical-align: top;\n",
              "    }\n",
              "\n",
              "    .dataframe thead th {\n",
              "        text-align: right;\n",
              "    }\n",
              "</style>\n",
              "<table border=\"1\" class=\"dataframe\">\n",
              "  <thead>\n",
              "    <tr style=\"text-align: right;\">\n",
              "      <th></th>\n",
              "      <th>codigo_crimen</th>\n",
              "      <th>latitud</th>\n",
              "      <th>longitud</th>\n",
              "    </tr>\n",
              "  </thead>\n",
              "  <tbody>\n",
              "    <tr>\n",
              "      <th>0</th>\n",
              "      <td>8</td>\n",
              "      <td>-15.068712</td>\n",
              "      <td>0.157991</td>\n",
              "    </tr>\n",
              "    <tr>\n",
              "      <th>1</th>\n",
              "      <td>0</td>\n",
              "      <td>-4.065913</td>\n",
              "      <td>12.491768</td>\n",
              "    </tr>\n",
              "    <tr>\n",
              "      <th>2</th>\n",
              "      <td>1</td>\n",
              "      <td>3.141179</td>\n",
              "      <td>-12.090601</td>\n",
              "    </tr>\n",
              "    <tr>\n",
              "      <th>3</th>\n",
              "      <td>8</td>\n",
              "      <td>8.806998</td>\n",
              "      <td>14.316892</td>\n",
              "    </tr>\n",
              "    <tr>\n",
              "      <th>4</th>\n",
              "      <td>3</td>\n",
              "      <td>-5.773641</td>\n",
              "      <td>15.487286</td>\n",
              "    </tr>\n",
              "  </tbody>\n",
              "</table>\n",
              "</div>"
            ],
            "text/plain": [
              "   codigo_crimen    latitud   longitud\n",
              "0              8 -15.068712   0.157991\n",
              "1              0  -4.065913  12.491768\n",
              "2              1   3.141179 -12.090601\n",
              "3              8   8.806998  14.316892\n",
              "4              3  -5.773641  15.487286"
            ]
          },
          "metadata": {},
          "execution_count": 10
        }
      ]
    },
    {
      "cell_type": "code",
      "metadata": {
        "colab": {
          "base_uri": "https://localhost:8080/",
          "height": 296
        },
        "id": "oqio6Jx0c-e4",
        "outputId": "1b60fbaf-2c2e-48d2-ffb6-d1288ce7bdbd"
      },
      "source": [
        "# Observemos nuestros datos\n",
        "sns.scatterplot(x = df['latitud'], y = df['longitud']);"
      ],
      "execution_count": 11,
      "outputs": [
        {
          "output_type": "execute_result",
          "data": {
            "text/plain": [
              "<matplotlib.axes._subplots.AxesSubplot at 0x7fb21946de50>"
            ]
          },
          "metadata": {},
          "execution_count": 11
        },
        {
          "output_type": "display_data",
          "data": {
            "image/png": "[encoded data removed]",
            "text/plain": [
              "<Figure size 432x288 with 1 Axes>"
            ]
          },
          "metadata": {
            "needs_background": "light"
          }
        }
      ]
    },
    {
      "cell_type": "code",
      "metadata": {
        "id": "c51Di8wVdO4G"
      },
      "source": [
        "# Cargo biblioteca\n",
        "from sklearn.cluster import KMeans"
      ],
      "execution_count": 12,
      "outputs": []
    },
    {
      "cell_type": "code",
      "metadata": {
        "colab": {
          "base_uri": "https://localhost:8080/"
        },
        "id": "wSADA0L_da8d",
        "outputId": "0084e781-9240-434a-bf87-4d7e35eca02b"
      },
      "source": [
        "# Quiero clasificar en 6 grupos k = 6\n",
        "k_means = KMeans(n_clusters = 6, max_iter = 10_000) #Iniciamos con 10 mil iteraciones\n",
        "k_means.fit(df[['latitud', 'longitud']])"
      ],
      "execution_count": 13,
      "outputs": [
        {
          "output_type": "execute_result",
          "data": {
            "text/plain": [
              "KMeans(algorithm='auto', copy_x=True, init='k-means++', max_iter=10000,\n",
              "       n_clusters=6, n_init=10, n_jobs=None, precompute_distances='auto',\n",
              "       random_state=None, tol=0.0001, verbose=0)"
            ]
          },
          "metadata": {},
          "execution_count": 13
        }
      ]
    },
    {
      "cell_type": "code",
      "metadata": {
        "id": "aRaXItL7duv4"
      },
      "source": [
        "# Observemos los centroides\n",
        "centers = k_means.clusters_centers"
      ],
      "execution_count": null,
      "outputs": []
    },
    {
      "cell_type": "markdown",
      "metadata": {
        "id": "P8rF5xMSr_-6"
      },
      "source": [
        "### Matriz de Confusión"
      ]
    },
    {
      "cell_type": "code",
      "metadata": {
        "id": "0cKGl7oXsCTd"
      },
      "source": [
        "from sklearn import metrics"
      ],
      "execution_count": 14,
      "outputs": []
    },
    {
      "cell_type": "code",
      "metadata": {
        "id": "4M_GWqwpsGmX"
      },
      "source": [
        "cnf_matrix = metrics.confusion_matrix(y_test, y_pred)\n",
        "cnf_matrix"
      ],
      "execution_count": null,
      "outputs": []
    },
    {
      "cell_type": "code",
      "metadata": {
        "id": "UrdCZ4wpsPmQ"
      },
      "source": [
        "# Grafcamos\n",
        "fig, ax = plt.subplots(figsize = (6,6))\n",
        "sns.heatmap(pd.DataFrame(cnf_matrix), annot_kws = {'size' = 20}, fmt = 'g', cmap = 'Blues', cbar = False)\n",
        "plt.xlabel('Estimado por modelo', fontsize = 15)\n",
        "plt.ylabel('Realidad', fontsize = 15)"
      ],
      "execution_count": null,
      "outputs": []
    },
    {
      "cell_type": "code",
      "metadata": {
        "id": "pv2hDqgbtq1s"
      },
      "source": [
        "# Observemos las metricas para conporbar las significancia del modelo\n",
        "print(metrics.precision_score(y_test, y_pred))\n",
        "print(metrics.accuracy_score(y_test, y_pred))\n",
        "print(metrics.recall_score(y_test, y_pred))"
      ],
      "execution_count": null,
      "outputs": []
    },
    {
      "cell_type": "code",
      "metadata": {
        "id": "qZ1rxrIquDRZ"
      },
      "source": [
        "# Para especificidad lo hacemos a mano\n",
        "tn, fp, fn, tp = cnf_matrix.ravel()\n",
        "print(tn/(tn + fp))"
      ],
      "execution_count": null,
      "outputs": []
    },
    {
      "cell_type": "code",
      "metadata": {
        "id": "0mByM3bsuSDp"
      },
      "source": [
        ""
      ],
      "execution_count": null,
      "outputs": []
    }
  ]
}