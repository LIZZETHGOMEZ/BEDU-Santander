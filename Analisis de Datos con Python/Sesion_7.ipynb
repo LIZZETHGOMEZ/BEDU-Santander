{
  "nbformat": 4,
  "nbformat_minor": 0,
  "metadata": {
    "colab": {
      "name": "Sesion_7.ipynb",
      "provenance": []
    },
    "kernelspec": {
      "name": "python3",
      "display_name": "Python 3"
    },
    "language_info": {
      "name": "python"
    }
  },
  "cells": [
    {
      "cell_type": "markdown",
      "metadata": {
        "id": "QeUynYA0zg5c"
      },
      "source": [
        "# Sesión 7: Pruebas A/B y Procesamiento de Lenguaje Natural"
      ]
    },
    {
      "cell_type": "markdown",
      "metadata": {
        "id": "0h-ndgnRpBYY"
      },
      "source": [
        "Las Pruebas A/B nos permiten conocer si algún cambio que sea realizó tuvo un mejor desempeño o en realidad fue por puro azar. por ejemplo en marketing si una estrategia está generando mayores ventas o en realidad ese incremento de ventas fue por suerte y no tiene relaicón con el cambio en la campaña de marketing.\n",
        "\n",
        "Se tendrá entonces un grupo de control y otro esperimental, un ejemplo en medicina es que al grupo de control se le da el placebo y al experimental se le da el medicamento, y se observa si el medicamento funciona. "
      ]
    },
    {
      "cell_type": "code",
      "metadata": {
        "id": "XA5jgjfb_jU4"
      },
      "source": [
        "import pandas as pd\n",
        "import seaborn as sns\n",
        "import matplotlib.pyplot as plt"
      ],
      "execution_count": 1,
      "outputs": []
    },
    {
      "cell_type": "code",
      "metadata": {
        "colab": {
          "base_uri": "https://localhost:8080/",
          "height": 204
        },
        "id": "pf8oGqEOzYXY",
        "outputId": "2b4e05af-91d5-46e0-df85-3327a5e1b30d"
      },
      "source": [
        "# Cargamos datos a utilizar\n",
        "df = pd.read_csv(\"/content/drive/MyDrive/datasets_BEDU/Remoto ab_test-sales_pipeline.csv\")\n",
        "df.head()\n",
        "\n",
        "# Donde A es la nueva campaña publicitaria y B la campaña de siempre\n",
        "# Conversión significa que el cliente compró el porducto y no conversion en caso contrario"
      ],
      "execution_count": 3,
      "outputs": [
        {
          "output_type": "execute_result",
          "data": {
            "text/html": [
              "<div>\n",
              "<style scoped>\n",
              "    .dataframe tbody tr th:only-of-type {\n",
              "        vertical-align: middle;\n",
              "    }\n",
              "\n",
              "    .dataframe tbody tr th {\n",
              "        vertical-align: top;\n",
              "    }\n",
              "\n",
              "    .dataframe thead th {\n",
              "        text-align: right;\n",
              "    }\n",
              "</style>\n",
              "<table border=\"1\" class=\"dataframe\">\n",
              "  <thead>\n",
              "    <tr style=\"text-align: right;\">\n",
              "      <th></th>\n",
              "      <th>test</th>\n",
              "      <th>conversion</th>\n",
              "      <th>no conversion</th>\n",
              "    </tr>\n",
              "  </thead>\n",
              "  <tbody>\n",
              "    <tr>\n",
              "      <th>0</th>\n",
              "      <td>B</td>\n",
              "      <td>0</td>\n",
              "      <td>1</td>\n",
              "    </tr>\n",
              "    <tr>\n",
              "      <th>1</th>\n",
              "      <td>A</td>\n",
              "      <td>0</td>\n",
              "      <td>1</td>\n",
              "    </tr>\n",
              "    <tr>\n",
              "      <th>2</th>\n",
              "      <td>A</td>\n",
              "      <td>0</td>\n",
              "      <td>1</td>\n",
              "    </tr>\n",
              "    <tr>\n",
              "      <th>3</th>\n",
              "      <td>A</td>\n",
              "      <td>0</td>\n",
              "      <td>1</td>\n",
              "    </tr>\n",
              "    <tr>\n",
              "      <th>4</th>\n",
              "      <td>A</td>\n",
              "      <td>0</td>\n",
              "      <td>1</td>\n",
              "    </tr>\n",
              "  </tbody>\n",
              "</table>\n",
              "</div>"
            ],
            "text/plain": [
              "  test  conversion  no conversion\n",
              "0    B           0              1\n",
              "1    A           0              1\n",
              "2    A           0              1\n",
              "3    A           0              1\n",
              "4    A           0              1"
            ]
          },
          "metadata": {},
          "execution_count": 3
        }
      ]
    },
    {
      "cell_type": "code",
      "metadata": {
        "colab": {
          "base_uri": "https://localhost:8080/",
          "height": 142
        },
        "id": "MoXQ1m1b_g4-",
        "outputId": "2182e3ee-a2aa-4f64-b4a0-a693a243ffc9"
      },
      "source": [
        "#Veamos cuantos se vendieron de cada publicidad\n",
        "total_count = df.groupby('test')[['conversion', 'no conversion']].sum()\n",
        "total_count"
      ],
      "execution_count": 5,
      "outputs": [
        {
          "output_type": "execute_result",
          "data": {
            "text/html": [
              "<div>\n",
              "<style scoped>\n",
              "    .dataframe tbody tr th:only-of-type {\n",
              "        vertical-align: middle;\n",
              "    }\n",
              "\n",
              "    .dataframe tbody tr th {\n",
              "        vertical-align: top;\n",
              "    }\n",
              "\n",
              "    .dataframe thead th {\n",
              "        text-align: right;\n",
              "    }\n",
              "</style>\n",
              "<table border=\"1\" class=\"dataframe\">\n",
              "  <thead>\n",
              "    <tr style=\"text-align: right;\">\n",
              "      <th></th>\n",
              "      <th>conversion</th>\n",
              "      <th>no conversion</th>\n",
              "    </tr>\n",
              "    <tr>\n",
              "      <th>test</th>\n",
              "      <th></th>\n",
              "      <th></th>\n",
              "    </tr>\n",
              "  </thead>\n",
              "  <tbody>\n",
              "    <tr>\n",
              "      <th>A</th>\n",
              "      <td>198</td>\n",
              "      <td>23541</td>\n",
              "    </tr>\n",
              "    <tr>\n",
              "      <th>B</th>\n",
              "      <td>184</td>\n",
              "      <td>22404</td>\n",
              "    </tr>\n",
              "  </tbody>\n",
              "</table>\n",
              "</div>"
            ],
            "text/plain": [
              "      conversion  no conversion\n",
              "test                           \n",
              "A            198          23541\n",
              "B            184          22404"
            ]
          },
          "metadata": {},
          "execution_count": 5
        }
      ]
    },
    {
      "cell_type": "code",
      "metadata": {
        "colab": {
          "base_uri": "https://localhost:8080/",
          "height": 142
        },
        "id": "lLtGwy0-_xw2",
        "outputId": "dd1b0952-03d6-4851-880d-deaa178e4697"
      },
      "source": [
        "# Veamos el porcentaje del total\n",
        "total_count['sucess_rate'] = total_count['conversion']/(total_count['conversion'] + total_count['no conversion'])\n",
        "total_count"
      ],
      "execution_count": 8,
      "outputs": [
        {
          "output_type": "execute_result",
          "data": {
            "text/html": [
              "<div>\n",
              "<style scoped>\n",
              "    .dataframe tbody tr th:only-of-type {\n",
              "        vertical-align: middle;\n",
              "    }\n",
              "\n",
              "    .dataframe tbody tr th {\n",
              "        vertical-align: top;\n",
              "    }\n",
              "\n",
              "    .dataframe thead th {\n",
              "        text-align: right;\n",
              "    }\n",
              "</style>\n",
              "<table border=\"1\" class=\"dataframe\">\n",
              "  <thead>\n",
              "    <tr style=\"text-align: right;\">\n",
              "      <th></th>\n",
              "      <th>conversion</th>\n",
              "      <th>no conversion</th>\n",
              "      <th>sucess_rate</th>\n",
              "    </tr>\n",
              "    <tr>\n",
              "      <th>test</th>\n",
              "      <th></th>\n",
              "      <th></th>\n",
              "      <th></th>\n",
              "    </tr>\n",
              "  </thead>\n",
              "  <tbody>\n",
              "    <tr>\n",
              "      <th>A</th>\n",
              "      <td>198</td>\n",
              "      <td>23541</td>\n",
              "      <td>0.008341</td>\n",
              "    </tr>\n",
              "    <tr>\n",
              "      <th>B</th>\n",
              "      <td>184</td>\n",
              "      <td>22404</td>\n",
              "      <td>0.008146</td>\n",
              "    </tr>\n",
              "  </tbody>\n",
              "</table>\n",
              "</div>"
            ],
            "text/plain": [
              "      conversion  no conversion  sucess_rate\n",
              "test                                        \n",
              "A            198          23541     0.008341\n",
              "B            184          22404     0.008146"
            ]
          },
          "metadata": {},
          "execution_count": 8
        }
      ]
    },
    {
      "cell_type": "code",
      "metadata": {
        "colab": {
          "base_uri": "https://localhost:8080/"
        },
        "id": "p6-Dlcm9ACBF",
        "outputId": "cf5649b5-017c-40af-aa22-cd376d52a645"
      },
      "source": [
        "#Veamos ahora la diferencia en proporcion de cada campaña\n",
        "diferencia_en_proporcion = 1-(total_count.loc['B']['sucess_rate']/total_count.loc['A']['sucess_rate'])\n",
        "print(f\"El test A fue {diferencia_en_proporcion*100:.2f}% mejor que B para generar ventas\")"
      ],
      "execution_count": 9,
      "outputs": [
        {
          "output_type": "stream",
          "name": "stdout",
          "text": [
            "El test A fue 2.34% mejor que B para generar ventas\n"
          ]
        }
      ]
    },
    {
      "cell_type": "markdown",
      "metadata": {
        "id": "6rEQfL5zr4SO"
      },
      "source": [
        "Entonces, aún debemos verificar si el porcentaje de 2.34% fue como resultado de la nueva campaña, o en realidad fue por azar?"
      ]
    },
    {
      "cell_type": "code",
      "metadata": {
        "colab": {
          "base_uri": "https://localhost:8080/"
        },
        "id": "18bVzguwCzkS",
        "outputId": "b4941160-c102-473a-d60e-540fa30586bd"
      },
      "source": [
        "value_counts = df['test'].value_counts()\n",
        "value_counts"
      ],
      "execution_count": 11,
      "outputs": [
        {
          "output_type": "execute_result",
          "data": {
            "text/plain": [
              "A    23739\n",
              "B    22588\n",
              "Name: test, dtype: int64"
            ]
          },
          "metadata": {},
          "execution_count": 11
        }
      ]
    },
    {
      "cell_type": "markdown",
      "metadata": {
        "id": "mHMlWSfHssIT"
      },
      "source": [
        "Lo que se hace es crear nuevos grupos de A y B, tomando aleatoriamente los elementos tanto de conversion (si compraron) como los que no."
      ]
    },
    {
      "cell_type": "code",
      "metadata": {
        "id": "g2cQZoptAkQU"
      },
      "source": [
        "# Prueba de Permutacion\n",
        "# Guardamos en diferentes listas cuantos convergen en a y cuantos no convergen en a igual para b\n",
        "\n",
        "conv_a = []\n",
        "no_conv_a = []\n",
        "conv_b = []\n",
        "no_conv_b =[]\n",
        "\n",
        "# Indico una muestra aleatoria tomados de A y B y los meto en un nuevo grupo A, y sumo cuantos fueron para conversion (sin comrparon) y no conversion\n",
        "# Lo hacemos mil veces.\n",
        "for i in range(1000):\n",
        "  a = df.sample(value_counts.loc['A'], replace = False)\n",
        "  conv_a.append(a['conversion'].sum())\n",
        "  no_conv_a.append(a['no conversion'].sum())\n",
        "\n",
        "# Ahora el grupo B será todos los elementos que no tomé para A, es decir todos los qu eno están en A los meto en B y nueva,ente saco cuantos son de conversion y cuantos no\n",
        "  b = df.loc[~df.index.isin(a.index)]\n",
        "  conv_b.append(b['conversion'].sum())\n",
        "  no_conv_b.append(b['no conversion'].sum())\n"
      ],
      "execution_count": 12,
      "outputs": []
    },
    {
      "cell_type": "code",
      "metadata": {
        "colab": {
          "base_uri": "https://localhost:8080/",
          "height": 419
        },
        "id": "gX4ZXVFOC3CW",
        "outputId": "5f0f086a-7ce6-4de9-eb04-f320f3260a96"
      },
      "source": [
        "# Tabulo los resutados obtenids de los nuevos grupos\n",
        "results = pd.DataFrame({\n",
        "    'conv_a': conv_a,\n",
        "    'no_conv_a': no_conv_a,\n",
        "    'conv_b': conv_b,\n",
        "    'no_conv_b': no_conv_b\n",
        "})\n",
        "\n",
        "results"
      ],
      "execution_count": 13,
      "outputs": [
        {
          "output_type": "execute_result",
          "data": {
            "text/html": [
              "<div>\n",
              "<style scoped>\n",
              "    .dataframe tbody tr th:only-of-type {\n",
              "        vertical-align: middle;\n",
              "    }\n",
              "\n",
              "    .dataframe tbody tr th {\n",
              "        vertical-align: top;\n",
              "    }\n",
              "\n",
              "    .dataframe thead th {\n",
              "        text-align: right;\n",
              "    }\n",
              "</style>\n",
              "<table border=\"1\" class=\"dataframe\">\n",
              "  <thead>\n",
              "    <tr style=\"text-align: right;\">\n",
              "      <th></th>\n",
              "      <th>conv_a</th>\n",
              "      <th>no_conv_a</th>\n",
              "      <th>conv_b</th>\n",
              "      <th>no_conv_b</th>\n",
              "    </tr>\n",
              "  </thead>\n",
              "  <tbody>\n",
              "    <tr>\n",
              "      <th>0</th>\n",
              "      <td>195</td>\n",
              "      <td>23544</td>\n",
              "      <td>187</td>\n",
              "      <td>22401</td>\n",
              "    </tr>\n",
              "    <tr>\n",
              "      <th>1</th>\n",
              "      <td>200</td>\n",
              "      <td>23539</td>\n",
              "      <td>182</td>\n",
              "      <td>22406</td>\n",
              "    </tr>\n",
              "    <tr>\n",
              "      <th>2</th>\n",
              "      <td>200</td>\n",
              "      <td>23539</td>\n",
              "      <td>182</td>\n",
              "      <td>22406</td>\n",
              "    </tr>\n",
              "    <tr>\n",
              "      <th>3</th>\n",
              "      <td>190</td>\n",
              "      <td>23549</td>\n",
              "      <td>192</td>\n",
              "      <td>22396</td>\n",
              "    </tr>\n",
              "    <tr>\n",
              "      <th>4</th>\n",
              "      <td>185</td>\n",
              "      <td>23554</td>\n",
              "      <td>197</td>\n",
              "      <td>22391</td>\n",
              "    </tr>\n",
              "    <tr>\n",
              "      <th>...</th>\n",
              "      <td>...</td>\n",
              "      <td>...</td>\n",
              "      <td>...</td>\n",
              "      <td>...</td>\n",
              "    </tr>\n",
              "    <tr>\n",
              "      <th>995</th>\n",
              "      <td>192</td>\n",
              "      <td>23547</td>\n",
              "      <td>190</td>\n",
              "      <td>22398</td>\n",
              "    </tr>\n",
              "    <tr>\n",
              "      <th>996</th>\n",
              "      <td>198</td>\n",
              "      <td>23541</td>\n",
              "      <td>184</td>\n",
              "      <td>22404</td>\n",
              "    </tr>\n",
              "    <tr>\n",
              "      <th>997</th>\n",
              "      <td>203</td>\n",
              "      <td>23536</td>\n",
              "      <td>179</td>\n",
              "      <td>22409</td>\n",
              "    </tr>\n",
              "    <tr>\n",
              "      <th>998</th>\n",
              "      <td>207</td>\n",
              "      <td>23532</td>\n",
              "      <td>175</td>\n",
              "      <td>22413</td>\n",
              "    </tr>\n",
              "    <tr>\n",
              "      <th>999</th>\n",
              "      <td>207</td>\n",
              "      <td>23532</td>\n",
              "      <td>175</td>\n",
              "      <td>22413</td>\n",
              "    </tr>\n",
              "  </tbody>\n",
              "</table>\n",
              "<p>1000 rows × 4 columns</p>\n",
              "</div>"
            ],
            "text/plain": [
              "     conv_a  no_conv_a  conv_b  no_conv_b\n",
              "0       195      23544     187      22401\n",
              "1       200      23539     182      22406\n",
              "2       200      23539     182      22406\n",
              "3       190      23549     192      22396\n",
              "4       185      23554     197      22391\n",
              "..      ...        ...     ...        ...\n",
              "995     192      23547     190      22398\n",
              "996     198      23541     184      22404\n",
              "997     203      23536     179      22409\n",
              "998     207      23532     175      22413\n",
              "999     207      23532     175      22413\n",
              "\n",
              "[1000 rows x 4 columns]"
            ]
          },
          "metadata": {},
          "execution_count": 13
        }
      ]
    },
    {
      "cell_type": "code",
      "metadata": {
        "colab": {
          "base_uri": "https://localhost:8080/",
          "height": 419
        },
        "id": "r8uPThE_Da1k",
        "outputId": "0118bcbb-bc4f-4931-c22a-858c926212b9"
      },
      "source": [
        "# La proporcion para cada reultado conversion y no conversion y ademas la diferencia\n",
        "results['a_conv_rate'] = results['conv_a'] /(results['conv_a'] + results['no_conv_a'])\n",
        "results['b_conv_rate'] = results['conv_b'] /(results['conv_b'] + results['no_conv_b'])\n",
        "results['diff'] = 1 - (results['b_conv_rate'] / results['a_conv_rate'])\n",
        "\n",
        "results\n"
      ],
      "execution_count": 14,
      "outputs": [
        {
          "output_type": "execute_result",
          "data": {
            "text/html": [
              "<div>\n",
              "<style scoped>\n",
              "    .dataframe tbody tr th:only-of-type {\n",
              "        vertical-align: middle;\n",
              "    }\n",
              "\n",
              "    .dataframe tbody tr th {\n",
              "        vertical-align: top;\n",
              "    }\n",
              "\n",
              "    .dataframe thead th {\n",
              "        text-align: right;\n",
              "    }\n",
              "</style>\n",
              "<table border=\"1\" class=\"dataframe\">\n",
              "  <thead>\n",
              "    <tr style=\"text-align: right;\">\n",
              "      <th></th>\n",
              "      <th>conv_a</th>\n",
              "      <th>no_conv_a</th>\n",
              "      <th>conv_b</th>\n",
              "      <th>no_conv_b</th>\n",
              "      <th>a_conv_rate</th>\n",
              "      <th>b_conv_rate</th>\n",
              "      <th>diff</th>\n",
              "    </tr>\n",
              "  </thead>\n",
              "  <tbody>\n",
              "    <tr>\n",
              "      <th>0</th>\n",
              "      <td>195</td>\n",
              "      <td>23544</td>\n",
              "      <td>187</td>\n",
              "      <td>22401</td>\n",
              "      <td>0.008214</td>\n",
              "      <td>0.008279</td>\n",
              "      <td>-0.007840</td>\n",
              "    </tr>\n",
              "    <tr>\n",
              "      <th>1</th>\n",
              "      <td>200</td>\n",
              "      <td>23539</td>\n",
              "      <td>182</td>\n",
              "      <td>22406</td>\n",
              "      <td>0.008425</td>\n",
              "      <td>0.008057</td>\n",
              "      <td>0.043630</td>\n",
              "    </tr>\n",
              "    <tr>\n",
              "      <th>2</th>\n",
              "      <td>200</td>\n",
              "      <td>23539</td>\n",
              "      <td>182</td>\n",
              "      <td>22406</td>\n",
              "      <td>0.008425</td>\n",
              "      <td>0.008057</td>\n",
              "      <td>0.043630</td>\n",
              "    </tr>\n",
              "    <tr>\n",
              "      <th>3</th>\n",
              "      <td>190</td>\n",
              "      <td>23549</td>\n",
              "      <td>192</td>\n",
              "      <td>22396</td>\n",
              "      <td>0.008004</td>\n",
              "      <td>0.008500</td>\n",
              "      <td>-0.062019</td>\n",
              "    </tr>\n",
              "    <tr>\n",
              "      <th>4</th>\n",
              "      <td>185</td>\n",
              "      <td>23554</td>\n",
              "      <td>197</td>\n",
              "      <td>22391</td>\n",
              "      <td>0.007793</td>\n",
              "      <td>0.008721</td>\n",
              "      <td>-0.119126</td>\n",
              "    </tr>\n",
              "    <tr>\n",
              "      <th>...</th>\n",
              "      <td>...</td>\n",
              "      <td>...</td>\n",
              "      <td>...</td>\n",
              "      <td>...</td>\n",
              "      <td>...</td>\n",
              "      <td>...</td>\n",
              "      <td>...</td>\n",
              "    </tr>\n",
              "    <tr>\n",
              "      <th>995</th>\n",
              "      <td>192</td>\n",
              "      <td>23547</td>\n",
              "      <td>190</td>\n",
              "      <td>22398</td>\n",
              "      <td>0.008088</td>\n",
              "      <td>0.008412</td>\n",
              "      <td>-0.040009</td>\n",
              "    </tr>\n",
              "    <tr>\n",
              "      <th>996</th>\n",
              "      <td>198</td>\n",
              "      <td>23541</td>\n",
              "      <td>184</td>\n",
              "      <td>22404</td>\n",
              "      <td>0.008341</td>\n",
              "      <td>0.008146</td>\n",
              "      <td>0.023354</td>\n",
              "    </tr>\n",
              "    <tr>\n",
              "      <th>997</th>\n",
              "      <td>203</td>\n",
              "      <td>23536</td>\n",
              "      <td>179</td>\n",
              "      <td>22409</td>\n",
              "      <td>0.008551</td>\n",
              "      <td>0.007925</td>\n",
              "      <td>0.073295</td>\n",
              "    </tr>\n",
              "    <tr>\n",
              "      <th>998</th>\n",
              "      <td>207</td>\n",
              "      <td>23532</td>\n",
              "      <td>175</td>\n",
              "      <td>22413</td>\n",
              "      <td>0.008720</td>\n",
              "      <td>0.007747</td>\n",
              "      <td>0.111510</td>\n",
              "    </tr>\n",
              "    <tr>\n",
              "      <th>999</th>\n",
              "      <td>207</td>\n",
              "      <td>23532</td>\n",
              "      <td>175</td>\n",
              "      <td>22413</td>\n",
              "      <td>0.008720</td>\n",
              "      <td>0.007747</td>\n",
              "      <td>0.111510</td>\n",
              "    </tr>\n",
              "  </tbody>\n",
              "</table>\n",
              "<p>1000 rows × 7 columns</p>\n",
              "</div>"
            ],
            "text/plain": [
              "     conv_a  no_conv_a  conv_b  no_conv_b  a_conv_rate  b_conv_rate      diff\n",
              "0       195      23544     187      22401     0.008214     0.008279 -0.007840\n",
              "1       200      23539     182      22406     0.008425     0.008057  0.043630\n",
              "2       200      23539     182      22406     0.008425     0.008057  0.043630\n",
              "3       190      23549     192      22396     0.008004     0.008500 -0.062019\n",
              "4       185      23554     197      22391     0.007793     0.008721 -0.119126\n",
              "..      ...        ...     ...        ...          ...          ...       ...\n",
              "995     192      23547     190      22398     0.008088     0.008412 -0.040009\n",
              "996     198      23541     184      22404     0.008341     0.008146  0.023354\n",
              "997     203      23536     179      22409     0.008551     0.007925  0.073295\n",
              "998     207      23532     175      22413     0.008720     0.007747  0.111510\n",
              "999     207      23532     175      22413     0.008720     0.007747  0.111510\n",
              "\n",
              "[1000 rows x 7 columns]"
            ]
          },
          "metadata": {},
          "execution_count": 14
        }
      ]
    },
    {
      "cell_type": "code",
      "metadata": {
        "colab": {
          "base_uri": "https://localhost:8080/",
          "height": 369
        },
        "id": "v2AXOFM4EbA2",
        "outputId": "9a9cb207-b349-4465-baab-1c5dccdda3e9"
      },
      "source": [
        "# graficamos la diferencia de los resutados para ver si la distribucion converge a una normal\n",
        "# Y colocamos una linea de la diferencia en proporcion de los grupos originales\n",
        "sns.set_style('darkgrid')\n",
        "sns.displot(results['diff'], color = 'orange')\n",
        "plt.axvline(diferencia_en_proporcion, color = 'r');"
      ],
      "execution_count": 17,
      "outputs": [
        {
          "output_type": "display_data",
          "data": {
            "image/png": "[encoded data removed]",
            "text/plain": [
              "<Figure size 360x360 with 1 Axes>"
            ]
          },
          "metadata": {}
        }
      ]
    },
    {
      "cell_type": "markdown",
      "metadata": {
        "id": "aq3RT8Rfv41Z"
      },
      "source": [
        "Notemos que la diferencia debería estar en los extremos de la normalidad, para poder decir que realmente la diferencia está funcionando, ya que como cae dentro de la distribución dire las nuevas compras no fueron por la nueva campaña publicitaria sono de debió al azar. No es suficientemente marcado el numero de ventas para decir que la campaña funciona.\n",
        "\n",
        "No hay mejoras en la nueva campaña."
      ]
    },
    {
      "cell_type": "code",
      "metadata": {
        "colab": {
          "base_uri": "https://localhost:8080/"
        },
        "id": "w5f81ZlCEwyu",
        "outputId": "5f78a0ca-bda2-4105-8e0d-02ccfdf589a4"
      },
      "source": [
        "# Sacando el valor P notemos que claramente no tiene significancia estadística\n",
        "(results['diff'] >= diferencia_en_proporcion).sum() / results.shape[0]"
      ],
      "execution_count": 18,
      "outputs": [
        {
          "output_type": "execute_result",
          "data": {
            "text/plain": [
              "0.428"
            ]
          },
          "metadata": {},
          "execution_count": 18
        }
      ]
    },
    {
      "cell_type": "markdown",
      "metadata": {
        "id": "razLd584RP2S"
      },
      "source": [
        "# Intro al Procesamiento de Lenguaje Natural\n",
        "### Expresiones regulares usando Regex\n",
        "Busqueda de patrones en texto"
      ]
    },
    {
      "cell_type": "code",
      "metadata": {
        "id": "1Z4qzSasG32h"
      },
      "source": [
        "import pandas as pd\n",
        "import re"
      ],
      "execution_count": 19,
      "outputs": []
    },
    {
      "cell_type": "code",
      "metadata": {
        "id": "tHQyHweMRT3O",
        "colab": {
          "base_uri": "https://localhost:8080/",
          "height": 530
        },
        "outputId": "4f2817a8-7822-47e8-fb2a-f0339e7329df"
      },
      "source": [
        "# Cargamos datos\n",
        "df = pd.read_json(\"/content/drive/MyDrive/datasets_BEDU/Remoto new_york_times_bestsellers-clean.json\")\n",
        "df.head()"
      ],
      "execution_count": 23,
      "outputs": [
        {
          "output_type": "execute_result",
          "data": {
            "text/html": [
              "<div>\n",
              "<style scoped>\n",
              "    .dataframe tbody tr th:only-of-type {\n",
              "        vertical-align: middle;\n",
              "    }\n",
              "\n",
              "    .dataframe tbody tr th {\n",
              "        vertical-align: top;\n",
              "    }\n",
              "\n",
              "    .dataframe thead th {\n",
              "        text-align: right;\n",
              "    }\n",
              "</style>\n",
              "<table border=\"1\" class=\"dataframe\">\n",
              "  <thead>\n",
              "    <tr style=\"text-align: right;\">\n",
              "      <th></th>\n",
              "      <th>amazon_product_url</th>\n",
              "      <th>author</th>\n",
              "      <th>description</th>\n",
              "      <th>publisher</th>\n",
              "      <th>title</th>\n",
              "      <th>oid</th>\n",
              "      <th>bestsellers_date.numberLong</th>\n",
              "      <th>published_date.numberLong</th>\n",
              "      <th>rank.numberInt</th>\n",
              "      <th>rank_last_week.numberInt</th>\n",
              "      <th>weeks_on_list.numberInt</th>\n",
              "      <th>price.numberDouble</th>\n",
              "    </tr>\n",
              "  </thead>\n",
              "  <tbody>\n",
              "    <tr>\n",
              "      <th>0</th>\n",
              "      <td>http://www.amazon.com/The-Host-Novel-Stephenie...</td>\n",
              "      <td>Stephenie Meyer</td>\n",
              "      <td>Aliens have taken control of the minds and bod...</td>\n",
              "      <td>Little, Brown</td>\n",
              "      <td>THE HOST</td>\n",
              "      <td>5b4aa4ead3089013507db18c</td>\n",
              "      <td>1211587200000</td>\n",
              "      <td>1212883200000</td>\n",
              "      <td>2</td>\n",
              "      <td>1</td>\n",
              "      <td>3</td>\n",
              "      <td>25.99</td>\n",
              "    </tr>\n",
              "    <tr>\n",
              "      <th>1</th>\n",
              "      <td>http://www.amazon.com/Love-Youre-With-Emily-Gi...</td>\n",
              "      <td>Emily Giffin</td>\n",
              "      <td>A woman's happy marriage is shaken when she en...</td>\n",
              "      <td>St. Martin's</td>\n",
              "      <td>LOVE THE ONE YOU'RE WITH</td>\n",
              "      <td>5b4aa4ead3089013507db18d</td>\n",
              "      <td>1211587200000</td>\n",
              "      <td>1212883200000</td>\n",
              "      <td>3</td>\n",
              "      <td>2</td>\n",
              "      <td>2</td>\n",
              "      <td>24.95</td>\n",
              "    </tr>\n",
              "    <tr>\n",
              "      <th>2</th>\n",
              "      <td>http://www.amazon.com/The-Front-Garano-Patrici...</td>\n",
              "      <td>Patricia Cornwell</td>\n",
              "      <td>A Massachusetts state investigator and his tea...</td>\n",
              "      <td>Putnam</td>\n",
              "      <td>THE FRONT</td>\n",
              "      <td>5b4aa4ead3089013507db18e</td>\n",
              "      <td>1211587200000</td>\n",
              "      <td>1212883200000</td>\n",
              "      <td>4</td>\n",
              "      <td>0</td>\n",
              "      <td>1</td>\n",
              "      <td>22.95</td>\n",
              "    </tr>\n",
              "    <tr>\n",
              "      <th>3</th>\n",
              "      <td>http://www.amazon.com/Snuff-Chuck-Palahniuk/dp...</td>\n",
              "      <td>Chuck Palahniuk</td>\n",
              "      <td>An aging porn queens aims to cap her career by...</td>\n",
              "      <td>Doubleday</td>\n",
              "      <td>SNUFF</td>\n",
              "      <td>5b4aa4ead3089013507db18f</td>\n",
              "      <td>1211587200000</td>\n",
              "      <td>1212883200000</td>\n",
              "      <td>5</td>\n",
              "      <td>0</td>\n",
              "      <td>1</td>\n",
              "      <td>24.95</td>\n",
              "    </tr>\n",
              "    <tr>\n",
              "      <th>4</th>\n",
              "      <td>http://www.amazon.com/Sundays-at-Tiffanys-Jame...</td>\n",
              "      <td>James Patterson and Gabrielle Charbonnet</td>\n",
              "      <td>A woman finds an unexpected love</td>\n",
              "      <td>Little, Brown</td>\n",
              "      <td>SUNDAYS AT TIFFANY’S</td>\n",
              "      <td>5b4aa4ead3089013507db190</td>\n",
              "      <td>1211587200000</td>\n",
              "      <td>1212883200000</td>\n",
              "      <td>6</td>\n",
              "      <td>3</td>\n",
              "      <td>4</td>\n",
              "      <td>24.99</td>\n",
              "    </tr>\n",
              "  </tbody>\n",
              "</table>\n",
              "</div>"
            ],
            "text/plain": [
              "                                  amazon_product_url  ... price.numberDouble\n",
              "0  http://www.amazon.com/The-Host-Novel-Stephenie...  ...              25.99\n",
              "1  http://www.amazon.com/Love-Youre-With-Emily-Gi...  ...              24.95\n",
              "2  http://www.amazon.com/The-Front-Garano-Patrici...  ...              22.95\n",
              "3  http://www.amazon.com/Snuff-Chuck-Palahniuk/dp...  ...              24.95\n",
              "4  http://www.amazon.com/Sundays-at-Tiffanys-Jame...  ...              24.99\n",
              "\n",
              "[5 rows x 12 columns]"
            ]
          },
          "metadata": {},
          "execution_count": 23
        }
      ]
    },
    {
      "cell_type": "code",
      "metadata": {
        "colab": {
          "base_uri": "https://localhost:8080/"
        },
        "id": "dXh9FXzU8ej7",
        "outputId": "55531688-b083-4e1b-b0dd-ce5439ed4468"
      },
      "source": [
        "# Queremos unicamente las descripciones entonces filtramo\n",
        "new_df = df.groupby(\"title\")[\"description\"].max()\n",
        "new_df"
      ],
      "execution_count": 26,
      "outputs": [
        {
          "output_type": "execute_result",
          "data": {
            "text/plain": [
              "title\n",
              "10TH ANNIVERSARY            Detective Lindsay Boxer and the Women’s Murder...\n",
              "11TH HOUR                   Detective Lindsay Boxer and the Women’s Murder...\n",
              "1225 CHRISTMAS TREE LANE    Puppies and an ex-husband loom large in the la...\n",
              "1356                        In the fourth book of the Grail Quest series, ...\n",
              "1Q84                        In 1980s Tokyo, a woman who punishes perpetrat...\n",
              "                                                  ...                        \n",
              "Z                           A novel based on the lives of Zelda and F. Sco...\n",
              "ZERO DAY                       A military investigator uncovers a conspiracy.\n",
              "ZERO HISTORY                Several characters from “Spook Country” return...\n",
              "ZONE ONE                      Fighting zombies in post-apocalyptic Manhattan.\n",
              "ZOO                         A young biologist warns world leaders about th...\n",
              "Name: description, Length: 754, dtype: object"
            ]
          },
          "metadata": {},
          "execution_count": 26
        }
      ]
    },
    {
      "cell_type": "code",
      "metadata": {
        "colab": {
          "base_uri": "https://localhost:8080/"
        },
        "id": "hr2ooN4O9eko",
        "outputId": "2d006095-3443-47e5-85df-c794c14ecd5d"
      },
      "source": [
        "# Notemos que ahora tenemos una serie que le podemos aplicar metodos de strings\n",
        "# Queremos todas las filas cuya descripcion contiene woman\n",
        "new_df[new_df.str.contains('woman', case = False)] # El case indica 'case sensitive'"
      ],
      "execution_count": 27,
      "outputs": [
        {
          "output_type": "execute_result",
          "data": {
            "text/plain": [
              "title\n",
              "1Q84                      In 1980s Tokyo, a woman who punishes perpetrat...\n",
              "A CEDAR COVE CHRISTMAS    A pregnant woman shows up in Cedar Cove on Chr...\n",
              "A CHANGE IN ALTITUDE      A young woman’s life is transformed by a mount...\n",
              "A TURN IN THE ROAD        A middle-age woman takes a cross-country road ...\n",
              "AN OBJECT OF BEAUTY       A young, beautiful and ambitious woman ruthles...\n",
              "                                                ...                        \n",
              "THIS BODY OF DEATH        Detective Thomas Lynley becomes involved when ...\n",
              "THOSE IN PERIL            A private security agent battles pirates who h...\n",
              "WHAT DOESN'T KILL YOU     A Hong Kong woman who works for the C.I.A. sea...\n",
              "WHERE WE BELONG           A woman’s successful life is disrupted by the ...\n",
              "WHILE MY SISTER SLEEPS    A woman makes discoveries about her sister and...\n",
              "Name: description, Length: 74, dtype: object"
            ]
          },
          "metadata": {},
          "execution_count": 27
        }
      ]
    },
    {
      "cell_type": "code",
      "metadata": {
        "colab": {
          "base_uri": "https://localhost:8080/"
        },
        "id": "HgdEdOtq-GAP",
        "outputId": "b97977a9-5a5e-4ea3-92d2-6ab05503361c"
      },
      "source": [
        "#Ahora quiero buscar los que contienen número que van entre 0 y 9 \n",
        "new_df[new_df.str.contains(\"[0:9]\")]"
      ],
      "execution_count": 28,
      "outputs": [
        {
          "output_type": "execute_result",
          "data": {
            "text/plain": [
              "title\n",
              "1Q84                           In 1980s Tokyo, a woman who punishes perpetrat...\n",
              "2030                           In 2030, the young resent the elderly for drai...\n",
              "A LESSON IN SECRETS            In the summer of 1932, Maisie Dobbs’s first as...\n",
              "A PERFECT BLOOD                The witch Rachel Morgan faces a human hate gro...\n",
              "A RIVER IN THE SKY             In 1910, the Peabody-Emerson clan tries to hea...\n",
              "                                                     ...                        \n",
              "THE STORYTELLER                A New Hampshire baker finds herself in the mid...\n",
              "THE STRIKER                    n 1902, the young detective Isaac Bell discove...\n",
              "THE TWELVE TRIBES OF HATTIE    Fifty-some years in the life of an African-Ame...\n",
              "THE WRECKER                    In 1907, a detective tracks a mysterious sabot...\n",
              "WORST CASE                     A New York detective raising 10 children alone...\n",
              "Name: description, Length: 72, dtype: object"
            ]
          },
          "metadata": {},
          "execution_count": 28
        }
      ]
    },
    {
      "cell_type": "code",
      "metadata": {
        "colab": {
          "base_uri": "https://localhost:8080/"
        },
        "id": "YWQJ0r9B-f5S",
        "outputId": "5853efb0-1f82-4b42-9fdf-03d1fc489fd2"
      },
      "source": [
        "# Uno o más números seguidos de una o más letras\n",
        "new_df[new_df.str.contains(\"[1-9]+[a-z]+\", case = False)]"
      ],
      "execution_count": 38,
      "outputs": [
        {
          "output_type": "execute_result",
          "data": {
            "text/plain": [
              "title\n",
              "A MEMORY OF LIGHT                           The 14th and final novel in the Wheel of Time ...\n",
              "A MERCY                                     In 17th-­century America, a slave mother urges...\n",
              "A MIGHTY FORTRESS                           Book 4 of the Safehold series, which translate...\n",
              "ANGEL TIME                                  \\nA contract killer goes back to 13th-century ...\n",
              "BONES ARE FOREVER                           The forensic anthropologist Temperance Brennan...\n",
              "BREAKING POINT                              The 13th novel featuring Joe Pickett, a Wyomin...\n",
              "DAMAGE CONTROL                              An elderly couple’s suicide-by-accident in the...\n",
              "DARK STORM                                  In the 23rd book in the Dark series, the Carpa...\n",
              "DAYS OF GOLD                                In the 18th century, Edilean and a Scottish la...\n",
              "FLIRT                                       Anita Blake, vampire hunter, and the males in ...\n",
              "ISLAND BENEATH THE SEA                      The story of a mulatto slave in late-18th-cent...\n",
              "PIRATE LATITUDES                            In the 17th-century Caribbean, a British pirat...\n",
              "PORT MORTUARY                               In the 18th Kay Scarpetta novel, the forensic ...\n",
              "RED MIST                                    The chief medical examiner Kay Scarpetta, dire...\n",
              "SACRÉ BLEU                                  Vincent van Gogh’s friends in the 19th-century...\n",
              "STRATEGIC MOVES                             In the 19th Stone Barrington novel, the New Yo...\n",
              "THE DOUBLE COMFORT SAFARI CLUB              The 11th novel in the No. 1 Ladies’ Detective ...\n",
              "THE LIMPOPO ACADEMY OF PRIVATE DETECTION    The 13th novel in the No. 1 Ladies’ Detective ...\n",
              "THE ROPE                                    In the 17th Anna Pigeon mystery, Barr returns ...\n",
              "THE SATURDAY BIG TENT WEDDING PARTY         The 12th novel in the No. 1 Ladies’ Detective ...\n",
              "THE SOUND OF BROKEN GLASS                   Detectives Gemma Jones and her husband, Duncan...\n",
              "Name: description, dtype: object"
            ]
          },
          "metadata": {},
          "execution_count": 38
        }
      ]
    },
    {
      "cell_type": "code",
      "metadata": {
        "colab": {
          "base_uri": "https://localhost:8080/"
        },
        "id": "Mv9fUG7K-2Zl",
        "outputId": "401b2c01-3057-498e-9ee1-357fcbf23295"
      },
      "source": [
        "# Queremos los que empiezan especificamente con un patron\n",
        "new_df[new_df.str.contains(\"^After\", case = False)]"
      ],
      "execution_count": 41,
      "outputs": [
        {
          "output_type": "execute_result",
          "data": {
            "text/plain": [
              "title\n",
              "DON’T BLINK                        After a gruesome murder in a New York steak ho...\n",
              "FATAL ERROR                        After the murder of a cyber-sociopath, Ali Rey...\n",
              "FOUNDERS                           After society collapses, America’s fate is in ...\n",
              "RAPTURE                            After a man stumbles in front of the reporter ...\n",
              "STANDING IN ANOTHER MAN'S GRAVE    After retiring from the Edinburgh police force...\n",
              "THE DOG STARS                      After a flu pandemic kills most of the populat...\n",
              "THE MAGICIANS                      After sorcery college, a young man lives the h...\n",
              "WINTER GARDEN                      After their father’s death, two sisters must c...\n",
              "Name: description, dtype: object"
            ]
          },
          "metadata": {},
          "execution_count": 41
        }
      ]
    },
    {
      "cell_type": "code",
      "metadata": {
        "colab": {
          "base_uri": "https://localhost:8080/"
        },
        "id": "mt11aOMLAHKY",
        "outputId": "2decf98c-06ca-4401-848d-0d84bb3bcfd6"
      },
      "source": [
        "# Los que terminan con un patron, por ejemplo La palabra London. (notemos que estoy agregamdo el punto final al string)\n",
        "new_df[new_df.str.contains(\"London.$\", case = False)]"
      ],
      "execution_count": 42,
      "outputs": [
        {
          "output_type": "execute_result",
          "data": {
            "text/plain": [
              "title\n",
              "A DEVIL IS WAITING        Sean Dillon helps to foil a plot to assassinat...\n",
              "A WALLFLOWER CHRISTMAS                     Matchmaking in Victorian London.\n",
              "HER FEARFUL SYMMETRY      A woman haunts the flat she’s left to her twin...\n",
              "Name: description, dtype: object"
            ]
          },
          "metadata": {},
          "execution_count": 42
        }
      ]
    },
    {
      "cell_type": "code",
      "metadata": {
        "colab": {
          "base_uri": "https://localhost:8080/"
        },
        "id": "WFNTtBBRAcuB",
        "outputId": "a22eb197-035e-4e60-c851-64d7a4c8c837"
      },
      "source": [
        "# Textos que contengan especificamente las palabras que queremos una u otra y espaciadas\n",
        "#\\s indica espacio\n",
        "new_df[new_df.str.contains('\\scat\\s|\\sdog\\s', case=False)]"
      ],
      "execution_count": 43,
      "outputs": [
        {
          "output_type": "execute_result",
          "data": {
            "text/plain": [
              "title\n",
              "A DOG’S JOURNEY    In a sequel to “A Dog’s Purpose,” Buddy the do...\n",
              "DARK SUMMER        A veterinarian cares for an injured dog with a...\n",
              "Name: description, dtype: object"
            ]
          },
          "metadata": {},
          "execution_count": 43
        }
      ]
    },
    {
      "cell_type": "code",
      "metadata": {
        "colab": {
          "base_uri": "https://localhost:8080/"
        },
        "id": "9MpxR4grBWC3",
        "outputId": "62837c17-03d5-4985-ceae-3ea22ff5edc1"
      },
      "source": [
        "# Para buscar palabras en singular o plural\n",
        "new_df[new_df.str.contains('wom[ae]n|m[ae]n', case=False)]"
      ],
      "execution_count": 44,
      "outputs": [
        {
          "output_type": "execute_result",
          "data": {
            "text/plain": [
              "title\n",
              "10TH ANNIVERSARY            Detective Lindsay Boxer and the Women’s Murder...\n",
              "11TH HOUR                   Detective Lindsay Boxer and the Women’s Murder...\n",
              "1225 CHRISTMAS TREE LANE    Puppies and an ex-husband loom large in the la...\n",
              "1Q84                        In 1980s Tokyo, a woman who punishes perpetrat...\n",
              "A CEDAR COVE CHRISTMAS      A pregnant woman shows up in Cedar Cove on Chr...\n",
              "                                                  ...                        \n",
              "WHERE WE BELONG             A woman’s successful life is disrupted by the ...\n",
              "WHILE MY SISTER SLEEPS      A woman makes discoveries about her sister and...\n",
              "WICKED APPETITE             A dangerous man needs Elizabeth Tucker’s help ...\n",
              "ZERO HISTORY                Several characters from “Spook Country” return...\n",
              "ZONE ONE                      Fighting zombies in post-apocalyptic Manhattan.\n",
              "Name: description, Length: 197, dtype: object"
            ]
          },
          "metadata": {},
          "execution_count": 44
        }
      ]
    },
    {
      "cell_type": "code",
      "metadata": {
        "colab": {
          "base_uri": "https://localhost:8080/"
        },
        "id": "bcdHtwV_BoZU",
        "outputId": "5dcc6768-9494-42c2-b366-4d17d39ad23b"
      },
      "source": [
        "#Para reemplazar todos los carcteres que no sean alfanumericos, , ni espacios o tabs, por espacios vacios\n",
        "# w = words para palabras, s = space para espacios\n",
        "#Nota: \\ se usa para decirle que me busques eso, \\s busca los espacios, si solo dejo anotada la s sin el slash entonces \n",
        "#le estoy diciendo que no me busque los espacios\n",
        "new_df.str.replace('[^\\w\\s]', '', regex = True)"
      ],
      "execution_count": 49,
      "outputs": [
        {
          "output_type": "execute_result",
          "data": {
            "text/plain": [
              "title\n",
              "10TH ANNIVERSARY            Detective Lindsay Boxer and the Womens Murder ...\n",
              "11TH HOUR                   Detective Lindsay Boxer and the Womens Murder ...\n",
              "1225 CHRISTMAS TREE LANE    Puppies and an exhusband loom large in the las...\n",
              "1356                        In the fourth book of the Grail Quest series t...\n",
              "1Q84                        In 1980s Tokyo a woman who punishes perpetrato...\n",
              "                                                  ...                        \n",
              "Z                           A novel based on the lives of Zelda and F Scot...\n",
              "ZERO DAY                        A military investigator uncovers a conspiracy\n",
              "ZERO HISTORY                Several characters from Spook Country return t...\n",
              "ZONE ONE                        Fighting zombies in postapocalyptic Manhattan\n",
              "ZOO                         A young biologist warns world leaders about th...\n",
              "Name: description, Length: 754, dtype: object"
            ]
          },
          "metadata": {},
          "execution_count": 49
        }
      ]
    },
    {
      "cell_type": "code",
      "metadata": {
        "colab": {
          "base_uri": "https://localhost:8080/"
        },
        "id": "3GvKA8SCCCj3",
        "outputId": "dc2c65f5-81b3-4347-ac7f-e2dd16ab4e49"
      },
      "source": [
        "# Reemlplazar todos los caracteres numericos por un valor vacio\n",
        "new_df.replace('\\d','')"
      ],
      "execution_count": 51,
      "outputs": [
        {
          "output_type": "execute_result",
          "data": {
            "text/plain": [
              "title\n",
              "10TH ANNIVERSARY            Detective Lindsay Boxer and the Women’s Murder...\n",
              "11TH HOUR                   Detective Lindsay Boxer and the Women’s Murder...\n",
              "1225 CHRISTMAS TREE LANE    Puppies and an ex-husband loom large in the la...\n",
              "1356                        In the fourth book of the Grail Quest series, ...\n",
              "1Q84                        In 1980s Tokyo, a woman who punishes perpetrat...\n",
              "                                                  ...                        \n",
              "Z                           A novel based on the lives of Zelda and F. Sco...\n",
              "ZERO DAY                       A military investigator uncovers a conspiracy.\n",
              "ZERO HISTORY                Several characters from “Spook Country” return...\n",
              "ZONE ONE                      Fighting zombies in post-apocalyptic Manhattan.\n",
              "ZOO                         A young biologist warns world leaders about th...\n",
              "Name: description, Length: 754, dtype: object"
            ]
          },
          "metadata": {},
          "execution_count": 51
        }
      ]
    },
    {
      "cell_type": "markdown",
      "metadata": {
        "id": "9Yj3egMGFdXj"
      },
      "source": [
        "##Usando Nltk"
      ]
    },
    {
      "cell_type": "code",
      "metadata": {
        "id": "tcnjb45MEaMc"
      },
      "source": [
        ""
      ],
      "execution_count": null,
      "outputs": []
    }
  ]
}