{
  "nbformat": 4,
  "nbformat_minor": 0,
  "metadata": {
    "colab": {
      "name": "Sesion_7.ipynb",
      "provenance": [],
      "mount_file_id": "1kvNeqvEiw6pX9pMunlNu8XkIto_wFKgi",
      "authorship_tag": "ABX9TyNQyp5lP/LoYMWThCrOmbxI",
      "include_colab_link": true
    },
    "kernelspec": {
      "name": "python3",
      "display_name": "Python 3"
    },
    "language_info": {
      "name": "python"
    }
  },
  "cells": [
    {
      "cell_type": "markdown",
      "metadata": {
        "id": "view-in-github",
        "colab_type": "text"
      },
      "source": [
        "<a href=\"https://colab.research.google.com/github/LIZZETHGOMEZ/Data-Sciene-BEDU-Santander-2021/blob/main/Analisis%20de%20Datos%20con%20Python/Sesion_7.ipynb\" target=\"_parent\"><img src=\"https://colab.research.google.com/assets/colab-badge.svg\" alt=\"Open In Colab\"/></a>"
      ]
    },
    {
      "cell_type": "markdown",
      "metadata": {
        "id": "QeUynYA0zg5c"
      },
      "source": [
        "# Sesión 7: Pruebas A/B y Procesamiento de Lenguaje Natural"
      ]
    },
    {
      "cell_type": "code",
      "metadata": {
        "id": "XA5jgjfb_jU4"
      },
      "source": [
        "import pandas as pd\n",
        "import seaborn as sns\n",
        "import matplotlib.pyplot as plt"
      ],
      "execution_count": 27,
      "outputs": []
    },
    {
      "cell_type": "code",
      "metadata": {
        "colab": {
          "base_uri": "https://localhost:8080/",
          "height": 204
        },
        "id": "pf8oGqEOzYXY",
        "outputId": "68401fb2-87c4-4196-cd95-60e180ecfce9"
      },
      "source": [
        "df = pd.read_csv(\"/content/drive/MyDrive/datasets_BEDU/Remoto ab_test-sales_pipeline.csv\")\n",
        "df.head()"
      ],
      "execution_count": 4,
      "outputs": [
        {
          "output_type": "execute_result",
          "data": {
            "text/html": [
              "<div>\n",
              "<style scoped>\n",
              "    .dataframe tbody tr th:only-of-type {\n",
              "        vertical-align: middle;\n",
              "    }\n",
              "\n",
              "    .dataframe tbody tr th {\n",
              "        vertical-align: top;\n",
              "    }\n",
              "\n",
              "    .dataframe thead th {\n",
              "        text-align: right;\n",
              "    }\n",
              "</style>\n",
              "<table border=\"1\" class=\"dataframe\">\n",
              "  <thead>\n",
              "    <tr style=\"text-align: right;\">\n",
              "      <th></th>\n",
              "      <th>test</th>\n",
              "      <th>conversion</th>\n",
              "      <th>no conversion</th>\n",
              "    </tr>\n",
              "  </thead>\n",
              "  <tbody>\n",
              "    <tr>\n",
              "      <th>0</th>\n",
              "      <td>B</td>\n",
              "      <td>0</td>\n",
              "      <td>1</td>\n",
              "    </tr>\n",
              "    <tr>\n",
              "      <th>1</th>\n",
              "      <td>A</td>\n",
              "      <td>0</td>\n",
              "      <td>1</td>\n",
              "    </tr>\n",
              "    <tr>\n",
              "      <th>2</th>\n",
              "      <td>A</td>\n",
              "      <td>0</td>\n",
              "      <td>1</td>\n",
              "    </tr>\n",
              "    <tr>\n",
              "      <th>3</th>\n",
              "      <td>A</td>\n",
              "      <td>0</td>\n",
              "      <td>1</td>\n",
              "    </tr>\n",
              "    <tr>\n",
              "      <th>4</th>\n",
              "      <td>A</td>\n",
              "      <td>0</td>\n",
              "      <td>1</td>\n",
              "    </tr>\n",
              "  </tbody>\n",
              "</table>\n",
              "</div>"
            ],
            "text/plain": [
              "  test  conversion  no conversion\n",
              "0    B           0              1\n",
              "1    A           0              1\n",
              "2    A           0              1\n",
              "3    A           0              1\n",
              "4    A           0              1"
            ]
          },
          "metadata": {},
          "execution_count": 4
        }
      ]
    },
    {
      "cell_type": "code",
      "metadata": {
        "colab": {
          "base_uri": "https://localhost:8080/",
          "height": 142
        },
        "id": "MoXQ1m1b_g4-",
        "outputId": "09c90db7-0e4c-4e9a-f8e6-65202a84c14c"
      },
      "source": [
        "total_count = df.groupby('test')[['conversion', 'no conversion']].sum()\n",
        "total_count"
      ],
      "execution_count": 6,
      "outputs": [
        {
          "output_type": "execute_result",
          "data": {
            "text/html": [
              "<div>\n",
              "<style scoped>\n",
              "    .dataframe tbody tr th:only-of-type {\n",
              "        vertical-align: middle;\n",
              "    }\n",
              "\n",
              "    .dataframe tbody tr th {\n",
              "        vertical-align: top;\n",
              "    }\n",
              "\n",
              "    .dataframe thead th {\n",
              "        text-align: right;\n",
              "    }\n",
              "</style>\n",
              "<table border=\"1\" class=\"dataframe\">\n",
              "  <thead>\n",
              "    <tr style=\"text-align: right;\">\n",
              "      <th></th>\n",
              "      <th>conversion</th>\n",
              "      <th>no conversion</th>\n",
              "    </tr>\n",
              "    <tr>\n",
              "      <th>test</th>\n",
              "      <th></th>\n",
              "      <th></th>\n",
              "    </tr>\n",
              "  </thead>\n",
              "  <tbody>\n",
              "    <tr>\n",
              "      <th>A</th>\n",
              "      <td>198</td>\n",
              "      <td>23541</td>\n",
              "    </tr>\n",
              "    <tr>\n",
              "      <th>B</th>\n",
              "      <td>184</td>\n",
              "      <td>22404</td>\n",
              "    </tr>\n",
              "  </tbody>\n",
              "</table>\n",
              "</div>"
            ],
            "text/plain": [
              "      conversion  no conversion\n",
              "test                           \n",
              "A            198          23541\n",
              "B            184          22404"
            ]
          },
          "metadata": {},
          "execution_count": 6
        }
      ]
    },
    {
      "cell_type": "code",
      "metadata": {
        "colab": {
          "base_uri": "https://localhost:8080/",
          "height": 142
        },
        "id": "lLtGwy0-_xw2",
        "outputId": "a340fead-96ae-4037-adb6-30bafcfc0149"
      },
      "source": [
        "total_count['sucess_rate'] = total_count['conversion']/(total_count['conversion'] + total_count['no conversion'])\n",
        "total_count"
      ],
      "execution_count": 8,
      "outputs": [
        {
          "output_type": "execute_result",
          "data": {
            "text/html": [
              "<div>\n",
              "<style scoped>\n",
              "    .dataframe tbody tr th:only-of-type {\n",
              "        vertical-align: middle;\n",
              "    }\n",
              "\n",
              "    .dataframe tbody tr th {\n",
              "        vertical-align: top;\n",
              "    }\n",
              "\n",
              "    .dataframe thead th {\n",
              "        text-align: right;\n",
              "    }\n",
              "</style>\n",
              "<table border=\"1\" class=\"dataframe\">\n",
              "  <thead>\n",
              "    <tr style=\"text-align: right;\">\n",
              "      <th></th>\n",
              "      <th>conversion</th>\n",
              "      <th>no conversion</th>\n",
              "      <th>sucess_rate</th>\n",
              "    </tr>\n",
              "    <tr>\n",
              "      <th>test</th>\n",
              "      <th></th>\n",
              "      <th></th>\n",
              "      <th></th>\n",
              "    </tr>\n",
              "  </thead>\n",
              "  <tbody>\n",
              "    <tr>\n",
              "      <th>A</th>\n",
              "      <td>198</td>\n",
              "      <td>23541</td>\n",
              "      <td>0.008341</td>\n",
              "    </tr>\n",
              "    <tr>\n",
              "      <th>B</th>\n",
              "      <td>184</td>\n",
              "      <td>22404</td>\n",
              "      <td>0.008146</td>\n",
              "    </tr>\n",
              "  </tbody>\n",
              "</table>\n",
              "</div>"
            ],
            "text/plain": [
              "      conversion  no conversion  sucess_rate\n",
              "test                                        \n",
              "A            198          23541     0.008341\n",
              "B            184          22404     0.008146"
            ]
          },
          "metadata": {},
          "execution_count": 8
        }
      ]
    },
    {
      "cell_type": "code",
      "metadata": {
        "colab": {
          "base_uri": "https://localhost:8080/"
        },
        "id": "p6-Dlcm9ACBF",
        "outputId": "576a79cb-84e9-4f66-b5a2-883b3a694f1b"
      },
      "source": [
        "diferencia_en_proporcion = 1-(total_count.loc['B']['sucess_rate']/total_count.loc['A']['sucess_rate'])\n",
        "print(f\"El test A fue {diferencia_en_proporcion*100:.2f}% mejor que B para generar ventas\")"
      ],
      "execution_count": 18,
      "outputs": [
        {
          "output_type": "stream",
          "name": "stdout",
          "text": [
            "El test A fue 2.34% mejor que B para generar ventas\n"
          ]
        }
      ]
    },
    {
      "cell_type": "code",
      "metadata": {
        "colab": {
          "base_uri": "https://localhost:8080/"
        },
        "id": "18bVzguwCzkS",
        "outputId": "d4474022-bfd1-44d1-da56-2fb1fb415192"
      },
      "source": [
        "value_counts = df['test'].value_counts()\n",
        "value_counts"
      ],
      "execution_count": 19,
      "outputs": [
        {
          "output_type": "execute_result",
          "data": {
            "text/plain": [
              "A    23739\n",
              "B    22588\n",
              "Name: test, dtype: int64"
            ]
          },
          "metadata": {},
          "execution_count": 19
        }
      ]
    },
    {
      "cell_type": "code",
      "metadata": {
        "id": "g2cQZoptAkQU"
      },
      "source": [
        "# Prueba de Permutacion\n",
        "# Guardamos en diferentes listas cuantos convergen en a y cuantos no convergen en a igual para b\n",
        "\n",
        "conv_a = []\n",
        "no_conv_a = []\n",
        "conv_b = []\n",
        "no_conv_b =[]\n",
        "\n",
        "for i in range(1000):\n",
        "  a = df.sample(value_counts.loc['A'], replace = False)\n",
        "  conv_a.append(a['conversion'].sum())\n",
        "  no_conv_a.append(a['no conversion'].sum())\n",
        "\n",
        "  b = df.loc[~df.index.isin(a.index)]\n",
        "  conv_b.append(b['conversion'].sum())\n",
        "  no_conv_b.append(b['no conversion'].sum())\n"
      ],
      "execution_count": 22,
      "outputs": []
    },
    {
      "cell_type": "code",
      "metadata": {
        "colab": {
          "base_uri": "https://localhost:8080/",
          "height": 419
        },
        "id": "gX4ZXVFOC3CW",
        "outputId": "a9bfaeac-22f8-40bd-c566-dc2a8978da3e"
      },
      "source": [
        "results = pd.DataFrame({\n",
        "    'conv_a': conv_a,\n",
        "    'no_conv_a': no_conv_a,\n",
        "    'conv_b': conv_b,\n",
        "    'no_conv_b': no_conv_b\n",
        "})\n",
        "\n",
        "results"
      ],
      "execution_count": 24,
      "outputs": [
        {
          "output_type": "execute_result",
          "data": {
            "text/html": [
              "<div>\n",
              "<style scoped>\n",
              "    .dataframe tbody tr th:only-of-type {\n",
              "        vertical-align: middle;\n",
              "    }\n",
              "\n",
              "    .dataframe tbody tr th {\n",
              "        vertical-align: top;\n",
              "    }\n",
              "\n",
              "    .dataframe thead th {\n",
              "        text-align: right;\n",
              "    }\n",
              "</style>\n",
              "<table border=\"1\" class=\"dataframe\">\n",
              "  <thead>\n",
              "    <tr style=\"text-align: right;\">\n",
              "      <th></th>\n",
              "      <th>conv_a</th>\n",
              "      <th>no_conv_a</th>\n",
              "      <th>conv_b</th>\n",
              "      <th>no_conv_b</th>\n",
              "    </tr>\n",
              "  </thead>\n",
              "  <tbody>\n",
              "    <tr>\n",
              "      <th>0</th>\n",
              "      <td>183</td>\n",
              "      <td>23556</td>\n",
              "      <td>199</td>\n",
              "      <td>22389</td>\n",
              "    </tr>\n",
              "    <tr>\n",
              "      <th>1</th>\n",
              "      <td>174</td>\n",
              "      <td>23565</td>\n",
              "      <td>208</td>\n",
              "      <td>22380</td>\n",
              "    </tr>\n",
              "    <tr>\n",
              "      <th>2</th>\n",
              "      <td>190</td>\n",
              "      <td>23549</td>\n",
              "      <td>192</td>\n",
              "      <td>22396</td>\n",
              "    </tr>\n",
              "    <tr>\n",
              "      <th>3</th>\n",
              "      <td>196</td>\n",
              "      <td>23543</td>\n",
              "      <td>186</td>\n",
              "      <td>22402</td>\n",
              "    </tr>\n",
              "    <tr>\n",
              "      <th>4</th>\n",
              "      <td>193</td>\n",
              "      <td>23546</td>\n",
              "      <td>189</td>\n",
              "      <td>22399</td>\n",
              "    </tr>\n",
              "    <tr>\n",
              "      <th>...</th>\n",
              "      <td>...</td>\n",
              "      <td>...</td>\n",
              "      <td>...</td>\n",
              "      <td>...</td>\n",
              "    </tr>\n",
              "    <tr>\n",
              "      <th>995</th>\n",
              "      <td>194</td>\n",
              "      <td>23545</td>\n",
              "      <td>188</td>\n",
              "      <td>22400</td>\n",
              "    </tr>\n",
              "    <tr>\n",
              "      <th>996</th>\n",
              "      <td>173</td>\n",
              "      <td>23566</td>\n",
              "      <td>209</td>\n",
              "      <td>22379</td>\n",
              "    </tr>\n",
              "    <tr>\n",
              "      <th>997</th>\n",
              "      <td>191</td>\n",
              "      <td>23548</td>\n",
              "      <td>191</td>\n",
              "      <td>22397</td>\n",
              "    </tr>\n",
              "    <tr>\n",
              "      <th>998</th>\n",
              "      <td>188</td>\n",
              "      <td>23551</td>\n",
              "      <td>194</td>\n",
              "      <td>22394</td>\n",
              "    </tr>\n",
              "    <tr>\n",
              "      <th>999</th>\n",
              "      <td>185</td>\n",
              "      <td>23554</td>\n",
              "      <td>197</td>\n",
              "      <td>22391</td>\n",
              "    </tr>\n",
              "  </tbody>\n",
              "</table>\n",
              "<p>1000 rows × 4 columns</p>\n",
              "</div>"
            ],
            "text/plain": [
              "     conv_a  no_conv_a  conv_b  no_conv_b\n",
              "0       183      23556     199      22389\n",
              "1       174      23565     208      22380\n",
              "2       190      23549     192      22396\n",
              "3       196      23543     186      22402\n",
              "4       193      23546     189      22399\n",
              "..      ...        ...     ...        ...\n",
              "995     194      23545     188      22400\n",
              "996     173      23566     209      22379\n",
              "997     191      23548     191      22397\n",
              "998     188      23551     194      22394\n",
              "999     185      23554     197      22391\n",
              "\n",
              "[1000 rows x 4 columns]"
            ]
          },
          "metadata": {},
          "execution_count": 24
        }
      ]
    },
    {
      "cell_type": "code",
      "metadata": {
        "colab": {
          "base_uri": "https://localhost:8080/",
          "height": 419
        },
        "id": "r8uPThE_Da1k",
        "outputId": "6f183cd4-de2c-4b2d-92a0-4c9caab957c1"
      },
      "source": [
        "results['a_conv_rate'] = results['conv_a'] /(results['conv_a'] + results['no_conv_a'])\n",
        "results['b_conv_rate'] = results['conv_b'] /(results['conv_b'] + results['no_conv_b'])\n",
        "results['diff'] = 1 - (results['b_conv_rate'] / results['a_conv_rate'])\n",
        "\n",
        "results\n"
      ],
      "execution_count": 25,
      "outputs": [
        {
          "output_type": "execute_result",
          "data": {
            "text/html": [
              "<div>\n",
              "<style scoped>\n",
              "    .dataframe tbody tr th:only-of-type {\n",
              "        vertical-align: middle;\n",
              "    }\n",
              "\n",
              "    .dataframe tbody tr th {\n",
              "        vertical-align: top;\n",
              "    }\n",
              "\n",
              "    .dataframe thead th {\n",
              "        text-align: right;\n",
              "    }\n",
              "</style>\n",
              "<table border=\"1\" class=\"dataframe\">\n",
              "  <thead>\n",
              "    <tr style=\"text-align: right;\">\n",
              "      <th></th>\n",
              "      <th>conv_a</th>\n",
              "      <th>no_conv_a</th>\n",
              "      <th>conv_b</th>\n",
              "      <th>no_conv_b</th>\n",
              "      <th>a_conv_rate</th>\n",
              "      <th>b_conv_rate</th>\n",
              "      <th>diff</th>\n",
              "    </tr>\n",
              "  </thead>\n",
              "  <tbody>\n",
              "    <tr>\n",
              "      <th>0</th>\n",
              "      <td>183</td>\n",
              "      <td>23556</td>\n",
              "      <td>199</td>\n",
              "      <td>22389</td>\n",
              "      <td>0.007709</td>\n",
              "      <td>0.008810</td>\n",
              "      <td>-0.142843</td>\n",
              "    </tr>\n",
              "    <tr>\n",
              "      <th>1</th>\n",
              "      <td>174</td>\n",
              "      <td>23565</td>\n",
              "      <td>208</td>\n",
              "      <td>22380</td>\n",
              "      <td>0.007330</td>\n",
              "      <td>0.009208</td>\n",
              "      <td>-0.256316</td>\n",
              "    </tr>\n",
              "    <tr>\n",
              "      <th>2</th>\n",
              "      <td>190</td>\n",
              "      <td>23549</td>\n",
              "      <td>192</td>\n",
              "      <td>22396</td>\n",
              "      <td>0.008004</td>\n",
              "      <td>0.008500</td>\n",
              "      <td>-0.062019</td>\n",
              "    </tr>\n",
              "    <tr>\n",
              "      <th>3</th>\n",
              "      <td>196</td>\n",
              "      <td>23543</td>\n",
              "      <td>186</td>\n",
              "      <td>22402</td>\n",
              "      <td>0.008256</td>\n",
              "      <td>0.008234</td>\n",
              "      <td>0.002664</td>\n",
              "    </tr>\n",
              "    <tr>\n",
              "      <th>4</th>\n",
              "      <td>193</td>\n",
              "      <td>23546</td>\n",
              "      <td>189</td>\n",
              "      <td>22399</td>\n",
              "      <td>0.008130</td>\n",
              "      <td>0.008367</td>\n",
              "      <td>-0.029175</td>\n",
              "    </tr>\n",
              "    <tr>\n",
              "      <th>...</th>\n",
              "      <td>...</td>\n",
              "      <td>...</td>\n",
              "      <td>...</td>\n",
              "      <td>...</td>\n",
              "      <td>...</td>\n",
              "      <td>...</td>\n",
              "      <td>...</td>\n",
              "    </tr>\n",
              "    <tr>\n",
              "      <th>995</th>\n",
              "      <td>194</td>\n",
              "      <td>23545</td>\n",
              "      <td>188</td>\n",
              "      <td>22400</td>\n",
              "      <td>0.008172</td>\n",
              "      <td>0.008323</td>\n",
              "      <td>-0.018452</td>\n",
              "    </tr>\n",
              "    <tr>\n",
              "      <th>996</th>\n",
              "      <td>173</td>\n",
              "      <td>23566</td>\n",
              "      <td>209</td>\n",
              "      <td>22379</td>\n",
              "      <td>0.007288</td>\n",
              "      <td>0.009253</td>\n",
              "      <td>-0.269652</td>\n",
              "    </tr>\n",
              "    <tr>\n",
              "      <th>997</th>\n",
              "      <td>191</td>\n",
              "      <td>23548</td>\n",
              "      <td>191</td>\n",
              "      <td>22397</td>\n",
              "      <td>0.008046</td>\n",
              "      <td>0.008456</td>\n",
              "      <td>-0.050956</td>\n",
              "    </tr>\n",
              "    <tr>\n",
              "      <th>998</th>\n",
              "      <td>188</td>\n",
              "      <td>23551</td>\n",
              "      <td>194</td>\n",
              "      <td>22394</td>\n",
              "      <td>0.007919</td>\n",
              "      <td>0.008589</td>\n",
              "      <td>-0.084497</td>\n",
              "    </tr>\n",
              "    <tr>\n",
              "      <th>999</th>\n",
              "      <td>185</td>\n",
              "      <td>23554</td>\n",
              "      <td>197</td>\n",
              "      <td>22391</td>\n",
              "      <td>0.007793</td>\n",
              "      <td>0.008721</td>\n",
              "      <td>-0.119126</td>\n",
              "    </tr>\n",
              "  </tbody>\n",
              "</table>\n",
              "<p>1000 rows × 7 columns</p>\n",
              "</div>"
            ],
            "text/plain": [
              "     conv_a  no_conv_a  conv_b  no_conv_b  a_conv_rate  b_conv_rate      diff\n",
              "0       183      23556     199      22389     0.007709     0.008810 -0.142843\n",
              "1       174      23565     208      22380     0.007330     0.009208 -0.256316\n",
              "2       190      23549     192      22396     0.008004     0.008500 -0.062019\n",
              "3       196      23543     186      22402     0.008256     0.008234  0.002664\n",
              "4       193      23546     189      22399     0.008130     0.008367 -0.029175\n",
              "..      ...        ...     ...        ...          ...          ...       ...\n",
              "995     194      23545     188      22400     0.008172     0.008323 -0.018452\n",
              "996     173      23566     209      22379     0.007288     0.009253 -0.269652\n",
              "997     191      23548     191      22397     0.008046     0.008456 -0.050956\n",
              "998     188      23551     194      22394     0.007919     0.008589 -0.084497\n",
              "999     185      23554     197      22391     0.007793     0.008721 -0.119126\n",
              "\n",
              "[1000 rows x 7 columns]"
            ]
          },
          "metadata": {},
          "execution_count": 25
        }
      ]
    },
    {
      "cell_type": "code",
      "metadata": {
        "colab": {
          "base_uri": "https://localhost:8080/",
          "height": 369
        },
        "id": "v2AXOFM4EbA2",
        "outputId": "14e35c3a-df14-4931-bcb5-dad8986ab564"
      },
      "source": [
        "#graficamos\n",
        "sns.set_style('darkgrid')\n",
        "sns.displot(results['diff'], color = 'orange')\n",
        "plt.axvline(diferencia_en_proporcion);"
      ],
      "execution_count": 50,
      "outputs": [
        {
          "output_type": "display_data",
          "data": {
            "image/png": "[encoded data removed]",
            "text/plain": [
              "<Figure size 360x360 with 1 Axes>"
            ]
          },
          "metadata": {}
        }
      ]
    },
    {
      "cell_type": "code",
      "metadata": {
        "colab": {
          "base_uri": "https://localhost:8080/"
        },
        "id": "w5f81ZlCEwyu",
        "outputId": "0648a812-66b6-450c-e3ec-82cc59ef2be2"
      },
      "source": [
        "(results['diff'] >= diferencia_en_proporcion).sum() / results.shape[0] *100"
      ],
      "execution_count": 45,
      "outputs": [
        {
          "output_type": "execute_result",
          "data": {
            "text/plain": [
              "42.3"
            ]
          },
          "metadata": {},
          "execution_count": 45
        }
      ]
    },
    {
      "cell_type": "markdown",
      "metadata": {
        "id": "razLd584RP2S"
      },
      "source": [
        "## Expresiones regulares: Regex"
      ]
    },
    {
      "cell_type": "code",
      "metadata": {
        "id": "1Z4qzSasG32h"
      },
      "source": [
        "import pandas as pd\n",
        "import re"
      ],
      "execution_count": 51,
      "outputs": []
    },
    {
      "cell_type": "code",
      "metadata": {
        "id": "tHQyHweMRT3O"
      },
      "source": [
        ""
      ],
      "execution_count": null,
      "outputs": []
    }
  ]
}