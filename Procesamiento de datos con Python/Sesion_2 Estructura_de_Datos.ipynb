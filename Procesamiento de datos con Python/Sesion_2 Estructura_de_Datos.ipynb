{
  "nbformat": 4,
  "nbformat_minor": 0,
  "metadata": {
    "colab": {
      "name": "Estructura de Datos.ipynb",
      "provenance": [],
      "authorship_tag": "ABX9TyOfwBbXxXMMVK4ahrESCBOP",
      "include_colab_link": true
    },
    "kernelspec": {
      "name": "python3",
      "display_name": "Python 3"
    },
    "language_info": {
      "name": "python"
    }
  },
  "cells": [
    {
      "cell_type": "markdown",
      "metadata": {
        "id": "view-in-github",
        "colab_type": "text"
      },
      "source": [
        "<a href=\"https://colab.research.google.com/github/LIZZETHGOMEZ/BEDU-Santander-2021/blob/main/Sesion_2%20Estructura_de_Datos.ipynb\" target=\"_parent\"><img src=\"https://colab.research.google.com/assets/colab-badge.svg\" alt=\"Open In Colab\"/></a>"
      ]
    },
    {
      "cell_type": "markdown",
      "metadata": {
        "id": "kaPZGfaWbMv6"
      },
      "source": [
        "### Sesión 2 Estructuras de Datos"
      ]
    },
    {
      "cell_type": "markdown",
      "metadata": {
        "id": "Zhd3HniwbY2z"
      },
      "source": [
        "#### Listas"
      ]
    },
    {
      "cell_type": "code",
      "metadata": {
        "id": "6yRNPQXmbLvU"
      },
      "source": [
        "list(range(10))\n",
        "lista_1 = list(range(10))"
      ],
      "execution_count": 5,
      "outputs": []
    },
    {
      "cell_type": "code",
      "metadata": {
        "colab": {
          "base_uri": "https://localhost:8080/"
        },
        "id": "Z2j4VhtscF2w",
        "outputId": "2e433e76-93df-4023-d235-e8546e0b1d15"
      },
      "source": [
        "lista_1 = [1,2,3,4,5]\n",
        "print(lista_1[1])\n",
        "lista_1[-1]"
      ],
      "execution_count": 9,
      "outputs": [
        {
          "output_type": "stream",
          "text": [
            "2\n"
          ],
          "name": "stdout"
        },
        {
          "output_type": "execute_result",
          "data": {
            "text/plain": [
              "5"
            ]
          },
          "metadata": {
            "tags": []
          },
          "execution_count": 9
        }
      ]
    },
    {
      "cell_type": "code",
      "metadata": {
        "id": "HCtRQg0dcIjZ"
      },
      "source": [
        "var_1 = 1\n",
        "var_2 = 2\n",
        "var_3 = 3\n",
        "lista_2 = [var_1, var_2, var_3]"
      ],
      "execution_count": 12,
      "outputs": []
    },
    {
      "cell_type": "code",
      "metadata": {
        "colab": {
          "base_uri": "https://localhost:8080/"
        },
        "id": "3ORrqjWpdZ6I",
        "outputId": "a3064b4a-8f38-407b-84bb-474cc00b2a4e"
      },
      "source": [
        "# Una lista de listas ( se puede representar como matrices)\n",
        "lista_3 = [[1,2,3],\n",
        "           [4,5,6],\n",
        "           [7,8,9]]\n",
        "lista_3"
      ],
      "execution_count": 15,
      "outputs": [
        {
          "output_type": "execute_result",
          "data": {
            "text/plain": [
              "[[1, 2, 3], [4, 5, 6], [7, 8, 9]]"
            ]
          },
          "metadata": {
            "tags": []
          },
          "execution_count": 15
        }
      ]
    },
    {
      "cell_type": "code",
      "metadata": {
        "id": "fxmcYrIjdnwc"
      },
      "source": [
        "lista_1 = [1,2,3,4,5]"
      ],
      "execution_count": 16,
      "outputs": []
    },
    {
      "cell_type": "code",
      "metadata": {
        "colab": {
          "base_uri": "https://localhost:8080/"
        },
        "id": "mY2BfLdviAqg",
        "outputId": "cccdb87b-b1f0-48fe-8fb4-0ec59eeb318c"
      },
      "source": [
        "lista_1.append(6)\n",
        "lista_1"
      ],
      "execution_count": 18,
      "outputs": [
        {
          "output_type": "execute_result",
          "data": {
            "text/plain": [
              "[1, 2, 3, 4, 5, 6, 6]"
            ]
          },
          "metadata": {
            "tags": []
          },
          "execution_count": 18
        }
      ]
    },
    {
      "cell_type": "code",
      "metadata": {
        "colab": {
          "base_uri": "https://localhost:8080/"
        },
        "id": "NzlGkI6ViExP",
        "outputId": "40ae512a-8d2d-4956-b8dd-958c7a8db591"
      },
      "source": [
        "lista_1.pop()"
      ],
      "execution_count": 20,
      "outputs": [
        {
          "output_type": "execute_result",
          "data": {
            "text/plain": [
              "6"
            ]
          },
          "metadata": {
            "tags": []
          },
          "execution_count": 20
        }
      ]
    },
    {
      "cell_type": "code",
      "metadata": {
        "colab": {
          "base_uri": "https://localhost:8080/"
        },
        "id": "mUAqi4q5iRVV",
        "outputId": "43f47a7b-5ed3-4bcb-96d4-b6bb88ace3c3"
      },
      "source": [
        "# Inseratr a la lista, (indice, valor)\n",
        "lista_1.insert(6,\"hola\")\n",
        "lista_1"
      ],
      "execution_count": 23,
      "outputs": [
        {
          "output_type": "execute_result",
          "data": {
            "text/plain": [
              "[1, 2, 3, 4, 5, 6, 'hola', 6]"
            ]
          },
          "metadata": {
            "tags": []
          },
          "execution_count": 23
        }
      ]
    },
    {
      "cell_type": "markdown",
      "metadata": {
        "id": "h3x9wIXYosAj"
      },
      "source": [
        "### Diccionario\n",
        " x = { \"llave\" : valor }"
      ]
    },
    {
      "cell_type": "code",
      "metadata": {
        "id": "DxuqhzBpiqZS"
      },
      "source": [
        "diccionario_1 = {\"int\":34,\n",
        "                 \"float\":4.5,\n",
        "                 \"string\" : \"hola\",\n",
        "                 \"diccionario\" : {1: \"uno\", \"hola\": \"dos\"},\n",
        "                 \"lista\": [1,2,3]\n",
        "                 }"
      ],
      "execution_count": 35,
      "outputs": []
    },
    {
      "cell_type": "code",
      "metadata": {
        "colab": {
          "base_uri": "https://localhost:8080/"
        },
        "id": "x8NFu40WpVnL",
        "outputId": "f3a0f34f-84bd-4cae-ec9c-711de6852a45"
      },
      "source": [
        "# Acceder al diccionario\n",
        "diccionario_1[\"float\"]"
      ],
      "execution_count": 27,
      "outputs": [
        {
          "output_type": "execute_result",
          "data": {
            "text/plain": [
              "4.5"
            ]
          },
          "metadata": {
            "tags": []
          },
          "execution_count": 27
        }
      ]
    },
    {
      "cell_type": "code",
      "metadata": {
        "colab": {
          "base_uri": "https://localhost:8080/"
        },
        "id": "SZu64-HophLj",
        "outputId": "824f9628-d96c-4a8a-d9fe-702381173efd"
      },
      "source": [
        "diccionario_1[\"lista\"][2]"
      ],
      "execution_count": 31,
      "outputs": [
        {
          "output_type": "execute_result",
          "data": {
            "text/plain": [
              "3"
            ]
          },
          "metadata": {
            "tags": []
          },
          "execution_count": 31
        }
      ]
    },
    {
      "cell_type": "code",
      "metadata": {
        "colab": {
          "base_uri": "https://localhost:8080/",
          "height": 35
        },
        "id": "BLuIDjsNpuCK",
        "outputId": "34d2521d-6742-43fe-a202-dbdf27ad2122"
      },
      "source": [
        "diccionario_1[\"diccionario\"][\"hola\"]"
      ],
      "execution_count": 36,
      "outputs": [
        {
          "output_type": "execute_result",
          "data": {
            "application/vnd.google.colaboratory.intrinsic+json": {
              "type": "string"
            },
            "text/plain": [
              "'dos'"
            ]
          },
          "metadata": {
            "tags": []
          },
          "execution_count": 36
        }
      ]
    },
    {
      "cell_type": "code",
      "metadata": {
        "colab": {
          "base_uri": "https://localhost:8080/"
        },
        "id": "Dmry-5ymp2E_",
        "outputId": "78b62a6e-72ed-42b7-cac9-d9e5e4f1be9a"
      },
      "source": [
        "diccionario_1.get(\"lista\", \"no existe\")"
      ],
      "execution_count": 39,
      "outputs": [
        {
          "output_type": "execute_result",
          "data": {
            "text/plain": [
              "[1, 2, 3]"
            ]
          },
          "metadata": {
            "tags": []
          },
          "execution_count": 39
        }
      ]
    },
    {
      "cell_type": "code",
      "metadata": {
        "colab": {
          "base_uri": "https://localhost:8080/",
          "height": 35
        },
        "id": "jrPD5_CMtfzq",
        "outputId": "5ebba704-02a6-49b3-c95f-ed0a40c211db"
      },
      "source": [
        "diccionario_1.get(\"listA\", \"no existe\")"
      ],
      "execution_count": 40,
      "outputs": [
        {
          "output_type": "execute_result",
          "data": {
            "application/vnd.google.colaboratory.intrinsic+json": {
              "type": "string"
            },
            "text/plain": [
              "'no existe'"
            ]
          },
          "metadata": {
            "tags": []
          },
          "execution_count": 40
        }
      ]
    },
    {
      "cell_type": "code",
      "metadata": {
        "id": "HZ-xHd5wtoj0"
      },
      "source": [
        ""
      ],
      "execution_count": null,
      "outputs": []
    }
  ]
}
