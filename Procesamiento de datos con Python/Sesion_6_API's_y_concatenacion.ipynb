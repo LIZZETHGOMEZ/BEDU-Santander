{
  "nbformat": 4,
  "nbformat_minor": 0,
  "metadata": {
    "colab": {
      "name": "API's_y_concatenacion.ipynb",
      "provenance": [],
      "authorship_tag": "ABX9TyP/LVJ9JMdPmwTBycxEw2mx",
      "include_colab_link": true
    },
    "kernelspec": {
      "name": "python3",
      "display_name": "Python 3"
    },
    "language_info": {
      "name": "python"
    }
  },
  "cells": [
    {
      "cell_type": "markdown",
      "metadata": {
        "id": "view-in-github",
        "colab_type": "text"
      },
      "source": [
        "<a href=\"https://colab.research.google.com/github/LIZZETHGOMEZ/BEDU-Santander-2021/blob/main/API's_y_concatenacion.ipynb\" target=\"_parent\"><img src=\"https://colab.research.google.com/assets/colab-badge.svg\" alt=\"Open In Colab\"/></a>"
      ]
    },
    {
      "cell_type": "markdown",
      "metadata": {
        "id": "w6tFwOefaw_J"
      },
      "source": [
        "## Sesión 6: **Manejo de API'S**"
      ]
    },
    {
      "cell_type": "markdown",
      "metadata": {
        "id": "e9ZwV2UsbJ8K"
      },
      "source": [
        "### Notas sobre solicitud de información de HTTP\n",
        "- GET: Lo usamos cuando queremos pedir información\n",
        "- POST: Lo usamos cuando queremos enviar información para crear algo (una cuenta de usuario, por ejemplo)\n",
        "- PUT: Lo usamos cuando queremos sustituir algún dato por otro\n",
        "- PATCH: Lo usamos cuando queremos modificar algún dato\n",
        "- DELETE: Lo usamos cuando queremos eliminar algún dato"
      ]
    },
    {
      "cell_type": "code",
      "metadata": {
        "id": "-2XXyIo8bDnG",
        "colab": {
          "base_uri": "https://localhost:8080/"
        },
        "outputId": "64be9ed8-8c7a-4a2a-d975-51efc938d2a1"
      },
      "source": [
        "#Instalamos biblioteca para peticiones información en HTTP\n",
        "!pip install requests"
      ],
      "execution_count": 1,
      "outputs": [
        {
          "output_type": "stream",
          "text": [
            "Requirement already satisfied: requests in /usr/local/lib/python3.7/dist-packages (2.23.0)\n",
            "Requirement already satisfied: urllib3!=1.25.0,!=1.25.1,<1.26,>=1.21.1 in /usr/local/lib/python3.7/dist-packages (from requests) (1.24.3)\n",
            "Requirement already satisfied: chardet<4,>=3.0.2 in /usr/local/lib/python3.7/dist-packages (from requests) (3.0.4)\n",
            "Requirement already satisfied: idna<3,>=2.5 in /usr/local/lib/python3.7/dist-packages (from requests) (2.10)\n",
            "Requirement already satisfied: certifi>=2017.4.17 in /usr/local/lib/python3.7/dist-packages (from requests) (2021.5.30)\n"
          ],
          "name": "stdout"
        }
      ]
    },
    {
      "cell_type": "code",
      "metadata": {
        "id": "kckm6AKfWAjz"
      },
      "source": [
        "import requests\n",
        "import pandas as pd"
      ],
      "execution_count": 26,
      "outputs": []
    },
    {
      "cell_type": "code",
      "metadata": {
        "id": "ffKUAvB1Xbxy"
      },
      "source": [
        "#Por convención les llamamos endpoint a los accesos\n",
        "endpoint = \" https://api.nasa.gov/neo/rest/v1/neo/browse/\"\n",
        "\n",
        "payload = {\"api_key\": \"NGkLULRS1fZXFUD26ZKmffmwkLhhWhfFW43QlLip\"}"
      ],
      "execution_count": 7,
      "outputs": []
    },
    {
      "cell_type": "code",
      "metadata": {
        "colab": {
          "base_uri": "https://localhost:8080/"
        },
        "id": "GJGngcw_X8-n",
        "outputId": "684e5acb-b068-476f-e334-ddaea4b0b434"
      },
      "source": [
        "# Llamamos al archivo con los parametros de el acceso y la llave de acceso\n",
        "r = requests.get(endpoint, payload)\n",
        "\n",
        "# Veamos el estatus, con 200 sabemos que el request fue exitoso.\n",
        "r.status_code"
      ],
      "execution_count": 22,
      "outputs": [
        {
          "output_type": "execute_result",
          "data": {
            "text/plain": [
              "200"
            ]
          },
          "metadata": {
            "tags": []
          },
          "execution_count": 22
        }
      ]
    },
    {
      "cell_type": "code",
      "metadata": {
        "id": "F_tEbZE0okAZ"
      },
      "source": [
        "#Observemos los datos que estan en formato json\n",
        "r.json()"
      ],
      "execution_count": null,
      "outputs": []
    },
    {
      "cell_type": "code",
      "metadata": {
        "colab": {
          "base_uri": "https://localhost:8080/"
        },
        "id": "fBHv0IvKpQmH",
        "outputId": "34405652-be51-432a-9e83-75bdca5fe9fa"
      },
      "source": [
        "json = r.json()\n",
        "json.keys()"
      ],
      "execution_count": 32,
      "outputs": [
        {
          "output_type": "execute_result",
          "data": {
            "text/plain": [
              "dict_keys(['links', 'page', 'near_earth_objects'])"
            ]
          },
          "metadata": {
            "tags": []
          },
          "execution_count": 32
        }
      ]
    },
    {
      "cell_type": "code",
      "metadata": {
        "colab": {
          "base_uri": "https://localhost:8080/"
        },
        "id": "1AXXKtX9peR1",
        "outputId": "00265f43-b1a4-44b0-b8c7-7b38cdd20e02"
      },
      "source": [
        "json[\"links\"]"
      ],
      "execution_count": 33,
      "outputs": [
        {
          "output_type": "execute_result",
          "data": {
            "text/plain": [
              "{'next': 'http://www.neowsapp.com/rest/v1/neo/browse?page=1&size=20&api_key=NGkLULRS1fZXFUD26ZKmffmwkLhhWhfFW43QlLip',\n",
              " 'self': 'http://www.neowsapp.com/rest/v1/neo/browse?page=0&size=20&api_key=NGkLULRS1fZXFUD26ZKmffmwkLhhWhfFW43QlLip'}"
            ]
          },
          "metadata": {
            "tags": []
          },
          "execution_count": 33
        }
      ]
    },
    {
      "cell_type": "code",
      "metadata": {
        "colab": {
          "base_uri": "https://localhost:8080/"
        },
        "id": "Gmo4QqPjptw5",
        "outputId": "fb20aff1-0199-4a29-994b-9e9ac84a3fad"
      },
      "source": [
        "json[\"page\"]"
      ],
      "execution_count": 34,
      "outputs": [
        {
          "output_type": "execute_result",
          "data": {
            "text/plain": [
              "{'number': 0, 'size': 20, 'total_elements': 26326, 'total_pages': 1317}"
            ]
          },
          "metadata": {
            "tags": []
          },
          "execution_count": 34
        }
      ]
    },
    {
      "cell_type": "code",
      "metadata": {
        "id": "Kik3FaX6qhPP"
      },
      "source": [
        "json['near_earth_objects'] # Observemos que en realidad es una lista"
      ],
      "execution_count": null,
      "outputs": []
    },
    {
      "cell_type": "code",
      "metadata": {
        "id": "w36S01agqnNr"
      },
      "source": [
        "# Con pprint obtenemos una visualizacion mas organizada de los datos\n",
        "from pprint import pprint\n",
        "pprint(json['near_earth_objects'][0])"
      ],
      "execution_count": null,
      "outputs": []
    },
    {
      "cell_type": "code",
      "metadata": {
        "colab": {
          "base_uri": "https://localhost:8080/",
          "height": 462
        },
        "id": "0upopoMsq2HO",
        "outputId": "6b98e294-6206-4004-ec13-1a236ab0ba99"
      },
      "source": [
        "# Guardamos y transformamos a df\n",
        "data = json[\"near_earth_objects\"]\n",
        "df = pd.DataFrame(data)\n",
        "df.head() #Notemos que esta feo seguimos teniendo un estilo json y lo corregimos normalizando"
      ],
      "execution_count": 43,
      "outputs": [
        {
          "output_type": "execute_result",
          "data": {
            "text/html": [
              "<div>\n",
              "<style scoped>\n",
              "    .dataframe tbody tr th:only-of-type {\n",
              "        vertical-align: middle;\n",
              "    }\n",
              "\n",
              "    .dataframe tbody tr th {\n",
              "        vertical-align: top;\n",
              "    }\n",
              "\n",
              "    .dataframe thead th {\n",
              "        text-align: right;\n",
              "    }\n",
              "</style>\n",
              "<table border=\"1\" class=\"dataframe\">\n",
              "  <thead>\n",
              "    <tr style=\"text-align: right;\">\n",
              "      <th></th>\n",
              "      <th>links</th>\n",
              "      <th>id</th>\n",
              "      <th>neo_reference_id</th>\n",
              "      <th>name</th>\n",
              "      <th>name_limited</th>\n",
              "      <th>designation</th>\n",
              "      <th>nasa_jpl_url</th>\n",
              "      <th>absolute_magnitude_h</th>\n",
              "      <th>estimated_diameter</th>\n",
              "      <th>is_potentially_hazardous_asteroid</th>\n",
              "      <th>close_approach_data</th>\n",
              "      <th>orbital_data</th>\n",
              "      <th>is_sentry_object</th>\n",
              "    </tr>\n",
              "  </thead>\n",
              "  <tbody>\n",
              "    <tr>\n",
              "      <th>0</th>\n",
              "      <td>{'self': 'http://www.neowsapp.com/rest/v1/neo/...</td>\n",
              "      <td>2000433</td>\n",
              "      <td>2000433</td>\n",
              "      <td>433 Eros (A898 PA)</td>\n",
              "      <td>Eros</td>\n",
              "      <td>433</td>\n",
              "      <td>http://ssd.jpl.nasa.gov/sbdb.cgi?sstr=2000433</td>\n",
              "      <td>10.42</td>\n",
              "      <td>{'kilometers': {'estimated_diameter_min': 21.9...</td>\n",
              "      <td>False</td>\n",
              "      <td>[{'close_approach_date': '1900-12-27', 'close_...</td>\n",
              "      <td>{'orbit_id': '659', 'orbit_determination_date'...</td>\n",
              "      <td>False</td>\n",
              "    </tr>\n",
              "    <tr>\n",
              "      <th>1</th>\n",
              "      <td>{'self': 'http://www.neowsapp.com/rest/v1/neo/...</td>\n",
              "      <td>2000719</td>\n",
              "      <td>2000719</td>\n",
              "      <td>719 Albert (A911 TB)</td>\n",
              "      <td>Albert</td>\n",
              "      <td>719</td>\n",
              "      <td>http://ssd.jpl.nasa.gov/sbdb.cgi?sstr=2000719</td>\n",
              "      <td>15.51</td>\n",
              "      <td>{'kilometers': {'estimated_diameter_min': 2.10...</td>\n",
              "      <td>False</td>\n",
              "      <td>[{'close_approach_date': '1909-08-21', 'close_...</td>\n",
              "      <td>{'orbit_id': '220', 'orbit_determination_date'...</td>\n",
              "      <td>False</td>\n",
              "    </tr>\n",
              "    <tr>\n",
              "      <th>2</th>\n",
              "      <td>{'self': 'http://www.neowsapp.com/rest/v1/neo/...</td>\n",
              "      <td>2000887</td>\n",
              "      <td>2000887</td>\n",
              "      <td>887 Alinda (A918 AA)</td>\n",
              "      <td>Alinda</td>\n",
              "      <td>887</td>\n",
              "      <td>http://ssd.jpl.nasa.gov/sbdb.cgi?sstr=2000887</td>\n",
              "      <td>13.87</td>\n",
              "      <td>{'kilometers': {'estimated_diameter_min': 4.47...</td>\n",
              "      <td>False</td>\n",
              "      <td>[{'close_approach_date': '1910-01-04', 'close_...</td>\n",
              "      <td>{'orbit_id': '427', 'orbit_determination_date'...</td>\n",
              "      <td>False</td>\n",
              "    </tr>\n",
              "    <tr>\n",
              "      <th>3</th>\n",
              "      <td>{'self': 'http://www.neowsapp.com/rest/v1/neo/...</td>\n",
              "      <td>2001036</td>\n",
              "      <td>2001036</td>\n",
              "      <td>1036 Ganymed (A924 UB)</td>\n",
              "      <td>Ganymed</td>\n",
              "      <td>1036</td>\n",
              "      <td>http://ssd.jpl.nasa.gov/sbdb.cgi?sstr=2001036</td>\n",
              "      <td>9.25</td>\n",
              "      <td>{'kilometers': {'estimated_diameter_min': 37.5...</td>\n",
              "      <td>False</td>\n",
              "      <td>[{'close_approach_date': '1910-02-25', 'close_...</td>\n",
              "      <td>{'orbit_id': '925', 'orbit_determination_date'...</td>\n",
              "      <td>False</td>\n",
              "    </tr>\n",
              "    <tr>\n",
              "      <th>4</th>\n",
              "      <td>{'self': 'http://www.neowsapp.com/rest/v1/neo/...</td>\n",
              "      <td>2001221</td>\n",
              "      <td>2001221</td>\n",
              "      <td>1221 Amor (1932 EA1)</td>\n",
              "      <td>Amor</td>\n",
              "      <td>1221</td>\n",
              "      <td>http://ssd.jpl.nasa.gov/sbdb.cgi?sstr=2001221</td>\n",
              "      <td>17.39</td>\n",
              "      <td>{'kilometers': {'estimated_diameter_min': 0.88...</td>\n",
              "      <td>False</td>\n",
              "      <td>[{'close_approach_date': '1900-03-08', 'close_...</td>\n",
              "      <td>{'orbit_id': '105', 'orbit_determination_date'...</td>\n",
              "      <td>False</td>\n",
              "    </tr>\n",
              "  </tbody>\n",
              "</table>\n",
              "</div>"
            ],
            "text/plain": [
              "                                               links  ... is_sentry_object\n",
              "0  {'self': 'http://www.neowsapp.com/rest/v1/neo/...  ...            False\n",
              "1  {'self': 'http://www.neowsapp.com/rest/v1/neo/...  ...            False\n",
              "2  {'self': 'http://www.neowsapp.com/rest/v1/neo/...  ...            False\n",
              "3  {'self': 'http://www.neowsapp.com/rest/v1/neo/...  ...            False\n",
              "4  {'self': 'http://www.neowsapp.com/rest/v1/neo/...  ...            False\n",
              "\n",
              "[5 rows x 13 columns]"
            ]
          },
          "metadata": {
            "tags": []
          },
          "execution_count": 43
        }
      ]
    },
    {
      "cell_type": "code",
      "metadata": {
        "colab": {
          "base_uri": "https://localhost:8080/",
          "height": 462
        },
        "id": "0rP29NTmrK4H",
        "outputId": "204f8114-6579-4b0b-a261-aadcfd401345"
      },
      "source": [
        "# Normalizamos el df\n",
        "# Desanidamos el diccionario y colocamos los diccionarios dentro de otros diccionarios como columnas\n",
        "normalized = pd.json_normalize(data)\n",
        "df = pd.DataFrame.from_dict(normalized)\n",
        "df.head()\n"
      ],
      "execution_count": 44,
      "outputs": [
        {
          "output_type": "execute_result",
          "data": {
            "text/html": [
              "<div>\n",
              "<style scoped>\n",
              "    .dataframe tbody tr th:only-of-type {\n",
              "        vertical-align: middle;\n",
              "    }\n",
              "\n",
              "    .dataframe tbody tr th {\n",
              "        vertical-align: top;\n",
              "    }\n",
              "\n",
              "    .dataframe thead th {\n",
              "        text-align: right;\n",
              "    }\n",
              "</style>\n",
              "<table border=\"1\" class=\"dataframe\">\n",
              "  <thead>\n",
              "    <tr style=\"text-align: right;\">\n",
              "      <th></th>\n",
              "      <th>id</th>\n",
              "      <th>neo_reference_id</th>\n",
              "      <th>name</th>\n",
              "      <th>name_limited</th>\n",
              "      <th>designation</th>\n",
              "      <th>nasa_jpl_url</th>\n",
              "      <th>absolute_magnitude_h</th>\n",
              "      <th>is_potentially_hazardous_asteroid</th>\n",
              "      <th>close_approach_data</th>\n",
              "      <th>is_sentry_object</th>\n",
              "      <th>links.self</th>\n",
              "      <th>estimated_diameter.kilometers.estimated_diameter_min</th>\n",
              "      <th>estimated_diameter.kilometers.estimated_diameter_max</th>\n",
              "      <th>estimated_diameter.meters.estimated_diameter_min</th>\n",
              "      <th>estimated_diameter.meters.estimated_diameter_max</th>\n",
              "      <th>estimated_diameter.miles.estimated_diameter_min</th>\n",
              "      <th>estimated_diameter.miles.estimated_diameter_max</th>\n",
              "      <th>estimated_diameter.feet.estimated_diameter_min</th>\n",
              "      <th>estimated_diameter.feet.estimated_diameter_max</th>\n",
              "      <th>orbital_data.orbit_id</th>\n",
              "      <th>orbital_data.orbit_determination_date</th>\n",
              "      <th>orbital_data.first_observation_date</th>\n",
              "      <th>orbital_data.last_observation_date</th>\n",
              "      <th>orbital_data.data_arc_in_days</th>\n",
              "      <th>orbital_data.observations_used</th>\n",
              "      <th>orbital_data.orbit_uncertainty</th>\n",
              "      <th>orbital_data.minimum_orbit_intersection</th>\n",
              "      <th>orbital_data.jupiter_tisserand_invariant</th>\n",
              "      <th>orbital_data.epoch_osculation</th>\n",
              "      <th>orbital_data.eccentricity</th>\n",
              "      <th>orbital_data.semi_major_axis</th>\n",
              "      <th>orbital_data.inclination</th>\n",
              "      <th>orbital_data.ascending_node_longitude</th>\n",
              "      <th>orbital_data.orbital_period</th>\n",
              "      <th>orbital_data.perihelion_distance</th>\n",
              "      <th>orbital_data.perihelion_argument</th>\n",
              "      <th>orbital_data.aphelion_distance</th>\n",
              "      <th>orbital_data.perihelion_time</th>\n",
              "      <th>orbital_data.mean_anomaly</th>\n",
              "      <th>orbital_data.mean_motion</th>\n",
              "      <th>orbital_data.equinox</th>\n",
              "      <th>orbital_data.orbit_class.orbit_class_type</th>\n",
              "      <th>orbital_data.orbit_class.orbit_class_description</th>\n",
              "      <th>orbital_data.orbit_class.orbit_class_range</th>\n",
              "    </tr>\n",
              "  </thead>\n",
              "  <tbody>\n",
              "    <tr>\n",
              "      <th>0</th>\n",
              "      <td>2000433</td>\n",
              "      <td>2000433</td>\n",
              "      <td>433 Eros (A898 PA)</td>\n",
              "      <td>Eros</td>\n",
              "      <td>433</td>\n",
              "      <td>http://ssd.jpl.nasa.gov/sbdb.cgi?sstr=2000433</td>\n",
              "      <td>10.42</td>\n",
              "      <td>False</td>\n",
              "      <td>[{'close_approach_date': '1900-12-27', 'close_...</td>\n",
              "      <td>False</td>\n",
              "      <td>http://www.neowsapp.com/rest/v1/neo/2000433?ap...</td>\n",
              "      <td>21.905591</td>\n",
              "      <td>48.982391</td>\n",
              "      <td>21905.591097</td>\n",
              "      <td>48982.390780</td>\n",
              "      <td>13.611499</td>\n",
              "      <td>30.436237</td>\n",
              "      <td>71868.739495</td>\n",
              "      <td>160703.386968</td>\n",
              "      <td>659</td>\n",
              "      <td>2021-05-24 17:55:05</td>\n",
              "      <td>1893-10-29</td>\n",
              "      <td>2021-05-13</td>\n",
              "      <td>46582</td>\n",
              "      <td>9130</td>\n",
              "      <td>0</td>\n",
              "      <td>.149241</td>\n",
              "      <td>4.582</td>\n",
              "      <td>2459396.5</td>\n",
              "      <td>.2229136604081975</td>\n",
              "      <td>1.458124977590459</td>\n",
              "      <td>10.83050401540394</td>\n",
              "      <td>304.2987825663975</td>\n",
              "      <td>643.1178311831666</td>\n",
              "      <td>1.133089001503149</td>\n",
              "      <td>178.8630846657683</td>\n",
              "      <td>1.783160953677769</td>\n",
              "      <td>2459159.314278333564</td>\n",
              "      <td>132.7701638171466</td>\n",
              "      <td>.5597730035531674</td>\n",
              "      <td>J2000</td>\n",
              "      <td>AMO</td>\n",
              "      <td>Near-Earth asteroid orbits similar to that of ...</td>\n",
              "      <td>1.017 AU &lt; q (perihelion) &lt; 1.3 AU</td>\n",
              "    </tr>\n",
              "    <tr>\n",
              "      <th>1</th>\n",
              "      <td>2000719</td>\n",
              "      <td>2000719</td>\n",
              "      <td>719 Albert (A911 TB)</td>\n",
              "      <td>Albert</td>\n",
              "      <td>719</td>\n",
              "      <td>http://ssd.jpl.nasa.gov/sbdb.cgi?sstr=2000719</td>\n",
              "      <td>15.51</td>\n",
              "      <td>False</td>\n",
              "      <td>[{'close_approach_date': '1909-08-21', 'close_...</td>\n",
              "      <td>False</td>\n",
              "      <td>http://www.neowsapp.com/rest/v1/neo/2000719?ap...</td>\n",
              "      <td>2.101624</td>\n",
              "      <td>4.699374</td>\n",
              "      <td>2101.623793</td>\n",
              "      <td>4699.373665</td>\n",
              "      <td>1.305888</td>\n",
              "      <td>2.920055</td>\n",
              "      <td>6895.091406</td>\n",
              "      <td>15417.893094</td>\n",
              "      <td>220</td>\n",
              "      <td>2021-07-02 05:52:54</td>\n",
              "      <td>1911-10-04</td>\n",
              "      <td>2021-04-17</td>\n",
              "      <td>40008</td>\n",
              "      <td>1892</td>\n",
              "      <td>0</td>\n",
              "      <td>.201652</td>\n",
              "      <td>3.140</td>\n",
              "      <td>2459396.5</td>\n",
              "      <td>.5468676237676214</td>\n",
              "      <td>2.638030362514431</td>\n",
              "      <td>11.57324983811486</td>\n",
              "      <td>183.8547682318951</td>\n",
              "      <td>1565.013584129889</td>\n",
              "      <td>1.195376966739327</td>\n",
              "      <td>156.2074111005377</td>\n",
              "      <td>4.080683758289534</td>\n",
              "      <td>2459956.001930185700</td>\n",
              "      <td>231.2977977256108</td>\n",
              "      <td>.2300299522321089</td>\n",
              "      <td>J2000</td>\n",
              "      <td>AMO</td>\n",
              "      <td>Near-Earth asteroid orbits similar to that of ...</td>\n",
              "      <td>1.017 AU &lt; q (perihelion) &lt; 1.3 AU</td>\n",
              "    </tr>\n",
              "    <tr>\n",
              "      <th>2</th>\n",
              "      <td>2000887</td>\n",
              "      <td>2000887</td>\n",
              "      <td>887 Alinda (A918 AA)</td>\n",
              "      <td>Alinda</td>\n",
              "      <td>887</td>\n",
              "      <td>http://ssd.jpl.nasa.gov/sbdb.cgi?sstr=2000887</td>\n",
              "      <td>13.87</td>\n",
              "      <td>False</td>\n",
              "      <td>[{'close_approach_date': '1910-01-04', 'close_...</td>\n",
              "      <td>False</td>\n",
              "      <td>http://www.neowsapp.com/rest/v1/neo/2000887?ap...</td>\n",
              "      <td>4.472548</td>\n",
              "      <td>10.000921</td>\n",
              "      <td>4472.547654</td>\n",
              "      <td>10000.920588</td>\n",
              "      <td>2.779111</td>\n",
              "      <td>6.214282</td>\n",
              "      <td>14673.713246</td>\n",
              "      <td>32811.420301</td>\n",
              "      <td>427</td>\n",
              "      <td>2021-08-01 05:51:49</td>\n",
              "      <td>1918-02-03</td>\n",
              "      <td>2021-07-31</td>\n",
              "      <td>37799</td>\n",
              "      <td>2624</td>\n",
              "      <td>0</td>\n",
              "      <td>.0821373</td>\n",
              "      <td>3.221</td>\n",
              "      <td>2459396.5</td>\n",
              "      <td>.5704587918843774</td>\n",
              "      <td>2.473668671636058</td>\n",
              "      <td>9.393753932071414</td>\n",
              "      <td>110.4327677798952</td>\n",
              "      <td>1421.054454062883</td>\n",
              "      <td>1.06254262969232</td>\n",
              "      <td>350.5075830020164</td>\n",
              "      <td>3.884794713579797</td>\n",
              "      <td>2459258.738806992726</td>\n",
              "      <td>34.89945747034967</td>\n",
              "      <td>.2533330084366138</td>\n",
              "      <td>J2000</td>\n",
              "      <td>AMO</td>\n",
              "      <td>Near-Earth asteroid orbits similar to that of ...</td>\n",
              "      <td>1.017 AU &lt; q (perihelion) &lt; 1.3 AU</td>\n",
              "    </tr>\n",
              "    <tr>\n",
              "      <th>3</th>\n",
              "      <td>2001036</td>\n",
              "      <td>2001036</td>\n",
              "      <td>1036 Ganymed (A924 UB)</td>\n",
              "      <td>Ganymed</td>\n",
              "      <td>1036</td>\n",
              "      <td>http://ssd.jpl.nasa.gov/sbdb.cgi?sstr=2001036</td>\n",
              "      <td>9.25</td>\n",
              "      <td>False</td>\n",
              "      <td>[{'close_approach_date': '1910-02-25', 'close_...</td>\n",
              "      <td>False</td>\n",
              "      <td>http://www.neowsapp.com/rest/v1/neo/2001036?ap...</td>\n",
              "      <td>37.545248</td>\n",
              "      <td>83.953727</td>\n",
              "      <td>37545.247936</td>\n",
              "      <td>83953.726617</td>\n",
              "      <td>23.329528</td>\n",
              "      <td>52.166411</td>\n",
              "      <td>123179.951239</td>\n",
              "      <td>275438.744435</td>\n",
              "      <td>925</td>\n",
              "      <td>2021-05-21 05:50:06</td>\n",
              "      <td>1924-10-23</td>\n",
              "      <td>2021-05-20</td>\n",
              "      <td>35273</td>\n",
              "      <td>7047</td>\n",
              "      <td>0</td>\n",
              "      <td>.344347</td>\n",
              "      <td>3.034</td>\n",
              "      <td>2459396.5</td>\n",
              "      <td>.533129232790272</td>\n",
              "      <td>2.665548235434295</td>\n",
              "      <td>26.67564320070546</td>\n",
              "      <td>215.5328165431079</td>\n",
              "      <td>1589.564831738242</td>\n",
              "      <td>1.244466549711746</td>\n",
              "      <td>132.3995837190134</td>\n",
              "      <td>4.086629921156844</td>\n",
              "      <td>2458979.279223720400</td>\n",
              "      <td>94.4909427169498</td>\n",
              "      <td>.2264770790168577</td>\n",
              "      <td>J2000</td>\n",
              "      <td>AMO</td>\n",
              "      <td>Near-Earth asteroid orbits similar to that of ...</td>\n",
              "      <td>1.017 AU &lt; q (perihelion) &lt; 1.3 AU</td>\n",
              "    </tr>\n",
              "    <tr>\n",
              "      <th>4</th>\n",
              "      <td>2001221</td>\n",
              "      <td>2001221</td>\n",
              "      <td>1221 Amor (1932 EA1)</td>\n",
              "      <td>Amor</td>\n",
              "      <td>1221</td>\n",
              "      <td>http://ssd.jpl.nasa.gov/sbdb.cgi?sstr=2001221</td>\n",
              "      <td>17.39</td>\n",
              "      <td>False</td>\n",
              "      <td>[{'close_approach_date': '1900-03-08', 'close_...</td>\n",
              "      <td>False</td>\n",
              "      <td>http://www.neowsapp.com/rest/v1/neo/2001221?ap...</td>\n",
              "      <td>0.884209</td>\n",
              "      <td>1.977152</td>\n",
              "      <td>884.209093</td>\n",
              "      <td>1977.151638</td>\n",
              "      <td>0.549422</td>\n",
              "      <td>1.228545</td>\n",
              "      <td>2900.948560</td>\n",
              "      <td>6486.718178</td>\n",
              "      <td>105</td>\n",
              "      <td>2021-04-12 12:09:47</td>\n",
              "      <td>1932-03-12</td>\n",
              "      <td>2020-09-14</td>\n",
              "      <td>32328</td>\n",
              "      <td>552</td>\n",
              "      <td>0</td>\n",
              "      <td>.106955</td>\n",
              "      <td>3.782</td>\n",
              "      <td>2459396.5</td>\n",
              "      <td>.4357329630719231</td>\n",
              "      <td>1.918758590510807</td>\n",
              "      <td>11.8829206674003</td>\n",
              "      <td>171.3185699966586</td>\n",
              "      <td>970.7981335533411</td>\n",
              "      <td>1.082692224447826</td>\n",
              "      <td>26.6551859253077</td>\n",
              "      <td>2.754824956573788</td>\n",
              "      <td>2459867.429612184538</td>\n",
              "      <td>185.3656918705658</td>\n",
              "      <td>.3708288958924122</td>\n",
              "      <td>J2000</td>\n",
              "      <td>AMO</td>\n",
              "      <td>Near-Earth asteroid orbits similar to that of ...</td>\n",
              "      <td>1.017 AU &lt; q (perihelion) &lt; 1.3 AU</td>\n",
              "    </tr>\n",
              "  </tbody>\n",
              "</table>\n",
              "</div>"
            ],
            "text/plain": [
              "        id  ... orbital_data.orbit_class.orbit_class_range\n",
              "0  2000433  ...         1.017 AU < q (perihelion) < 1.3 AU\n",
              "1  2000719  ...         1.017 AU < q (perihelion) < 1.3 AU\n",
              "2  2000887  ...         1.017 AU < q (perihelion) < 1.3 AU\n",
              "3  2001036  ...         1.017 AU < q (perihelion) < 1.3 AU\n",
              "4  2001221  ...         1.017 AU < q (perihelion) < 1.3 AU\n",
              "\n",
              "[5 rows x 44 columns]"
            ]
          },
          "metadata": {
            "tags": []
          },
          "execution_count": 44
        }
      ]
    },
    {
      "cell_type": "markdown",
      "metadata": {
        "id": "hHtJtEov2f8F"
      },
      "source": [
        "## Automatización de procesos"
      ]
    },
    {
      "cell_type": "code",
      "metadata": {
        "colab": {
          "base_uri": "https://localhost:8080/"
        },
        "id": "cTBRcTKd2flH",
        "outputId": "22e27283-6d0a-48d0-8ffb-2feacddb319b"
      },
      "source": [
        "lista_1 =[1,2,3]\n",
        "\n",
        "# El try siempre va acompañado con un except\n",
        "# Es útil hacer esto para detectar el problema, y no parar la ejecución\n",
        "# Es decir sale un error y eso nos para la ejecución, por lo que con try y except no borramos el error pero la ejecución continua en caso de haber un error\n",
        "try:\n",
        "  lista_1[10]\n",
        "except:\n",
        "  print(\"El índice esta fuera de rango\")"
      ],
      "execution_count": 45,
      "outputs": [
        {
          "output_type": "stream",
          "text": [
            "El inidice esta fuera de rango\n"
          ],
          "name": "stdout"
        }
      ]
    },
    {
      "cell_type": "code",
      "metadata": {
        "colab": {
          "base_uri": "https://localhost:8080/",
          "height": 142
        },
        "id": "fOqBohWGr2JP",
        "outputId": "ae4780e7-eac2-4bf3-aade-527133d35556"
      },
      "source": [
        "data_1 = {\n",
        "    \"column_1\": [1,2,3],\n",
        "    \"column_2\": [4,5,6]\n",
        "}\n",
        "\n",
        "df_1 = pd.DataFrame(data_1, index = [\"a\", \"b\", \"c\"])\n",
        "\n",
        "data_2 = {\n",
        "    \"column_1\": [7,8,9],\n",
        "    \"column_2\": [10,11,12]\n",
        "}\n",
        "\n",
        "df_2 = pd.DataFrame(data_2, index = [\"d\", \"e\", \"f\"])\n",
        "df_1"
      ],
      "execution_count": 52,
      "outputs": [
        {
          "output_type": "execute_result",
          "data": {
            "text/html": [
              "<div>\n",
              "<style scoped>\n",
              "    .dataframe tbody tr th:only-of-type {\n",
              "        vertical-align: middle;\n",
              "    }\n",
              "\n",
              "    .dataframe tbody tr th {\n",
              "        vertical-align: top;\n",
              "    }\n",
              "\n",
              "    .dataframe thead th {\n",
              "        text-align: right;\n",
              "    }\n",
              "</style>\n",
              "<table border=\"1\" class=\"dataframe\">\n",
              "  <thead>\n",
              "    <tr style=\"text-align: right;\">\n",
              "      <th></th>\n",
              "      <th>column_1</th>\n",
              "      <th>column_2</th>\n",
              "    </tr>\n",
              "  </thead>\n",
              "  <tbody>\n",
              "    <tr>\n",
              "      <th>a</th>\n",
              "      <td>1</td>\n",
              "      <td>4</td>\n",
              "    </tr>\n",
              "    <tr>\n",
              "      <th>b</th>\n",
              "      <td>2</td>\n",
              "      <td>5</td>\n",
              "    </tr>\n",
              "    <tr>\n",
              "      <th>c</th>\n",
              "      <td>3</td>\n",
              "      <td>6</td>\n",
              "    </tr>\n",
              "  </tbody>\n",
              "</table>\n",
              "</div>"
            ],
            "text/plain": [
              "   column_1  column_2\n",
              "a         1         4\n",
              "b         2         5\n",
              "c         3         6"
            ]
          },
          "metadata": {
            "tags": []
          },
          "execution_count": 52
        }
      ]
    },
    {
      "cell_type": "code",
      "metadata": {
        "colab": {
          "base_uri": "https://localhost:8080/",
          "height": 235
        },
        "id": "9Cy_B29p_Dxw",
        "outputId": "80acf821-e558-4b39-fed6-f44d1068a3a7"
      },
      "source": [
        "# Concatenación\n",
        "pd.concat([df_1, df_2], axis = 0)"
      ],
      "execution_count": 53,
      "outputs": [
        {
          "output_type": "execute_result",
          "data": {
            "text/html": [
              "<div>\n",
              "<style scoped>\n",
              "    .dataframe tbody tr th:only-of-type {\n",
              "        vertical-align: middle;\n",
              "    }\n",
              "\n",
              "    .dataframe tbody tr th {\n",
              "        vertical-align: top;\n",
              "    }\n",
              "\n",
              "    .dataframe thead th {\n",
              "        text-align: right;\n",
              "    }\n",
              "</style>\n",
              "<table border=\"1\" class=\"dataframe\">\n",
              "  <thead>\n",
              "    <tr style=\"text-align: right;\">\n",
              "      <th></th>\n",
              "      <th>column_1</th>\n",
              "      <th>column_2</th>\n",
              "    </tr>\n",
              "  </thead>\n",
              "  <tbody>\n",
              "    <tr>\n",
              "      <th>a</th>\n",
              "      <td>1</td>\n",
              "      <td>4</td>\n",
              "    </tr>\n",
              "    <tr>\n",
              "      <th>b</th>\n",
              "      <td>2</td>\n",
              "      <td>5</td>\n",
              "    </tr>\n",
              "    <tr>\n",
              "      <th>c</th>\n",
              "      <td>3</td>\n",
              "      <td>6</td>\n",
              "    </tr>\n",
              "    <tr>\n",
              "      <th>d</th>\n",
              "      <td>7</td>\n",
              "      <td>10</td>\n",
              "    </tr>\n",
              "    <tr>\n",
              "      <th>e</th>\n",
              "      <td>8</td>\n",
              "      <td>11</td>\n",
              "    </tr>\n",
              "    <tr>\n",
              "      <th>f</th>\n",
              "      <td>9</td>\n",
              "      <td>12</td>\n",
              "    </tr>\n",
              "  </tbody>\n",
              "</table>\n",
              "</div>"
            ],
            "text/plain": [
              "   column_1  column_2\n",
              "a         1         4\n",
              "b         2         5\n",
              "c         3         6\n",
              "d         7        10\n",
              "e         8        11\n",
              "f         9        12"
            ]
          },
          "metadata": {
            "tags": []
          },
          "execution_count": 53
        }
      ]
    },
    {
      "cell_type": "code",
      "metadata": {
        "colab": {
          "base_uri": "https://localhost:8080/",
          "height": 235
        },
        "id": "_zSKaCOw_tKs",
        "outputId": "e9f7357d-3740-457e-c6a1-b3188bdeace1"
      },
      "source": [
        "pd.concat([df_1, df_2], axis = 1)"
      ],
      "execution_count": 54,
      "outputs": [
        {
          "output_type": "execute_result",
          "data": {
            "text/html": [
              "<div>\n",
              "<style scoped>\n",
              "    .dataframe tbody tr th:only-of-type {\n",
              "        vertical-align: middle;\n",
              "    }\n",
              "\n",
              "    .dataframe tbody tr th {\n",
              "        vertical-align: top;\n",
              "    }\n",
              "\n",
              "    .dataframe thead th {\n",
              "        text-align: right;\n",
              "    }\n",
              "</style>\n",
              "<table border=\"1\" class=\"dataframe\">\n",
              "  <thead>\n",
              "    <tr style=\"text-align: right;\">\n",
              "      <th></th>\n",
              "      <th>column_1</th>\n",
              "      <th>column_2</th>\n",
              "      <th>column_1</th>\n",
              "      <th>column_2</th>\n",
              "    </tr>\n",
              "  </thead>\n",
              "  <tbody>\n",
              "    <tr>\n",
              "      <th>a</th>\n",
              "      <td>1.0</td>\n",
              "      <td>4.0</td>\n",
              "      <td>NaN</td>\n",
              "      <td>NaN</td>\n",
              "    </tr>\n",
              "    <tr>\n",
              "      <th>b</th>\n",
              "      <td>2.0</td>\n",
              "      <td>5.0</td>\n",
              "      <td>NaN</td>\n",
              "      <td>NaN</td>\n",
              "    </tr>\n",
              "    <tr>\n",
              "      <th>c</th>\n",
              "      <td>3.0</td>\n",
              "      <td>6.0</td>\n",
              "      <td>NaN</td>\n",
              "      <td>NaN</td>\n",
              "    </tr>\n",
              "    <tr>\n",
              "      <th>d</th>\n",
              "      <td>NaN</td>\n",
              "      <td>NaN</td>\n",
              "      <td>7.0</td>\n",
              "      <td>10.0</td>\n",
              "    </tr>\n",
              "    <tr>\n",
              "      <th>e</th>\n",
              "      <td>NaN</td>\n",
              "      <td>NaN</td>\n",
              "      <td>8.0</td>\n",
              "      <td>11.0</td>\n",
              "    </tr>\n",
              "    <tr>\n",
              "      <th>f</th>\n",
              "      <td>NaN</td>\n",
              "      <td>NaN</td>\n",
              "      <td>9.0</td>\n",
              "      <td>12.0</td>\n",
              "    </tr>\n",
              "  </tbody>\n",
              "</table>\n",
              "</div>"
            ],
            "text/plain": [
              "   column_1  column_2  column_1  column_2\n",
              "a       1.0       4.0       NaN       NaN\n",
              "b       2.0       5.0       NaN       NaN\n",
              "c       3.0       6.0       NaN       NaN\n",
              "d       NaN       NaN       7.0      10.0\n",
              "e       NaN       NaN       8.0      11.0\n",
              "f       NaN       NaN       9.0      12.0"
            ]
          },
          "metadata": {
            "tags": []
          },
          "execution_count": 54
        }
      ]
    },
    {
      "cell_type": "code",
      "metadata": {
        "colab": {
          "base_uri": "https://localhost:8080/",
          "height": 235
        },
        "id": "luKBlxe1_8jE",
        "outputId": "0c7ce42a-6d44-417a-80ae-5851139a7de0"
      },
      "source": [
        "# Multindexación\n",
        "df_concat = pd.concat([df_1,df_2], axis = 0, keys = [\"df_1\", \"df_2\"])\n",
        "df_concat"
      ],
      "execution_count": 55,
      "outputs": [
        {
          "output_type": "execute_result",
          "data": {
            "text/html": [
              "<div>\n",
              "<style scoped>\n",
              "    .dataframe tbody tr th:only-of-type {\n",
              "        vertical-align: middle;\n",
              "    }\n",
              "\n",
              "    .dataframe tbody tr th {\n",
              "        vertical-align: top;\n",
              "    }\n",
              "\n",
              "    .dataframe thead th {\n",
              "        text-align: right;\n",
              "    }\n",
              "</style>\n",
              "<table border=\"1\" class=\"dataframe\">\n",
              "  <thead>\n",
              "    <tr style=\"text-align: right;\">\n",
              "      <th></th>\n",
              "      <th></th>\n",
              "      <th>column_1</th>\n",
              "      <th>column_2</th>\n",
              "    </tr>\n",
              "  </thead>\n",
              "  <tbody>\n",
              "    <tr>\n",
              "      <th rowspan=\"3\" valign=\"top\">df_1</th>\n",
              "      <th>a</th>\n",
              "      <td>1</td>\n",
              "      <td>4</td>\n",
              "    </tr>\n",
              "    <tr>\n",
              "      <th>b</th>\n",
              "      <td>2</td>\n",
              "      <td>5</td>\n",
              "    </tr>\n",
              "    <tr>\n",
              "      <th>c</th>\n",
              "      <td>3</td>\n",
              "      <td>6</td>\n",
              "    </tr>\n",
              "    <tr>\n",
              "      <th rowspan=\"3\" valign=\"top\">df_2</th>\n",
              "      <th>d</th>\n",
              "      <td>7</td>\n",
              "      <td>10</td>\n",
              "    </tr>\n",
              "    <tr>\n",
              "      <th>e</th>\n",
              "      <td>8</td>\n",
              "      <td>11</td>\n",
              "    </tr>\n",
              "    <tr>\n",
              "      <th>f</th>\n",
              "      <td>9</td>\n",
              "      <td>12</td>\n",
              "    </tr>\n",
              "  </tbody>\n",
              "</table>\n",
              "</div>"
            ],
            "text/plain": [
              "        column_1  column_2\n",
              "df_1 a         1         4\n",
              "     b         2         5\n",
              "     c         3         6\n",
              "df_2 d         7        10\n",
              "     e         8        11\n",
              "     f         9        12"
            ]
          },
          "metadata": {
            "tags": []
          },
          "execution_count": 55
        }
      ]
    },
    {
      "cell_type": "code",
      "metadata": {
        "colab": {
          "base_uri": "https://localhost:8080/"
        },
        "id": "6YfHtZclAc54",
        "outputId": "5a898da6-bd33-479d-d90c-25a0391e583a"
      },
      "source": [
        "# Podemos acceder al df multiindexado con loc\n",
        "df_concat.loc[(\"df_1\", \"b\")]"
      ],
      "execution_count": 56,
      "outputs": [
        {
          "output_type": "execute_result",
          "data": {
            "text/plain": [
              "column_1    2\n",
              "column_2    5\n",
              "Name: (df_1, b), dtype: int64"
            ]
          },
          "metadata": {
            "tags": []
          },
          "execution_count": 56
        }
      ]
    },
    {
      "cell_type": "code",
      "metadata": {
        "id": "3HHe3O2hAnvH"
      },
      "source": [
        ""
      ],
      "execution_count": null,
      "outputs": []
    }
  ]
}
