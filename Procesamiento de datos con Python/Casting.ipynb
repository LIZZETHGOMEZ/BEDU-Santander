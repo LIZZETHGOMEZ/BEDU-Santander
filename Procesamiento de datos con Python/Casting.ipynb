{
  "nbformat": 4,
  "nbformat_minor": 0,
  "metadata": {
    "colab": {
      "name": "Casting.ipynb",
      "provenance": [],
      "mount_file_id": "1ItC3nuelMIBQZN9Y03LsGVVaSvybF1KP",
      "authorship_tag": "ABX9TyOvvoRiCTPKMjo1P9xoRhO7",
      "include_colab_link": true
    },
    "kernelspec": {
      "name": "python3",
      "display_name": "Python 3"
    },
    "language_info": {
      "name": "python"
    }
  },
  "cells": [
    {
      "cell_type": "markdown",
      "metadata": {
        "id": "view-in-github",
        "colab_type": "text"
      },
      "source": [
        "<a href=\"https://colab.research.google.com/github/LIZZETHGOMEZ/BEDU-Santander-2021/blob/main/Casting.ipynb\" target=\"_parent\"><img src=\"https://colab.research.google.com/assets/colab-badge.svg\" alt=\"Open In Colab\"/></a>"
      ]
    },
    {
      "cell_type": "markdown",
      "metadata": {
        "id": "li0Vc7vn1k1_"
      },
      "source": [
        "## Sesion 7\n",
        "Casting"
      ]
    },
    {
      "cell_type": "code",
      "metadata": {
        "id": "8t87txUZ17XM"
      },
      "source": [
        "import pandas as pd"
      ],
      "execution_count": 2,
      "outputs": []
    },
    {
      "cell_type": "code",
      "metadata": {
        "colab": {
          "base_uri": "https://localhost:8080/",
          "height": 564
        },
        "id": "LINZ64Cs1jwy",
        "outputId": "777929fd-f950-4e08-f86f-e497d2e55033"
      },
      "source": [
        "df = pd.read_csv(\"/content/drive/MyDrive/Colab Notebooks/BEDU/Datasets/new_york_times_bestsellers-dirty.csv\")\n",
        "df.head()"
      ],
      "execution_count": 4,
      "outputs": [
        {
          "output_type": "execute_result",
          "data": {
            "text/html": [
              "<div>\n",
              "<style scoped>\n",
              "    .dataframe tbody tr th:only-of-type {\n",
              "        vertical-align: middle;\n",
              "    }\n",
              "\n",
              "    .dataframe tbody tr th {\n",
              "        vertical-align: top;\n",
              "    }\n",
              "\n",
              "    .dataframe thead th {\n",
              "        text-align: right;\n",
              "    }\n",
              "</style>\n",
              "<table border=\"1\" class=\"dataframe\">\n",
              "  <thead>\n",
              "    <tr style=\"text-align: right;\">\n",
              "      <th></th>\n",
              "      <th>Unnamed: 0</th>\n",
              "      <th>amazon_product_url</th>\n",
              "      <th>author</th>\n",
              "      <th>description</th>\n",
              "      <th>publisher</th>\n",
              "      <th>title</th>\n",
              "      <th>oid</th>\n",
              "      <th>bestsellers_date.numberLong</th>\n",
              "      <th>published_date.numberLong</th>\n",
              "      <th>rank.numberInt</th>\n",
              "      <th>rank_last_week.numberInt</th>\n",
              "      <th>weeks_on_list.numberInt</th>\n",
              "      <th>price.numberDouble</th>\n",
              "    </tr>\n",
              "  </thead>\n",
              "  <tbody>\n",
              "    <tr>\n",
              "      <th>0</th>\n",
              "      <td>0</td>\n",
              "      <td>http://www.amazon.com/The-Host-Novel-Stephenie...</td>\n",
              "      <td>Stephenie Meyer</td>\n",
              "      <td>Descr: Aliens have taken control of the minds ...</td>\n",
              "      <td>Little, Brown</td>\n",
              "      <td>THE HOST</td>\n",
              "      <td>5b4aa4ead3089013507db18c</td>\n",
              "      <td>2008-05-24 00:00:00</td>\n",
              "      <td>1212883200000</td>\n",
              "      <td>2</td>\n",
              "      <td>1</td>\n",
              "      <td>3</td>\n",
              "      <td>25.99</td>\n",
              "    </tr>\n",
              "    <tr>\n",
              "      <th>1</th>\n",
              "      <td>1</td>\n",
              "      <td>http://www.amazon.com/Love-Youre-With-Emily-Gi...</td>\n",
              "      <td>Emily Giffin</td>\n",
              "      <td>Descr: A woman's happy marriage is shaken when...</td>\n",
              "      <td>St. Martin's</td>\n",
              "      <td>LOVE THE ONE YOU'RE WITH</td>\n",
              "      <td>5b4aa4ead3089013507db18d</td>\n",
              "      <td>2008-05-24 00:00:00</td>\n",
              "      <td>1212883200000</td>\n",
              "      <td>3</td>\n",
              "      <td>2</td>\n",
              "      <td>2</td>\n",
              "      <td>24.95</td>\n",
              "    </tr>\n",
              "    <tr>\n",
              "      <th>2</th>\n",
              "      <td>2</td>\n",
              "      <td>http://www.amazon.com/The-Front-Garano-Patrici...</td>\n",
              "      <td>Patricia Cornwell</td>\n",
              "      <td>Descr: A Massachusetts state investigator and ...</td>\n",
              "      <td>Putnam</td>\n",
              "      <td>THE FRONT</td>\n",
              "      <td>5b4aa4ead3089013507db18e</td>\n",
              "      <td>2008-05-24 00:00:00</td>\n",
              "      <td>1212883200000</td>\n",
              "      <td>4</td>\n",
              "      <td>0</td>\n",
              "      <td>1</td>\n",
              "      <td>22.95</td>\n",
              "    </tr>\n",
              "    <tr>\n",
              "      <th>3</th>\n",
              "      <td>3</td>\n",
              "      <td>http://www.amazon.com/Snuff-Chuck-Palahniuk/dp...</td>\n",
              "      <td>Chuck Palahniuk</td>\n",
              "      <td>Descr: An aging porn queens aims to cap her ca...</td>\n",
              "      <td>Doubleday</td>\n",
              "      <td>SNUFF</td>\n",
              "      <td>5b4aa4ead3089013507db18f</td>\n",
              "      <td>2008-05-24 00:00:00</td>\n",
              "      <td>1212883200000</td>\n",
              "      <td>5</td>\n",
              "      <td>0</td>\n",
              "      <td>1</td>\n",
              "      <td>24.95</td>\n",
              "    </tr>\n",
              "    <tr>\n",
              "      <th>4</th>\n",
              "      <td>5</td>\n",
              "      <td>http://www.amazon.com/Phantom-Prey-John-Sandfo...</td>\n",
              "      <td>John Sandford</td>\n",
              "      <td>Descr: The Minneapolis detective Lucas Davenpo...</td>\n",
              "      <td>Putnam</td>\n",
              "      <td>PHANTOM PREY</td>\n",
              "      <td>5b4aa4ead3089013507db191</td>\n",
              "      <td>2008-05-24 00:00:00</td>\n",
              "      <td>1212883200000</td>\n",
              "      <td>7</td>\n",
              "      <td>4</td>\n",
              "      <td>3</td>\n",
              "      <td>26.95</td>\n",
              "    </tr>\n",
              "  </tbody>\n",
              "</table>\n",
              "</div>"
            ],
            "text/plain": [
              "   Unnamed: 0  ... price.numberDouble\n",
              "0           0  ...              25.99\n",
              "1           1  ...              24.95\n",
              "2           2  ...              22.95\n",
              "3           3  ...              24.95\n",
              "4           5  ...              26.95\n",
              "\n",
              "[5 rows x 13 columns]"
            ]
          },
          "metadata": {
            "tags": []
          },
          "execution_count": 4
        }
      ]
    },
    {
      "cell_type": "code",
      "metadata": {
        "id": "8DPGK1iX14hL"
      },
      "source": [
        "#Veamos los tipos de columnas del dataset\n",
        "df.dtypes"
      ],
      "execution_count": null,
      "outputs": []
    },
    {
      "cell_type": "markdown",
      "metadata": {
        "id": "lg-Awvzh2P7v"
      },
      "source": [
        "Las columnas no estan en los tipod de datos que necesitamos para manipuarlos"
      ]
    },
    {
      "cell_type": "code",
      "metadata": {
        "id": "C7Sksdkw2Xto"
      },
      "source": [
        "# vamos a crear un diccionario con el nombre de las columnas y el tipo de datos que queremos\n",
        "diccionario_de_conversion = {\"bestsellers_date.numberLong\": \"datetime64[ns]\",\n",
        "                             \"published_date.numberLong\" : \"datetime64[ns]\"}"
      ],
      "execution_count": 6,
      "outputs": []
    },
    {
      "cell_type": "code",
      "metadata": {
        "id": "zKe-TTUo2EMg"
      },
      "source": [
        "temp = df.astype(diccionario_de_conversion)\n",
        "temp.head()"
      ],
      "execution_count": null,
      "outputs": []
    },
    {
      "cell_type": "code",
      "metadata": {
        "colab": {
          "base_uri": "https://localhost:8080/"
        },
        "id": "Z1Bzi6TU3BSJ",
        "outputId": "5abd9586-b47a-4893-b2ce-ab9779145fd2"
      },
      "source": [
        "#Otra forma\n",
        "pd.to_datetime(df['published_date.numberLong'], unit='ms')"
      ],
      "execution_count": 8,
      "outputs": [
        {
          "output_type": "execute_result",
          "data": {
            "text/plain": [
              "0      2008-06-08\n",
              "1      2008-06-08\n",
              "2      2008-06-08\n",
              "3      2008-06-08\n",
              "4      2008-06-08\n",
              "          ...    \n",
              "2261   2013-05-05\n",
              "2262   2013-05-05\n",
              "2263   2013-05-05\n",
              "2264   2013-05-05\n",
              "2265   2013-05-05\n",
              "Name: published_date.numberLong, Length: 2266, dtype: datetime64[ns]"
            ]
          },
          "metadata": {
            "tags": []
          },
          "execution_count": 8
        }
      ]
    },
    {
      "cell_type": "markdown",
      "metadata": {
        "id": "b46YqofQSbD1"
      },
      "source": [
        "## Filtros"
      ]
    },
    {
      "cell_type": "code",
      "metadata": {
        "colab": {
          "base_uri": "https://localhost:8080/"
        },
        "id": "vGPyNet53sZp",
        "outputId": "6a87668d-2da2-4a85-e566-5568a773822b"
      },
      "source": [
        "df[\"author\"].str.startswith(\"R\")"
      ],
      "execution_count": 9,
      "outputs": [
        {
          "output_type": "execute_result",
          "data": {
            "text/plain": [
              "0       False\n",
              "1       False\n",
              "2       False\n",
              "3       False\n",
              "4       False\n",
              "        ...  \n",
              "2261    False\n",
              "2262    False\n",
              "2263    False\n",
              "2264    False\n",
              "2265    False\n",
              "Name: author, Length: 2266, dtype: bool"
            ]
          },
          "metadata": {
            "tags": []
          },
          "execution_count": 9
        }
      ]
    },
    {
      "cell_type": "code",
      "metadata": {
        "colab": {
          "base_uri": "https://localhost:8080/",
          "height": 530
        },
        "id": "AHc1LjqHSzFJ",
        "outputId": "48e14357-bcfa-403a-d1f9-8226fb069624"
      },
      "source": [
        "# Usamos el filtro y lo aplicamos al df para visualizar el df con dicho filtro\n",
        "df[df[\"author\"].str.startswith(\"R\")].head()"
      ],
      "execution_count": 10,
      "outputs": [
        {
          "output_type": "execute_result",
          "data": {
            "text/html": [
              "<div>\n",
              "<style scoped>\n",
              "    .dataframe tbody tr th:only-of-type {\n",
              "        vertical-align: middle;\n",
              "    }\n",
              "\n",
              "    .dataframe tbody tr th {\n",
              "        vertical-align: top;\n",
              "    }\n",
              "\n",
              "    .dataframe thead th {\n",
              "        text-align: right;\n",
              "    }\n",
              "</style>\n",
              "<table border=\"1\" class=\"dataframe\">\n",
              "  <thead>\n",
              "    <tr style=\"text-align: right;\">\n",
              "      <th></th>\n",
              "      <th>Unnamed: 0</th>\n",
              "      <th>amazon_product_url</th>\n",
              "      <th>author</th>\n",
              "      <th>description</th>\n",
              "      <th>publisher</th>\n",
              "      <th>title</th>\n",
              "      <th>oid</th>\n",
              "      <th>bestsellers_date.numberLong</th>\n",
              "      <th>published_date.numberLong</th>\n",
              "      <th>rank.numberInt</th>\n",
              "      <th>rank_last_week.numberInt</th>\n",
              "      <th>weeks_on_list.numberInt</th>\n",
              "      <th>price.numberDouble</th>\n",
              "    </tr>\n",
              "  </thead>\n",
              "  <tbody>\n",
              "    <tr>\n",
              "      <th>60</th>\n",
              "      <td>79</td>\n",
              "      <td>http://www.amazon.com/Chasing-Darkness-Elvis-N...</td>\n",
              "      <td>Robert Crais</td>\n",
              "      <td>Descr: he Los Angeles private eye Elvis Cole r...</td>\n",
              "      <td>Simon &amp; Schuster</td>\n",
              "      <td>CHASING DARKNESS</td>\n",
              "      <td>5b4aa4ead3089013507db209</td>\n",
              "      <td>2008-07-05 00:00:00</td>\n",
              "      <td>1216512000000</td>\n",
              "      <td>7</td>\n",
              "      <td>0</td>\n",
              "      <td>1</td>\n",
              "      <td>25.95</td>\n",
              "    </tr>\n",
              "    <tr>\n",
              "      <th>73</th>\n",
              "      <td>94</td>\n",
              "      <td>http://www.amazon.com/Chasing-Darkness-Elvis-N...</td>\n",
              "      <td>Robert Crais</td>\n",
              "      <td>Descr: Is the Los Angeles private eye Elvis Co...</td>\n",
              "      <td>Simon &amp; Schuster</td>\n",
              "      <td>CHASING DARKNESS</td>\n",
              "      <td>5b4aa4ead3089013507db221</td>\n",
              "      <td>2008-07-12 00:00:00</td>\n",
              "      <td>1217116800000</td>\n",
              "      <td>11</td>\n",
              "      <td>7</td>\n",
              "      <td>2</td>\n",
              "      <td>25.95</td>\n",
              "    </tr>\n",
              "    <tr>\n",
              "      <th>85</th>\n",
              "      <td>110</td>\n",
              "      <td>http://www.amazon.com/Killer-View-Fleming-Ridl...</td>\n",
              "      <td>Ridley Pearson</td>\n",
              "      <td>Descr: A sheriff in Sun Valley, Idaho, investi...</td>\n",
              "      <td>Putnam</td>\n",
              "      <td>KILLER VIEW</td>\n",
              "      <td>5b4aa4ead3089013507db239</td>\n",
              "      <td>2008-07-19 00:00:00</td>\n",
              "      <td>1217721600000</td>\n",
              "      <td>15</td>\n",
              "      <td>0</td>\n",
              "      <td>1</td>\n",
              "      <td>24.95</td>\n",
              "    </tr>\n",
              "    <tr>\n",
              "      <th>109</th>\n",
              "      <td>143</td>\n",
              "      <td>http://www.amazon.com/Foreign-Body-Robin-Cook/...</td>\n",
              "      <td>Robin Cook</td>\n",
              "      <td>Descr: A medical student investigates a rising...</td>\n",
              "      <td>Putnam</td>\n",
              "      <td>FOREIGN BODY</td>\n",
              "      <td>5b4aa4ead3089013507db26f</td>\n",
              "      <td>2008-08-09 00:00:00</td>\n",
              "      <td>1219536000000</td>\n",
              "      <td>9</td>\n",
              "      <td>0</td>\n",
              "      <td>1</td>\n",
              "      <td>25.95</td>\n",
              "    </tr>\n",
              "    <tr>\n",
              "      <th>121</th>\n",
              "      <td>158</td>\n",
              "      <td>http://www.amazon.com/Foreign-Body-Robin-Cook/...</td>\n",
              "      <td>Robin Cook</td>\n",
              "      <td>Descr: A medical student investigates a rising...</td>\n",
              "      <td>Putnam</td>\n",
              "      <td>FOREIGN BODY</td>\n",
              "      <td>5b4aa4ead3089013507db287</td>\n",
              "      <td>2008-08-16 00:00:00</td>\n",
              "      <td>1220140800000</td>\n",
              "      <td>No Rank</td>\n",
              "      <td>9</td>\n",
              "      <td>2</td>\n",
              "      <td>25.95</td>\n",
              "    </tr>\n",
              "  </tbody>\n",
              "</table>\n",
              "</div>"
            ],
            "text/plain": [
              "     Unnamed: 0  ... price.numberDouble\n",
              "60           79  ...              25.95\n",
              "73           94  ...              25.95\n",
              "85          110  ...              24.95\n",
              "109         143  ...              25.95\n",
              "121         158  ...              25.95\n",
              "\n",
              "[5 rows x 13 columns]"
            ]
          },
          "metadata": {
            "tags": []
          },
          "execution_count": 10
        }
      ]
    },
    {
      "cell_type": "code",
      "metadata": {
        "id": "SvqsecAzS_CY"
      },
      "source": [
        ""
      ],
      "execution_count": null,
      "outputs": []
    }
  ]
}
