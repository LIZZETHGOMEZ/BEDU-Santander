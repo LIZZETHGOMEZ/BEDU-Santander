{
  "nbformat": 4,
  "nbformat_minor": 0,
  "metadata": {
    "colab": {
      "name": "Sesion_5.ipynb",
      "provenance": [],
      "authorship_tag": "ABX9TyN7pHttRW063IclkK8tdLIS",
      "include_colab_link": true
    },
    "kernelspec": {
      "name": "python3",
      "display_name": "Python 3"
    },
    "language_info": {
      "name": "python"
    }
  },
  "cells": [
    {
      "cell_type": "markdown",
      "metadata": {
        "id": "view-in-github",
        "colab_type": "text"
      },
      "source": [
        "<a href=\"https://colab.research.google.com/github/LIZZETHGOMEZ/Data-Sciene-BEDU-Santander-2021/blob/main/Machine%20Learning/Sesion_5.ipynb\" target=\"_parent\"><img src=\"https://colab.research.google.com/assets/colab-badge.svg\" alt=\"Open In Colab\"/></a>"
      ]
    },
    {
      "cell_type": "markdown",
      "metadata": {
        "id": "tkS_qwcaOf7Y"
      },
      "source": [
        "# Sesión 5: Árboles de Decisión / Random Forest"
      ]
    },
    {
      "cell_type": "code",
      "metadata": {
        "id": "55dAEf4eOftR"
      },
      "source": [
        "import numpy as np\n",
        "from sklearn import tree as TreeClassifier\n",
        "from sklearn.ensemble import RandomForestClassifier as forest\n",
        "from matplotlib import pyplot as plt"
      ],
      "execution_count": 9,
      "outputs": []
    },
    {
      "cell_type": "code",
      "metadata": {
        "id": "ftS2r9W-Ob5N"
      },
      "source": [
        "y = [\"Antonio\",\"Lizzeth\", \"Soph\", \"Alex\", \"Rafa\"]\n",
        "\n",
        "# Los rubros del array son:\n",
        "# Cabello largo, usa lentes, usa sombrero, es mujer, tiene bigote, tiene ojos claros, cuando cada entrada = 1\n",
        "x= np. array([[0,0,0,0,1,1],\n",
        "             [1,0,0,1,0,0],\n",
        "             [0,0,0,1,0,1],\n",
        "             [0,1,0,0,1,1],\n",
        "             [0,0,1,0,1,1]])\n"
      ],
      "execution_count": 10,
      "outputs": []
    },
    {
      "cell_type": "code",
      "metadata": {
        "id": "eYVActS8K8MN"
      },
      "source": [
        "decision = treeClassifier.DecisionTreeClassifier(random_state = 50)\n",
        "decision = decision.fit(x,y)"
      ],
      "execution_count": 11,
      "outputs": []
    },
    {
      "cell_type": "code",
      "metadata": {
        "colab": {
          "base_uri": "https://localhost:8080/"
        },
        "id": "ZUQz-TRjP4ZK",
        "outputId": "ad216978-9969-4e8c-97bd-b56e75c85d38"
      },
      "source": [
        "Adivinaquien = [True]*len(y)\n",
        "print(y)"
      ],
      "execution_count": 3,
      "outputs": [
        {
          "output_type": "stream",
          "name": "stdout",
          "text": [
            "['Antonio', 'Lizzeth', 'Soph', 'Alex', 'Rafa']\n"
          ]
        }
      ]
    },
    {
      "cell_type": "code",
      "metadata": {
        "colab": {
          "base_uri": "https://localhost:8080/"
        },
        "id": "vXebZUz4LxcS",
        "outputId": "51a7dff9-22dc-4c4a-f1be-979218ee3307"
      },
      "source": [
        "char = np.array([[0,0,0,1,0,1]], dtype = np.int16)\n",
        "print(\"El personaje que sabemos es mujer con ojos claros\")\n",
        "print(decision.predict(char))"
      ],
      "execution_count": 14,
      "outputs": [
        {
          "output_type": "stream",
          "name": "stdout",
          "text": [
            "El personaje que sabemos es mujer con ojos claros\n",
            "['Soph']\n"
          ]
        }
      ]
    },
    {
      "cell_type": "markdown",
      "metadata": {
        "id": "WN3UKMWOMdtt"
      },
      "source": [
        "Hacemos la estimación del adivinado a través del Random Forest"
      ]
    },
    {
      "cell_type": "code",
      "metadata": {
        "id": "lEbF92EwQZyZ",
        "colab": {
          "base_uri": "https://localhost:8080/"
        },
        "outputId": "478f0706-8227-4b62-9468-b39fd2c432d2"
      },
      "source": [
        "# Modelo de Random Forest\n",
        "arboles = forest(n_estimators= 5000, random_state = 50)\n",
        "arboles.fit(x,y)"
      ],
      "execution_count": 15,
      "outputs": [
        {
          "output_type": "execute_result",
          "data": {
            "text/plain": [
              "RandomForestClassifier(bootstrap=True, ccp_alpha=0.0, class_weight=None,\n",
              "                       criterion='gini', max_depth=None, max_features='auto',\n",
              "                       max_leaf_nodes=None, max_samples=None,\n",
              "                       min_impurity_decrease=0.0, min_impurity_split=None,\n",
              "                       min_samples_leaf=1, min_samples_split=2,\n",
              "                       min_weight_fraction_leaf=0.0, n_estimators=5000,\n",
              "                       n_jobs=None, oob_score=False, random_state=50, verbose=0,\n",
              "                       warm_start=False)"
            ]
          },
          "metadata": {},
          "execution_count": 15
        }
      ]
    },
    {
      "cell_type": "code",
      "metadata": {
        "colab": {
          "base_uri": "https://localhost:8080/"
        },
        "id": "r5rDffhsKz8I",
        "outputId": "1c0521c4-fdba-4509-8f6b-ee659268ba9c"
      },
      "source": [
        "print(\"El adivinado que arroja el bosque sería\")\n",
        "print(arboles.predict(np.array([[0,0,0,1,0,1]], dtype = np.int16)))"
      ],
      "execution_count": 16,
      "outputs": [
        {
          "output_type": "stream",
          "name": "stdout",
          "text": [
            "El adivinado que arroja el bosque sería\n",
            "['Soph']\n"
          ]
        }
      ]
    },
    {
      "cell_type": "code",
      "metadata": {
        "id": "SzoGCbhGMVFE"
      },
      "source": [
        ""
      ],
      "execution_count": null,
      "outputs": []
    }
  ]
}