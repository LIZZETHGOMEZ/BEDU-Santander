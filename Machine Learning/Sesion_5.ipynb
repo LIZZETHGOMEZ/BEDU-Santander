{
  "nbformat": 4,
  "nbformat_minor": 0,
  "metadata": {
    "colab": {
      "name": "Sesion_5.ipynb",
      "provenance": [],
      "authorship_tag": "ABX9TyNG9GZ8ndIko7RkxnoePsrw",
      "include_colab_link": true
    },
    "kernelspec": {
      "name": "python3",
      "display_name": "Python 3"
    },
    "language_info": {
      "name": "python"
    }
  },
  "cells": [
    {
      "cell_type": "markdown",
      "metadata": {
        "id": "view-in-github",
        "colab_type": "text"
      },
      "source": [
        "<a href=\"https://colab.research.google.com/github/LIZZETHGOMEZ/Data-Sciene-BEDU-Santander-2021/blob/main/Machine%20Learning/Sesion_5.ipynb\" target=\"_parent\"><img src=\"https://colab.research.google.com/assets/colab-badge.svg\" alt=\"Open In Colab\"/></a>"
      ]
    },
    {
      "cell_type": "markdown",
      "metadata": {
        "id": "tkS_qwcaOf7Y"
      },
      "source": [
        "# Sesión 5: Árboles de Decisión / Random Forest"
      ]
    },
    {
      "cell_type": "code",
      "metadata": {
        "id": "55dAEf4eOftR"
      },
      "source": [
        "import numpy as np\n",
        "from sklearn import tree as treeClassifier\n",
        "from sklearn.ensemble import RandomForestClassifier as forest\n",
        "from matplotlib import pyplot as plt"
      ],
      "execution_count": 7,
      "outputs": []
    },
    {
      "cell_type": "code",
      "metadata": {
        "id": "ftS2r9W-Ob5N"
      },
      "source": [
        "y = [\"Antonio\",\"Lizzeth\", \"Soph\", \"Alex\", \"Rafa\"]\n",
        "\n",
        "# Los rubros del array son:\n",
        "# Cabello largo, usa lentes, usa sombrero, es mujer, tiene bigote, tiene ojos claros, cuando cada entrada = 1\n",
        "x= np. array([[0,0,0,0,1,1],\n",
        "             [1,0,0,1,0,0],\n",
        "             [0,0,0,1,0,1],\n",
        "             [0,1,0,0,1,1],\n",
        "             [0,0,1,0,1,1]])\n"
      ],
      "execution_count": 36,
      "outputs": []
    },
    {
      "cell_type": "code",
      "metadata": {
        "id": "eYVActS8K8MN"
      },
      "source": [
        "decision = treeClassifier.DecisionTreeClassifier(random_state = 50)\n",
        "decision = decision.fit(x,y)"
      ],
      "execution_count": 37,
      "outputs": []
    },
    {
      "cell_type": "code",
      "metadata": {
        "colab": {
          "base_uri": "https://localhost:8080/"
        },
        "id": "ZUQz-TRjP4ZK",
        "outputId": "23bedebb-7648-4122-c103-8d702ace9ba3"
      },
      "source": [
        "Adivinaquien = [True]*len(y)\n",
        "print(y)"
      ],
      "execution_count": 38,
      "outputs": [
        {
          "output_type": "stream",
          "name": "stdout",
          "text": [
            "['Antonio', 'Lizzeth', 'Soph', 'Alex', 'Rafa']\n"
          ]
        }
      ]
    },
    {
      "cell_type": "code",
      "metadata": {
        "colab": {
          "base_uri": "https://localhost:8080/"
        },
        "id": "vXebZUz4LxcS",
        "outputId": "e9872d29-f558-4037-83fd-48dcf689e9d2"
      },
      "source": [
        "char = np.array([[0,0,0,1,0,0]], dtype = np.int16)\n",
        "print(\"El personaje que sabemos es mujer\")\n",
        "print(decision.predict(char))"
      ],
      "execution_count": 39,
      "outputs": [
        {
          "output_type": "stream",
          "name": "stdout",
          "text": [
            "El personaje que sabemos es mujer\n",
            "['Lizzeth']\n"
          ]
        }
      ]
    },
    {
      "cell_type": "code",
      "metadata": {
        "id": "oPfSof6aPLGD",
        "outputId": "85381e27-e894-499b-fc8d-efaa86a35218",
        "colab": {
          "base_uri": "https://localhost:8080/"
        }
      },
      "source": [
        "char = np.array([[0,0,0,1,0,1]], dtype = np.int16)\n",
        "print(\"El personaje que sabemos es mujer con ojos claros\")\n",
        "print(decision.predict(char))"
      ],
      "execution_count": 40,
      "outputs": [
        {
          "output_type": "stream",
          "name": "stdout",
          "text": [
            "El personaje que sabemos es mujer con ojos claros\n",
            "['Soph']\n"
          ]
        }
      ]
    },
    {
      "cell_type": "markdown",
      "metadata": {
        "id": "WN3UKMWOMdtt"
      },
      "source": [
        "Hacemos la estimación del adivinado a través del Random Forest"
      ]
    },
    {
      "cell_type": "code",
      "metadata": {
        "id": "lEbF92EwQZyZ",
        "colab": {
          "base_uri": "https://localhost:8080/"
        },
        "outputId": "9b9f06d1-c51c-46ae-ca34-07fceb09af3f"
      },
      "source": [
        "# Modelo de Random Forest\n",
        "arboles = forest(n_estimators= 5000, random_state = 50)\n",
        "arboles.fit(x,y)"
      ],
      "execution_count": 41,
      "outputs": [
        {
          "output_type": "execute_result",
          "data": {
            "text/plain": [
              "RandomForestClassifier(bootstrap=True, ccp_alpha=0.0, class_weight=None,\n",
              "                       criterion='gini', max_depth=None, max_features='auto',\n",
              "                       max_leaf_nodes=None, max_samples=None,\n",
              "                       min_impurity_decrease=0.0, min_impurity_split=None,\n",
              "                       min_samples_leaf=1, min_samples_split=2,\n",
              "                       min_weight_fraction_leaf=0.0, n_estimators=5000,\n",
              "                       n_jobs=None, oob_score=False, random_state=50, verbose=0,\n",
              "                       warm_start=False)"
            ]
          },
          "metadata": {},
          "execution_count": 41
        }
      ]
    },
    {
      "cell_type": "code",
      "metadata": {
        "colab": {
          "base_uri": "https://localhost:8080/"
        },
        "id": "r5rDffhsKz8I",
        "outputId": "822ad55e-4d69-4dc0-e002-fd6940eeb5fb"
      },
      "source": [
        "print(\"El adivinado que arroja el bosque sería\")\n",
        "print(arboles.predict(np.array([[0,0,0,1,0,1]], dtype = np.int16)))"
      ],
      "execution_count": 42,
      "outputs": [
        {
          "output_type": "stream",
          "name": "stdout",
          "text": [
            "El adivinado que arroja el bosque sería\n",
            "['Soph']\n"
          ]
        }
      ]
    },
    {
      "cell_type": "code",
      "metadata": {
        "id": "SzoGCbhGMVFE",
        "outputId": "bd9196f8-f8ee-4638-88ae-3462f9351f9d",
        "colab": {
          "base_uri": "https://localhost:8080/",
          "height": 411
        }
      },
      "source": [
        "plt.figure(figsize = (7,7))\n",
        "treeClassifier.plot_tree(arboles.estimators_[0], filled = True)\n",
        "plt.show()"
      ],
      "execution_count": 43,
      "outputs": [
        {
          "output_type": "display_data",
          "data": {
            "image/png": "[encoded data removed]",
            "text/plain": [
              "<Figure size 504x504 with 1 Axes>"
            ]
          },
          "metadata": {
            "needs_background": "light"
          }
        }
      ]
    },
    {
      "cell_type": "code",
      "metadata": {
        "id": "9PQ88CT2OL5W"
      },
      "source": [
        ""
      ],
      "execution_count": null,
      "outputs": []
    }
  ]
}