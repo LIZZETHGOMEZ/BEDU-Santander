{
  "nbformat": 4,
  "nbformat_minor": 0,
  "metadata": {
    "colab": {
      "name": "Sesion 2.ipynb",
      "provenance": [],
      "authorship_tag": "ABX9TyPBYhxrS2vBc9VeAeA/0WzD",
      "include_colab_link": true
    },
    "kernelspec": {
      "name": "python3",
      "display_name": "Python 3"
    },
    "language_info": {
      "name": "python"
    }
  },
  "cells": [
    {
      "cell_type": "markdown",
      "metadata": {
        "id": "view-in-github",
        "colab_type": "text"
      },
      "source": [
        "<a href=\"https://colab.research.google.com/github/LIZZETHGOMEZ/Data-Sciene-BEDU-Santander-2021/blob/main/Sesion_2.ipynb\" target=\"_parent\"><img src=\"https://colab.research.google.com/assets/colab-badge.svg\" alt=\"Open In Colab\"/></a>"
      ]
    },
    {
      "cell_type": "code",
      "metadata": {
        "id": "vHFfKy5BCdwn"
      },
      "source": [
        "import numpy as np\n",
        "import pandas as pd\n",
        "from matplotlib import pyplot as plt\n",
        "from sklearn.datasets.samples_generator import make_blobs\n",
        "from sklearn.model_selection import train_test_split"
      ],
      "execution_count": 3,
      "outputs": []
    },
    {
      "cell_type": "code",
      "metadata": {
        "colab": {
          "base_uri": "https://localhost:8080/",
          "height": 266
        },
        "id": "R-tfe3ONeiNN",
        "outputId": "b291575c-4544-40ae-f607-fc8605c3807a"
      },
      "source": [
        "# Almacenamos blobs\n",
        "x, y = make_blobs(n_samples = 1000, centers = 5, n_features = 2, random_state = 48)\n",
        "plt.scatter(x[:,0], x[:,1], c=y)\n",
        "plt.show()"
      ],
      "execution_count": 4,
      "outputs": [
        {
          "output_type": "display_data",
          "data": {
            "image/png": "[encoded data removed]",
            "text/plain": [
              "<Figure size 432x288 with 1 Axes>"
            ]
          },
          "metadata": {
            "needs_background": "light"
          }
        }
      ]
    },
    {
      "cell_type": "code",
      "metadata": {
        "colab": {
          "base_uri": "https://localhost:8080/"
        },
        "id": "AX8Bs3QPfM96",
        "outputId": "74933229-8217-4a94-badd-eb3e74c01851"
      },
      "source": [
        "def particionar(entradas, salidas, porcentaje_entrenamiento, porcentaje_validacion, porcentaje_prueba):\n",
        "    temp_size = porcentaje_validacion + porcentaje_prueba\n",
        "    print(temp_size)\n",
        "    x_train, x_temp, y_train, y_temp = train_test_split(entradas, salidas, test_size = temp_size)\n",
        "    \n",
        "    if(porcentaje_validacion > 0):\n",
        "        test_size = porcentaje_prueba/temp_size\n",
        "        x_val, x_test, y_val, y_test = train_test_split(x_temp, y_temp, test_size = test_size)\n",
        "    else:\n",
        "        return [x_train, None, x_temp, y_train, None, y_temp]\n",
        "    return [x_train, x_val, x_test, y_train, y_val, y_test]\n",
        "\n",
        "\n",
        "# Aplicamos funcion con los parametros deseados\n",
        "# Utilizanso los datos previamente almacenados en blobs\n",
        "[x_train, x_val, x_test, y_train, y_val, y_test] = particionar(x, y, 0.60, 0.10, 0.30) \n",
        "\n",
        "print(x_train.shape)\n",
        "print(x_val.shape)\n",
        "print(x_test.shape)"
      ],
      "execution_count": 5,
      "outputs": [
        {
          "output_type": "stream",
          "name": "stdout",
          "text": [
            "0.4\n",
            "(600, 2)\n",
            "(100, 2)\n",
            "(300, 2)\n"
          ]
        }
      ]
    },
    {
      "cell_type": "markdown",
      "metadata": {
        "id": "3-I4TmiX5KH5"
      },
      "source": [
        "Separación de datos con K-Fold"
      ]
    },
    {
      "cell_type": "code",
      "metadata": {
        "id": "6oozDr1B42Xi"
      },
      "source": [
        "import numpy as np\n",
        "from sklearn.model_selection import KFold"
      ],
      "execution_count": 6,
      "outputs": []
    },
    {
      "cell_type": "code",
      "metadata": {
        "colab": {
          "base_uri": "https://localhost:8080/"
        },
        "id": "Yc3WQ4hW5PhR",
        "outputId": "c0ead513-56c9-4d57-de2b-e9b553bd9f8f"
      },
      "source": [
        "data = np.array([1,2,3,4,5,6,7,8,9,10,11,12])\n",
        "\n",
        "# Determinamos cuantos ciclos queremos y a partir de ello se hace la partición\n",
        "K = 4\n",
        "random_seed = 48\n",
        "aleatorio = True\n",
        "\n",
        "kfold = KFold(K, aleatorio, random_seed)\n",
        "ciclo = 1\n",
        "for indices_train, indices_test in kfold.split(data):\n",
        "    print(\"Ciclo: \"+str(ciclo))\n",
        "    print(\"\\t datos para entrenamiento:\"+str(data[indices_train]))\n",
        "    print(\"\\t datos para prueba:\"+str(data[indices_test]))\n",
        "    ciclo+=1"
      ],
      "execution_count": 8,
      "outputs": [
        {
          "output_type": "stream",
          "name": "stdout",
          "text": [
            "Ciclo: 1\n",
            "\t datos para entrenamiento:[ 1  2  3  4  5  7 11 12]\n",
            "\t datos para prueba:[ 6  8  9 10]\n",
            "Ciclo: 2\n",
            "\t datos para entrenamiento:[ 1  2  4  5  6  8  9 10]\n",
            "\t datos para prueba:[ 3  7 11 12]\n",
            "Ciclo: 3\n",
            "\t datos para entrenamiento:[ 3  6  7  8  9 10 11 12]\n",
            "\t datos para prueba:[1 2 4 5]\n"
          ]
        }
      ]
    },
    {
      "cell_type": "code",
      "metadata": {
        "id": "jdx4_PhT6wB3"
      },
      "source": [
        "# Ahora separamos eligiendo las particiones\n",
        "data = np.array([1,2,3,4,5,6,7,8,9,10,11,12])\n",
        "\n",
        "K = data.shape[0] # K = numero de muestras...\n",
        "random_seed = 48\n",
        "aleatorio = True\n",
        "\n",
        "kfold = KFold(K, aleatorio, random_seed)\n",
        "ciclo = 1\n",
        "for indices_train, indices_test in kfold.split(data):\n",
        "    print(\"Ciclo: \"+str(ciclo))\n",
        "    print(\"\\t datos para entrenamiento:\"+str(data[indices_train]))\n",
        "    print(\"\\t datos para prueba:\"+str(data[indices_test]))\n",
        "    ciclo+=1"
      ],
      "execution_count": null,
      "outputs": []
    },
    {
      "cell_type": "code",
      "metadata": {
        "id": "I9ehxgBF5WZ0"
      },
      "source": [
        ""
      ],
      "execution_count": null,
      "outputs": []
    }
  ]
}