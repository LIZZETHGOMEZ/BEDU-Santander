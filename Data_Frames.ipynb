{
  "nbformat": 4,
  "nbformat_minor": 0,
  "metadata": {
    "colab": {
      "name": "Data Frames.ipynb",
      "provenance": [],
      "authorship_tag": "ABX9TyPCoVAQsoOehkH+ZVNdjqxp",
      "include_colab_link": true
    },
    "kernelspec": {
      "name": "python3",
      "display_name": "Python 3"
    },
    "language_info": {
      "name": "python"
    }
  },
  "cells": [
    {
      "cell_type": "markdown",
      "metadata": {
        "id": "view-in-github",
        "colab_type": "text"
      },
      "source": [
        "<a href=\"https://colab.research.google.com/github/LIZZETHGOMEZ/BEDU-Santander-2021/blob/main/Data_Frames.ipynb\" target=\"_parent\"><img src=\"https://colab.research.google.com/assets/colab-badge.svg\" alt=\"Open In Colab\"/></a>"
      ]
    },
    {
      "cell_type": "markdown",
      "metadata": {
        "id": "8iGF5SMPcG_x"
      },
      "source": [
        "### Data Frames"
      ]
    },
    {
      "cell_type": "code",
      "metadata": {
        "id": "Ih-zzZ4HcFZN"
      },
      "source": [
        "import pandas as pd"
      ],
      "execution_count": 41,
      "outputs": []
    },
    {
      "cell_type": "code",
      "metadata": {
        "colab": {
          "base_uri": "https://localhost:8080/"
        },
        "id": "pJ1ZbWdfewJL",
        "outputId": "8a2189ef-e587-4c50-b288-f2d2a6b3ddeb"
      },
      "source": [
        "# Serie con datos de tipo enteros\n",
        "serie_1 = pd.Series([3,6,8,12])\n",
        "serie_1"
      ],
      "execution_count": 22,
      "outputs": [
        {
          "output_type": "execute_result",
          "data": {
            "text/plain": [
              "0     3\n",
              "1     6\n",
              "2     8\n",
              "3    12\n",
              "dtype: int64"
            ]
          },
          "metadata": {
            "tags": []
          },
          "execution_count": 22
        }
      ]
    },
    {
      "cell_type": "code",
      "metadata": {
        "colab": {
          "base_uri": "https://localhost:8080/"
        },
        "id": "gaC9wTYWfNuQ",
        "outputId": "01d1fb71-e50d-4bf7-9dd1-8010bdd4ebc5"
      },
      "source": [
        "# serie con datos tipo objetos\n",
        "serie_2 = pd.Series([\"objeto_1\", \"obj_2\"])\n",
        "serie_2"
      ],
      "execution_count": 5,
      "outputs": [
        {
          "output_type": "execute_result",
          "data": {
            "text/plain": [
              "0    objeto_1\n",
              "1       obj_2\n",
              "dtype: object"
            ]
          },
          "metadata": {
            "tags": []
          },
          "execution_count": 5
        }
      ]
    },
    {
      "cell_type": "code",
      "metadata": {
        "colab": {
          "base_uri": "https://localhost:8080/"
        },
        "id": "BTX3I0JgftYW",
        "outputId": "8ea5180a-f3b9-4f7a-d3bf-975317cc9392"
      },
      "source": [
        "# Podemos indexar con nuestros propios indices\n",
        "serie_3 = pd.Series([2,3,4,5], index = [10,11,12,13])\n",
        "serie_3"
      ],
      "execution_count": 8,
      "outputs": [
        {
          "output_type": "execute_result",
          "data": {
            "text/plain": [
              "10    2\n",
              "11    3\n",
              "12    4\n",
              "13    5\n",
              "dtype: int64"
            ]
          },
          "metadata": {
            "tags": []
          },
          "execution_count": 8
        }
      ]
    },
    {
      "cell_type": "code",
      "metadata": {
        "id": "Xa73Fo7ZgHKB"
      },
      "source": [
        "datos = {\n",
        "    \"Lizzeth\":24,\n",
        "    \"Edgar\" :26,\n",
        "    \"Omar\" : 22\n",
        "}"
      ],
      "execution_count": 9,
      "outputs": []
    },
    {
      "cell_type": "code",
      "metadata": {
        "colab": {
          "base_uri": "https://localhost:8080/"
        },
        "id": "54QHk4YQhkVu",
        "outputId": "9d785db9-f4ea-4ccc-b323-d36c038af723"
      },
      "source": [
        "serie_4 = pd.Series(datos)\n",
        "serie_4"
      ],
      "execution_count": 11,
      "outputs": [
        {
          "output_type": "execute_result",
          "data": {
            "text/plain": [
              "Lizzeth    24\n",
              "Edgar      26\n",
              "Omar       22\n",
              "dtype: int64"
            ]
          },
          "metadata": {
            "tags": []
          },
          "execution_count": 11
        }
      ]
    },
    {
      "cell_type": "code",
      "metadata": {
        "colab": {
          "base_uri": "https://localhost:8080/"
        },
        "id": "lMEXbp_-hoR8",
        "outputId": "631e1a39-bdec-4f96-8623-c5e0ec071f09"
      },
      "source": [
        "#Acceder a las series con los indices que se colocaron\n",
        "serie_1.loc[2]"
      ],
      "execution_count": 15,
      "outputs": [
        {
          "output_type": "execute_result",
          "data": {
            "text/plain": [
              "8"
            ]
          },
          "metadata": {
            "tags": []
          },
          "execution_count": 15
        }
      ]
    },
    {
      "cell_type": "code",
      "metadata": {
        "colab": {
          "base_uri": "https://localhost:8080/"
        },
        "id": "4Pd8OyP2hw7E",
        "outputId": "3632ddd7-39e0-463d-adf7-abecc7991d45"
      },
      "source": [
        "serie_4.loc[\"Lizzeth\":\"Edgar\"]"
      ],
      "execution_count": 31,
      "outputs": [
        {
          "output_type": "execute_result",
          "data": {
            "text/plain": [
              "Lizzeth    24\n",
              "Edgar      26\n",
              "dtype: int64"
            ]
          },
          "metadata": {
            "tags": []
          },
          "execution_count": 31
        }
      ]
    },
    {
      "cell_type": "code",
      "metadata": {
        "colab": {
          "base_uri": "https://localhost:8080/"
        },
        "id": "jesTT4Sth6wB",
        "outputId": "335b2199-419f-4358-96a1-d4296abfd14c"
      },
      "source": [
        "# Usando iloc para acceder con el indice de python que conocemos desde 0:n\n",
        "serie_3.iloc[0]"
      ],
      "execution_count": 18,
      "outputs": [
        {
          "output_type": "execute_result",
          "data": {
            "text/plain": [
              "2"
            ]
          },
          "metadata": {
            "tags": []
          },
          "execution_count": 18
        }
      ]
    },
    {
      "cell_type": "code",
      "metadata": {
        "colab": {
          "base_uri": "https://localhost:8080/"
        },
        "id": "nrEJhDMmiJtK",
        "outputId": "0adc1d3b-55d4-43b0-91c1-0648a8b783d9"
      },
      "source": [
        "serie_4.iloc[0]\n",
        "# serie_4.iloc[[0]]"
      ],
      "execution_count": 26,
      "outputs": [
        {
          "output_type": "execute_result",
          "data": {
            "text/plain": [
              "Lizzeth    24\n",
              "dtype: int64"
            ]
          },
          "metadata": {
            "tags": []
          },
          "execution_count": 26
        }
      ]
    },
    {
      "cell_type": "code",
      "metadata": {
        "colab": {
          "base_uri": "https://localhost:8080/"
        },
        "id": "k1K-ah9QiX91",
        "outputId": "859566cc-d183-4280-8880-776d827baf89"
      },
      "source": [
        "#Puedo jalar subseries y ordenarlas como quiero\n",
        "serie_1.loc[[3,0,1]]"
      ],
      "execution_count": 24,
      "outputs": [
        {
          "output_type": "execute_result",
          "data": {
            "text/plain": [
              "3    12\n",
              "0     3\n",
              "1     6\n",
              "dtype: int64"
            ]
          },
          "metadata": {
            "tags": []
          },
          "execution_count": 24
        }
      ]
    },
    {
      "cell_type": "code",
      "metadata": {
        "colab": {
          "base_uri": "https://localhost:8080/"
        },
        "id": "sKS47dDZmIr6",
        "outputId": "ea4c165c-4a82-4613-967b-789aba4c721f"
      },
      "source": [
        "#Puedo jalar subseries y ordenarlas como quiero\n",
        "serie_4.iloc[[1,0]]"
      ],
      "execution_count": 27,
      "outputs": [
        {
          "output_type": "execute_result",
          "data": {
            "text/plain": [
              "Edgar      26\n",
              "Lizzeth    24\n",
              "dtype: int64"
            ]
          },
          "metadata": {
            "tags": []
          },
          "execution_count": 27
        }
      ]
    },
    {
      "cell_type": "markdown",
      "metadata": {
        "id": "La5AApw6sgte"
      },
      "source": [
        "### Data Frames"
      ]
    },
    {
      "cell_type": "code",
      "metadata": {
        "id": "WTEqIJt-mdBz"
      },
      "source": [
        "datos = {\n",
        "    \"columna_1\" : [\"valor1\", \"valor_2\"],\n",
        "    \"columna_2\" : [\"valo3\", \"valor_4\"]\n",
        "}"
      ],
      "execution_count": 46,
      "outputs": []
    },
    {
      "cell_type": "code",
      "metadata": {
        "colab": {
          "base_uri": "https://localhost:8080/",
          "height": 111
        },
        "id": "BmPeUcSws0WR",
        "outputId": "8609e308-c9fb-4030-9a9a-104408494b59"
      },
      "source": [
        "df = pd.DataFrame(datos)\n",
        "df"
      ],
      "execution_count": 47,
      "outputs": [
        {
          "output_type": "execute_result",
          "data": {
            "text/html": [
              "<div>\n",
              "<style scoped>\n",
              "    .dataframe tbody tr th:only-of-type {\n",
              "        vertical-align: middle;\n",
              "    }\n",
              "\n",
              "    .dataframe tbody tr th {\n",
              "        vertical-align: top;\n",
              "    }\n",
              "\n",
              "    .dataframe thead th {\n",
              "        text-align: right;\n",
              "    }\n",
              "</style>\n",
              "<table border=\"1\" class=\"dataframe\">\n",
              "  <thead>\n",
              "    <tr style=\"text-align: right;\">\n",
              "      <th></th>\n",
              "      <th>columna_1</th>\n",
              "      <th>columna_2</th>\n",
              "    </tr>\n",
              "  </thead>\n",
              "  <tbody>\n",
              "    <tr>\n",
              "      <th>0</th>\n",
              "      <td>valor1</td>\n",
              "      <td>valo3</td>\n",
              "    </tr>\n",
              "    <tr>\n",
              "      <th>1</th>\n",
              "      <td>valor_2</td>\n",
              "      <td>valor_4</td>\n",
              "    </tr>\n",
              "  </tbody>\n",
              "</table>\n",
              "</div>"
            ],
            "text/plain": [
              "  columna_1 columna_2\n",
              "0    valor1     valo3\n",
              "1   valor_2   valor_4"
            ]
          },
          "metadata": {
            "tags": []
          },
          "execution_count": 47
        }
      ]
    },
    {
      "cell_type": "code",
      "metadata": {
        "colab": {
          "base_uri": "https://localhost:8080/",
          "height": 80
        },
        "id": "dhTckqjvs5PD",
        "outputId": "f8104444-7ab8-4856-e1a8-d0bb5ff69805"
      },
      "source": [
        "# Jalamos las filas con la indexacion de py\n",
        "df.loc[[1]]"
      ],
      "execution_count": 49,
      "outputs": [
        {
          "output_type": "execute_result",
          "data": {
            "text/html": [
              "<div>\n",
              "<style scoped>\n",
              "    .dataframe tbody tr th:only-of-type {\n",
              "        vertical-align: middle;\n",
              "    }\n",
              "\n",
              "    .dataframe tbody tr th {\n",
              "        vertical-align: top;\n",
              "    }\n",
              "\n",
              "    .dataframe thead th {\n",
              "        text-align: right;\n",
              "    }\n",
              "</style>\n",
              "<table border=\"1\" class=\"dataframe\">\n",
              "  <thead>\n",
              "    <tr style=\"text-align: right;\">\n",
              "      <th></th>\n",
              "      <th>columna_1</th>\n",
              "      <th>columna_2</th>\n",
              "    </tr>\n",
              "  </thead>\n",
              "  <tbody>\n",
              "    <tr>\n",
              "      <th>1</th>\n",
              "      <td>valor_2</td>\n",
              "      <td>valor_4</td>\n",
              "    </tr>\n",
              "  </tbody>\n",
              "</table>\n",
              "</div>"
            ],
            "text/plain": [
              "  columna_1 columna_2\n",
              "1   valor_2   valor_4"
            ]
          },
          "metadata": {
            "tags": []
          },
          "execution_count": 49
        }
      ]
    },
    {
      "cell_type": "code",
      "metadata": {
        "colab": {
          "base_uri": "https://localhost:8080/",
          "height": 111
        },
        "id": "nkl5rZhfyIpa",
        "outputId": "529f4233-1046-4747-b1c6-d706f93e5f50"
      },
      "source": [
        "#Jalamos columnas\n",
        "df[[\"columna_1\"]]"
      ],
      "execution_count": 51,
      "outputs": [
        {
          "output_type": "execute_result",
          "data": {
            "text/html": [
              "<div>\n",
              "<style scoped>\n",
              "    .dataframe tbody tr th:only-of-type {\n",
              "        vertical-align: middle;\n",
              "    }\n",
              "\n",
              "    .dataframe tbody tr th {\n",
              "        vertical-align: top;\n",
              "    }\n",
              "\n",
              "    .dataframe thead th {\n",
              "        text-align: right;\n",
              "    }\n",
              "</style>\n",
              "<table border=\"1\" class=\"dataframe\">\n",
              "  <thead>\n",
              "    <tr style=\"text-align: right;\">\n",
              "      <th></th>\n",
              "      <th>columna_1</th>\n",
              "    </tr>\n",
              "  </thead>\n",
              "  <tbody>\n",
              "    <tr>\n",
              "      <th>0</th>\n",
              "      <td>valor1</td>\n",
              "    </tr>\n",
              "    <tr>\n",
              "      <th>1</th>\n",
              "      <td>valor_2</td>\n",
              "    </tr>\n",
              "  </tbody>\n",
              "</table>\n",
              "</div>"
            ],
            "text/plain": [
              "  columna_1\n",
              "0    valor1\n",
              "1   valor_2"
            ]
          },
          "metadata": {
            "tags": []
          },
          "execution_count": 51
        }
      ]
    },
    {
      "cell_type": "code",
      "metadata": {
        "colab": {
          "base_uri": "https://localhost:8080/"
        },
        "id": "bDm-yFkiygeN",
        "outputId": "7e21f2b3-1acd-47d5-e026-8121dc8a28c6"
      },
      "source": [
        "# Jalar un valor especifico (tipo coordenadas, fila, columna)\n",
        "df.loc[:1,\"columna_2\"]"
      ],
      "execution_count": 61,
      "outputs": [
        {
          "output_type": "execute_result",
          "data": {
            "text/plain": [
              "0      valo3\n",
              "1    valor_4\n",
              "Name: columna_2, dtype: object"
            ]
          },
          "metadata": {
            "tags": []
          },
          "execution_count": 61
        }
      ]
    },
    {
      "cell_type": "code",
      "metadata": {
        "id": "EOzcES6HywVZ"
      },
      "source": [
        ""
      ],
      "execution_count": null,
      "outputs": []
    }
  ]
}