{
  "nbformat": 4,
  "nbformat_minor": 0,
  "metadata": {
    "colab": {
      "name": "Sesion_3 Lambda y operadores lógicos.ipynb",
      "provenance": [],
      "authorship_tag": "ABX9TyMeGbUe0wO4Yc/GW7p+FWoh",
      "include_colab_link": true
    },
    "kernelspec": {
      "name": "python3",
      "display_name": "Python 3"
    },
    "language_info": {
      "name": "python"
    }
  },
  "cells": [
    {
      "cell_type": "markdown",
      "metadata": {
        "id": "view-in-github",
        "colab_type": "text"
      },
      "source": [
        "<a href=\"https://colab.research.google.com/github/LIZZETHGOMEZ/BEDU-Santander-2021/blob/main/Sesion_3_Lambda_y_operadores_l%C3%B3gicos.ipynb\" target=\"_parent\"><img src=\"https://colab.research.google.com/assets/colab-badge.svg\" alt=\"Open In Colab\"/></a>"
      ]
    },
    {
      "cell_type": "markdown",
      "metadata": {
        "id": "RDx7s0nUqBeE"
      },
      "source": [
        "### Sesión 3. Función lambda y operadores lógicos"
      ]
    },
    {
      "cell_type": "code",
      "metadata": {
        "id": "_8FJLodnqAbX"
      },
      "source": [
        "numeros = [1, 2, 3, 4, 5, 6, 7, 8, 9, 10]"
      ],
      "execution_count": 2,
      "outputs": []
    },
    {
      "cell_type": "code",
      "metadata": {
        "id": "Zle6n97pvBAx"
      },
      "source": [
        "numeros = list(range(1,11))"
      ],
      "execution_count": 15,
      "outputs": []
    },
    {
      "cell_type": "code",
      "metadata": {
        "id": "EzAfCUw3vUO9"
      },
      "source": [
        "def multiplicar_por_10(numero):\n",
        "  return numero*10"
      ],
      "execution_count": 20,
      "outputs": []
    },
    {
      "cell_type": "code",
      "metadata": {
        "colab": {
          "base_uri": "https://localhost:8080/"
        },
        "id": "rzoKFZhevzKA",
        "outputId": "f57a86f7-2577-4cbd-9709-b55413922778"
      },
      "source": [
        "# Nota, por eficiencia se recomienda evitar los for loops en la ciencia de datos\n",
        "# para iterar las listas usamos la funcioón map ()\n",
        "list(map(multiplcar_por_10, numeros))"
      ],
      "execution_count": 10,
      "outputs": [
        {
          "output_type": "execute_result",
          "data": {
            "text/plain": [
              "[10, 20, 30, 40, 50, 60, 70, 80, 90, 100]"
            ]
          },
          "metadata": {
            "tags": []
          },
          "execution_count": 10
        }
      ]
    },
    {
      "cell_type": "code",
      "metadata": {
        "colab": {
          "base_uri": "https://localhost:8080/"
        },
        "id": "J-ZsTWAIwL6N",
        "outputId": "a59a648f-480c-4088-e3ba-49e6a56b999d"
      },
      "source": [
        "# Para iterar con indices especificos y continuar evitando los loops:\n",
        "list(map(multiplcar_por_10, numeros[2:5]))"
      ],
      "execution_count": 11,
      "outputs": [
        {
          "output_type": "execute_result",
          "data": {
            "text/plain": [
              "[30, 40, 50]"
            ]
          },
          "metadata": {
            "tags": []
          },
          "execution_count": 11
        }
      ]
    },
    {
      "cell_type": "code",
      "metadata": {
        "id": "-X3bVi3Uy0c8"
      },
      "source": [
        "def numero_mayor_a_5(numero):\n",
        "  if numero > 5:\n",
        "    return True"
      ],
      "execution_count": 28,
      "outputs": []
    },
    {
      "cell_type": "code",
      "metadata": {
        "colab": {
          "base_uri": "https://localhost:8080/"
        },
        "id": "K-9m_So-43H5",
        "outputId": "f6919f6f-d27d-45d4-c934-11f24a94fcab"
      },
      "source": [
        "list(filter(numero_mayor_a_5, numeros))"
      ],
      "execution_count": 29,
      "outputs": [
        {
          "output_type": "execute_result",
          "data": {
            "text/plain": [
              "[6, 7, 8, 9, 10]"
            ]
          },
          "metadata": {
            "tags": []
          },
          "execution_count": 29
        }
      ]
    },
    {
      "cell_type": "markdown",
      "metadata": {
        "id": "RXOe5miINiKk"
      },
      "source": [
        "### Función lambda o función anónima"
      ]
    },
    {
      "cell_type": "code",
      "metadata": {
        "id": "_5QkbsEQ5H3Z"
      },
      "source": [
        "funcion_lambda = lambda numero: numero > 5"
      ],
      "execution_count": 33,
      "outputs": []
    },
    {
      "cell_type": "code",
      "metadata": {
        "colab": {
          "base_uri": "https://localhost:8080/"
        },
        "id": "vtImLxbEOGe_",
        "outputId": "fc726630-615d-45d1-8c50-c9b0c7e956f5"
      },
      "source": [
        "# Nota, se recomienda nunca hacer esto (guardar lambda en un objeto), por eso se llama funcion anonima\n",
        "funcion_lambda(6)"
      ],
      "execution_count": 34,
      "outputs": [
        {
          "output_type": "execute_result",
          "data": {
            "text/plain": [
              "True"
            ]
          },
          "metadata": {
            "tags": []
          },
          "execution_count": 34
        }
      ]
    },
    {
      "cell_type": "code",
      "metadata": {
        "id": "UaAa0GiAO_9y"
      },
      "source": [
        "def funcion_a_negar(y):\n",
        "  return y == 5"
      ],
      "execution_count": 35,
      "outputs": []
    },
    {
      "cell_type": "code",
      "metadata": {
        "colab": {
          "base_uri": "https://localhost:8080/"
        },
        "id": "iEF-oXM9ObPM",
        "outputId": "f2b4a597-9784-4b81-a1e8-555b1ac95e5d"
      },
      "source": [
        "list(filter(lambda x: not funcion_a_negar(x), numeros))"
      ],
      "execution_count": 36,
      "outputs": [
        {
          "output_type": "execute_result",
          "data": {
            "text/plain": [
              "[1, 2, 3, 4, 6, 7, 8, 9, 10]"
            ]
          },
          "metadata": {
            "tags": []
          },
          "execution_count": 36
        }
      ]
    },
    {
      "cell_type": "code",
      "metadata": {
        "id": "0L36fWxNPGEb"
      },
      "source": [
        ""
      ],
      "execution_count": null,
      "outputs": []
    }
  ]
}